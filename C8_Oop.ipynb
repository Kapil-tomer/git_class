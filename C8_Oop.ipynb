{
 "cells": [
  {
   "cell_type": "code",
   "execution_count": 1,
   "id": "dde4753d-82f6-47b9-81cc-ca43a5661a54",
   "metadata": {},
   "outputs": [],
   "source": [
    "#OBJECT ORIENT PROGRAMMING :: \n",
    "#TO MAP WITH REAL WORLD SCENARIOS, WE STARTED USING OBJECTS IN CODE. This process is called oop."
   ]
  },
  {
   "cell_type": "code",
   "execution_count": 5,
   "id": "29ffd05d-73fa-4ffc-8ce4-eeb9d786b8ed",
   "metadata": {},
   "outputs": [],
   "source": [
    "#class\n",
    "#object/stance\n"
   ]
  },
  {
   "cell_type": "code",
   "execution_count": null,
   "id": "3fde25e0-e70a-4e8d-b1e6-a0565ac68a97",
   "metadata": {},
   "outputs": [],
   "source": [
    "#Constructor:: Basically the init func"
   ]
  }
 ],
 "metadata": {
  "kernelspec": {
   "display_name": "Python 3 (ipykernel)",
   "language": "python",
   "name": "python3"
  },
  "language_info": {
   "codemirror_mode": {
    "name": "ipython",
    "version": 3
   },
   "file_extension": ".py",
   "mimetype": "text/x-python",
   "name": "python",
   "nbconvert_exporter": "python",
   "pygments_lexer": "ipython3",
   "version": "3.11.7"
  }
 },
 "nbformat": 4,
 "nbformat_minor": 5
}
