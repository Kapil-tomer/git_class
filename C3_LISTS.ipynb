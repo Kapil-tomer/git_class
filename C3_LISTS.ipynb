{
 "cells": [
  {
   "cell_type": "code",
   "execution_count": 1,
   "id": "6446b37a-2a46-498a-9992-f4f28d4b2f2f",
   "metadata": {},
   "outputs": [],
   "source": [
    "#LISTS :: A BUILT-IN DATA TYPE THAT STORES SET OF VALUES. MUTUABLE:: I.E PERMANENT CHANGES IN ORIGNAL LIST\n",
    "#IT CAN STORE ELEMENTS OF DIFF TYPES(INTEGER FLOAT STRING ETC)\n",
    "#TO STORE MULTIPLE VALUES N A SINGLE LIST, Eg- if you have to store the data of all the college studnts , it would be difficult to make \n",
    "#a variable for every student and then track it, rather, Student=[], store multiple names by just seperating them with comma\n",
    "#INDEX STARTS FROM 0\n",
    "#You can store elements of different types too. eg- string and int in same list\n",
    "#Lists are mutuable i.e that can change. Lists can be mutated on basis of index whereas strings could be accessed and not changed. \n"
   ]
  },
  {
   "cell_type": "code",
   "execution_count": 3,
   "id": "26e22ab5-7acb-4a9f-ab33-ecefd0f057e8",
   "metadata": {},
   "outputs": [],
   "source": [
    "#List Slicing : Getting a sublist, part of list \n",
    "#list_name[start_idx : ending idx]\n"
   ]
  },
  {
   "cell_type": "code",
   "execution_count": 8,
   "id": "d0331ca3-85f0-4ce1-a1c8-b55ad92b4a47",
   "metadata": {},
   "outputs": [
    {
     "name": "stdout",
     "output_type": "stream",
     "text": [
      "[1, 2, 3, 4, 5]\n"
     ]
    }
   ],
   "source": [
    "#LIST METHODS :: \n",
    "#Methods are specific where as functions are in genral for eg print() is a funtion where as list append is a method only for list\n",
    "#1. list.append(4): append means to add an element in the end, hence list.append is used to add the value or element in the end of the list\n",
    "\n",
    "list1=[1,2,3,4]\n",
    "list1.append(5)\n",
    "print(list1)"
   ]
  },
  {
   "cell_type": "code",
   "execution_count": 30,
   "id": "3b1c0641-d1b1-4cbb-b0cb-e6433b9423e7",
   "metadata": {},
   "outputs": [
    {
     "name": "stdout",
     "output_type": "stream",
     "text": [
      "[0, 2, 4, 5, 6, 8, 9]\n",
      "[2, 4, 6, 2, 3, 9, 6, 4]\n",
      "None\n"
     ]
    }
   ],
   "source": [
    "# list.sort() : it is used to sort the list in ascendig order\n",
    "list1=[4,6,2,5,8,9,0]\n",
    "list1.sort()\n",
    "print(list1) #list.sort() returns none value, so if we use print(list.sort()) , this will return none, changes would be made to the orignal list.\n",
    "\n",
    "list2=[2,4,6,2,3,9,6,4]\n",
    "print(list2)\n",
    "print(list2.sort())"
   ]
  },
  {
   "cell_type": "code",
   "execution_count": 31,
   "id": "ed143a1c-f379-4e92-9507-c8c64890a0bd",
   "metadata": {},
   "outputs": [
    {
     "name": "stdout",
     "output_type": "stream",
     "text": [
      "[9, 8, 6, 5, 4, 2, 0]\n"
     ]
    }
   ],
   "source": [
    "#list.sort(reverse=true) : used to sort is descending order\n",
    "list1.sort(reverse=True)    #Captital T\n",
    "print(list1)\n",
    "\n",
    "#we can also sort for strings in list"
   ]
  },
  {
   "cell_type": "code",
   "execution_count": 32,
   "id": "f2ac0e66-8af1-45ed-97ab-7d8ef12dfb75",
   "metadata": {},
   "outputs": [
    {
     "name": "stdout",
     "output_type": "stream",
     "text": [
      "[0, 2, 4, 5, 6, 8, 9]\n"
     ]
    }
   ],
   "source": [
    "#list.reverse() : used to reverse the list, changes are made to the orignal list. first element becomes tghe last and vice versa.\n",
    "list1.reverse()\n",
    "print(list1)"
   ]
  },
  {
   "cell_type": "code",
   "execution_count": 33,
   "id": "320c8b56-fdb4-4ac1-947f-5567027bf3c7",
   "metadata": {},
   "outputs": [
    {
     "name": "stdout",
     "output_type": "stream",
     "text": [
      "[0, 2, 4, 5, 'kapil', 6, 8, 9]\n"
     ]
    }
   ],
   "source": [
    "#list.insert(idx,el) : Insert element at any specific index, similar to append but here we can add on specific index.\n",
    "#idx - which index, el : element\n",
    "list1.insert(4,\"kapil\")\n",
    "print(list1)\n"
   ]
  },
  {
   "cell_type": "code",
   "execution_count": 34,
   "id": "b904ebca-b373-446e-b0b1-bdef1fdd0654",
   "metadata": {},
   "outputs": [
    {
     "name": "stdout",
     "output_type": "stream",
     "text": [
      "[0, 4, 5, 'kapil', 8, 9]\n"
     ]
    }
   ],
   "source": [
    "#list.remove(): To remove the first occurance of an element\n",
    "#list.pop(idx): To remove the occurance of an element from the specific index\n",
    "list1.remove(2)\n",
    "list1.pop(4)\n",
    "print(list1)  #kapil is not deleted here despite being at 4 initially cause 2 was removed and index changed."
   ]
  },
  {
   "cell_type": "code",
   "execution_count": 37,
   "id": "29659bf5-3126-472c-82dd-9e06f21274e2",
   "metadata": {},
   "outputs": [
    {
     "name": "stdout",
     "output_type": "stream",
     "text": [
      "[0, 4, 5, 'kapil', 8, 9]\n"
     ]
    }
   ],
   "source": [
    "#list.copy(): use to copy a list \n",
    "list4=list1.copy()\n",
    "print(list4)"
   ]
  },
  {
   "cell_type": "code",
   "execution_count": 45,
   "id": "b857afb8-5142-45b3-809d-c2d24e596838",
   "metadata": {},
   "outputs": [
    {
     "name": "stdout",
     "output_type": "stream",
     "text": [
      "1\n"
     ]
    }
   ],
   "source": [
    "#list.count() : To count the number of occurances of a specific element in a list.\n",
    "print(list4.count(\"kapil\"))"
   ]
  },
  {
   "cell_type": "code",
   "execution_count": 62,
   "id": "ebcf2f25-3cd8-49ca-87eb-c975d811990d",
   "metadata": {},
   "outputs": [
    {
     "name": "stdin",
     "output_type": "stream",
     "text": [
      "enter the name of the first movie:  k\n",
      "enter the name of the second movie:  l\n",
      "enter the name of the third movie:  j\n"
     ]
    },
    {
     "name": "stdout",
     "output_type": "stream",
     "text": [
      "['k', 'l', 'j']\n"
     ]
    },
    {
     "name": "stdin",
     "output_type": "stream",
     "text": [
      "enter the name of the first movie:  k\n",
      "enter the name of the second movie:  l\n",
      "enter the name of the third movie:  j\n"
     ]
    },
    {
     "name": "stdout",
     "output_type": "stream",
     "text": [
      "['k', 'l', 'j']\n"
     ]
    },
    {
     "name": "stdin",
     "output_type": "stream",
     "text": [
      "enter the name :  h\n"
     ]
    },
    {
     "name": "stdout",
     "output_type": "stream",
     "text": [
      "['k', 'l', 'j', 'h']\n"
     ]
    }
   ],
   "source": [
    "#WAP TO ASK THE USER TO ENTER NAMES OF THEIR FAVORITE MOVIES AND STORE THEM IN THE LIST\n",
    "#by append ::\n",
    "\n",
    "list_movies=[]\n",
    "a=input(\"enter the name of the first movie: \")\n",
    "list_movies.append(a)\n",
    "a=input(\"enter the name of the second movie: \")\n",
    "list_movies.append(a)\n",
    "a=input(\"enter the name of the third movie: \")\n",
    "list_movies.append(a)\n",
    "print(list_movies)\n",
    "\n",
    "#by insert\n",
    "\n",
    "\n",
    "list_movies_1=[]\n",
    "a=input(\"enter the name of the first movie: \")\n",
    "b=input(\"enter the name of the second movie: \")\n",
    "c=input(\"enter the name of the third movie: \")\n",
    "list_movies_1.insert(0,a)\n",
    "list_movies_1.insert(1,b)\n",
    "list_movies_1.insert(2,c)\n",
    "print(list_movies)\n",
    "#we can also add elements directly without using an element\n",
    "list_movies.append(input(\"enter the name : \"))\n",
    "print(list_movies)\n",
    "\n",
    "\n",
    "\n",
    "\n"
   ]
  },
  {
   "cell_type": "code",
   "execution_count": 91,
   "id": "2da03949-210e-42ca-930a-cc78d5fe9c2e",
   "metadata": {
    "scrolled": true
   },
   "outputs": [
    {
     "name": "stdin",
     "output_type": "stream",
     "text": [
      "enter the length of the string  4\n",
      "enter element number 1:  1\n",
      "enter element number 2:  2\n",
      "enter element number 3:  2\n",
      "enter element number 4:  1\n"
     ]
    },
    {
     "name": "stdout",
     "output_type": "stream",
     "text": [
      "['1', '2', '2', '1']\n",
      "['1', '2', '2', '1']\n",
      "Palindrome\n"
     ]
    }
   ],
   "source": [
    "#WAP TO CHECK IF THE LIST CONTAINS PALINDROME OF ELEMENTS \n",
    "a=int(input(\"enter the length of the string \"))\n",
    "list_palin=[]\n",
    "for i in range (a):\n",
    "    element=input(f\"enter element number {i+1}: \")\n",
    "    list_palin.append(element)\n",
    "\n",
    "print(list_palin)\n",
    "\n",
    "list_palin2=list_palin.copy()\n",
    "list_palin2.reverse()\n",
    "print(list_palin2)\n",
    "\n",
    "if(list_palin==list_palin2):\n",
    "    print(\"Palindrome\")\n",
    "else:\n",
    "    print(\"Not a palindrome\")\n",
    "\n",
    "    \n"
   ]
  },
  {
   "cell_type": "code",
   "execution_count": 99,
   "id": "acc4219b-8ded-4724-ad2c-94ee4af70009",
   "metadata": {},
   "outputs": [
    {
     "name": "stdin",
     "output_type": "stream",
     "text": [
      "enter the length of the list :  6\n",
      "enter the list element :  ax\n",
      "enter the list element :  f\n",
      "enter the list element :  r\n",
      "enter the list element :  a\n",
      "enter the list element :  w\n",
      "enter the list element :  j\n"
     ]
    },
    {
     "name": "stdout",
     "output_type": "stream",
     "text": [
      "['a', 'ax', 'f', 'j', 'r', 'w']\n"
     ]
    }
   ],
   "source": [
    "#SORT VALUES IN A LIST AND SORT THEM FROM A TO D\n",
    "list_sort=[]\n",
    "d=int(input(\"enter the length of the list : \"))\n",
    "      \n",
    "for i in range (d):\n",
    "    list_sort.append(input(\"enter the list element : \"))\n",
    "\n",
    "list_sort1=list_sort.sort()\n",
    "print(list_sort)\n"
   ]
  },
  {
   "cell_type": "code",
   "execution_count": null,
   "id": "ba336730-7a30-4f1c-b4e6-5a43009c5cb8",
   "metadata": {},
   "outputs": [],
   "source": []
  },
  {
   "cell_type": "code",
   "execution_count": null,
   "id": "abc25ebb-0090-44e5-8745-fe8c672a9aa5",
   "metadata": {},
   "outputs": [],
   "source": []
  },
  {
   "cell_type": "code",
   "execution_count": null,
   "id": "8ab026c8-0961-43a6-97b6-5220db7f4de8",
   "metadata": {},
   "outputs": [],
   "source": []
  }
 ],
 "metadata": {
  "kernelspec": {
   "display_name": "Python 3 (ipykernel)",
   "language": "python",
   "name": "python3"
  },
  "language_info": {
   "codemirror_mode": {
    "name": "ipython",
    "version": 3
   },
   "file_extension": ".py",
   "mimetype": "text/x-python",
   "name": "python",
   "nbconvert_exporter": "python",
   "pygments_lexer": "ipython3",
   "version": "3.11.7"
  }
 },
 "nbformat": 4,
 "nbformat_minor": 5
}
