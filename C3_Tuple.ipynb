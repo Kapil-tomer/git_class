{
 "cells": [
  {
   "cell_type": "code",
   "execution_count": 8,
   "id": "11e5ede8-f812-496b-855e-540964691c95",
   "metadata": {},
   "outputs": [
    {
     "name": "stdout",
     "output_type": "stream",
     "text": [
      "(1, 2, 'k', 3, 2)\n",
      "k\n"
     ]
    }
   ],
   "source": [
    "#Tuple : A built-n data type that helps create immutable sequence of values. TUPLE IS A ADDED ADVANTAGE IN PYTHON. \n",
    "tup_1=(1,2,\"k\",3,2)\n",
    "print(tup_1)\n",
    "print(tup_1[2])\n",
    "\n",
    "# we can not assign values in tuple, eg tup[4]=5 wont be performed.\n",
    "# when we create a single value tuple. put a comma or else python will take it as int, float or sstring\n",
    "#eg, tup_1=(1,)\n",
    "\n"
   ]
  },
  {
   "cell_type": "code",
   "execution_count": 9,
   "id": "e74087cc-12cd-46ed-9eb0-a9831e3c37c2",
   "metadata": {},
   "outputs": [
    {
     "name": "stdout",
     "output_type": "stream",
     "text": [
      "(1, 2)\n"
     ]
    }
   ],
   "source": [
    "#slicing: same as string\n",
    "print(tup_1[0:2])"
   ]
  },
  {
   "cell_type": "code",
   "execution_count": 10,
   "id": "f9b23b12-e901-4ddd-ab91-1bcdf5b2e6a2",
   "metadata": {},
   "outputs": [
    {
     "data": {
      "text/plain": [
       "1"
      ]
     },
     "execution_count": 10,
     "metadata": {},
     "output_type": "execute_result"
    }
   ],
   "source": [
    "#Index: to find the first occurence of element \n",
    "tup_1.index(2)\n"
   ]
  },
  {
   "cell_type": "code",
   "execution_count": 11,
   "id": "6dad0a68-114c-4a0e-b6ef-707f75c79a08",
   "metadata": {},
   "outputs": [
    {
     "data": {
      "text/plain": [
       "2"
      ]
     },
     "execution_count": 11,
     "metadata": {},
     "output_type": "execute_result"
    }
   ],
   "source": [
    "#count: Count the number of occurance of the element\n",
    "tup_1.count(2)\n"
   ]
  },
  {
   "cell_type": "code",
   "execution_count": 17,
   "id": "a16848c8-3064-4756-bb75-5c8c0a5f6cb6",
   "metadata": {},
   "outputs": [
    {
     "data": {
      "text/plain": [
       "3"
      ]
     },
     "execution_count": 17,
     "metadata": {},
     "output_type": "execute_result"
    }
   ],
   "source": [
    "#WAP TO COUNT NUMBER OF STUDENTS WITH THE \"A\" GRADE IN THE FOLLOWING TUPLE\n",
    "tup_grade=(\"C\",\"D\",\"A\",\"A\",\"B\",\"B\",\"A\")\n",
    "tup_grade.count(\"A\")"
   ]
  },
  {
   "cell_type": "code",
   "execution_count": null,
   "id": "62761cb4-bd5f-4344-bdb9-74b3313a984c",
   "metadata": {},
   "outputs": [],
   "source": []
  },
  {
   "cell_type": "code",
   "execution_count": null,
   "id": "a5bb2735-3986-4499-9235-1ee0dbe61999",
   "metadata": {},
   "outputs": [],
   "source": []
  }
 ],
 "metadata": {
  "kernelspec": {
   "display_name": "Python 3 (ipykernel)",
   "language": "python",
   "name": "python3"
  },
  "language_info": {
   "codemirror_mode": {
    "name": "ipython",
    "version": 3
   },
   "file_extension": ".py",
   "mimetype": "text/x-python",
   "name": "python",
   "nbconvert_exporter": "python",
   "pygments_lexer": "ipython3",
   "version": "3.11.7"
  }
 },
 "nbformat": 4,
 "nbformat_minor": 5
}
