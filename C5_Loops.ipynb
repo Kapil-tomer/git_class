{
 "cells": [
  {
   "cell_type": "code",
   "execution_count": 7,
   "id": "03c918de-91ee-4e80-be0c-1e1ad124ee23",
   "metadata": {},
   "outputs": [],
   "source": [
    "#Loops :: Used to repeat instructions. We check the condition and if it true we do the work and then again check the condtion until its false\n",
    "#WHILE LOOP:\n",
    "# while condtion:\n",
    "#     some work   \n",
    "#i.e it repeats the work until the while condition is true.\n",
    "\n",
    "#we take a count variable so that while statement doesnt run infinite times. Because if the value returned is always true it will never stop.\n",
    "#Iterators, variable used to iterate\n",
    "#Iterations: running under the loop is iteration, i.e number of times under loop = num of iterations\n"
   ]
  },
  {
   "cell_type": "code",
   "execution_count": 14,
   "id": "173110cd-c635-44f4-b406-9b5b6299a238",
   "metadata": {},
   "outputs": [
    {
     "data": {
      "text/plain": [
       "'i=1\\nwhile i<11:\\n    print(i)\\n    i+=1\\nprint(\"loop ended\") '"
      ]
     },
     "execution_count": 14,
     "metadata": {},
     "output_type": "execute_result"
    }
   ],
   "source": [
    "#WAP TO PRINT NUMBER FROM 1 TO 10\n",
    "\"\"\"i=1\n",
    "while i<11:\n",
    "    print(i)\n",
    "    i+=1\n",
    "print(\"loop ended\") \"\"\"\n"
   ]
  },
  {
   "cell_type": "code",
   "execution_count": 20,
   "id": "4d346b1e-9dea-4b6d-a7cd-6376e2b7ded7",
   "metadata": {},
   "outputs": [
    {
     "name": "stdin",
     "output_type": "stream",
     "text": [
      "ENTER THE NUMBER :  4\n"
     ]
    },
    {
     "name": "stdout",
     "output_type": "stream",
     "text": [
      "4\n",
      "4 * 1 = 4\n",
      "4 * 2 = 8\n",
      "4 * 3 = 12\n",
      "4 * 4 = 16\n",
      "4 * 5 = 20\n",
      "4 * 6 = 24\n",
      "4 * 7 = 28\n",
      "4 * 8 = 32\n",
      "4 * 9 = 36\n",
      "4 * 10 = 40\n",
      "loop ended\n"
     ]
    }
   ],
   "source": [
    "#WAP T0 PRINT A MULTIPLICATION TABLE OF A NUMBER N\n",
    "n=int(input(\"ENTER THE NUMBER : \"))\n",
    "print(n)\n",
    "i=1\n",
    "while i<11:\n",
    "    print(n,\"*\",i,\"=\",i*n)\n",
    "    i+=1\n",
    "print(\"loop ended\")"
   ]
  },
  {
   "cell_type": "code",
   "execution_count": 12,
   "id": "cfbe3a0c-0475-4834-8fc8-20d45dbfffde",
   "metadata": {},
   "outputs": [
    {
     "name": "stdout",
     "output_type": "stream",
     "text": [
      "1\n",
      "4\n",
      "9\n",
      "16\n",
      "25\n",
      "36\n",
      "49\n",
      "64\n",
      "81\n",
      "100\n"
     ]
    }
   ],
   "source": [
    "#WAP TO PRINT NUMBERS OF LIST USING A LOOP\n",
    "\n",
    "list_1=[1,4,9,16,25,36,49,64,81,100]\n",
    "n=len(list_1)\n",
    "i=0\n",
    "while i<n:\n",
    "    print(list_1[i])\n",
    "    i+=1\n",
    "\n",
    "#TRAVERSE: Means to travel from one to another element one by one\n",
    "\n",
    "\n"
   ]
  },
  {
   "cell_type": "code",
   "execution_count": 3,
   "id": "ceed76f5-19ae-481e-81db-a8755aa0d1ab",
   "metadata": {},
   "outputs": [
    {
     "name": "stdin",
     "output_type": "stream",
     "text": [
      "ENTER THE NUMBER : 49\n"
     ]
    },
    {
     "name": "stdout",
     "output_type": "stream",
     "text": [
      "finding...\n",
      "finding...\n",
      "finding...\n",
      "finding...\n",
      "finding...\n",
      "finding...\n",
      "FOUND IT AT POSITION :  6\n",
      "finding...\n",
      "finding...\n",
      "finding...\n"
     ]
    }
   ],
   "source": [
    "#SEARH A NUMBER N FROM THE TUPLE USING LOOP\n",
    "\n",
    "tup_1=(1,4,9,16,25,36,49,64,81,100)\n",
    "a=len(tup_1)\n",
    "i=0\n",
    "n=int(input(\"ENTER THE NUMBER :\"))\n",
    "\n",
    "while i<a:\n",
    "    if n==tup_1[i]:\n",
    "        print(\"FOUND IT AT POSITION : \",i)\n",
    "    else:\n",
    "        print(\"finding...\")\n",
    "    i+=1\n"
   ]
  },
  {
   "cell_type": "code",
   "execution_count": 7,
   "id": "f693d9bc-6e43-480d-8bfe-3eb9afc08a73",
   "metadata": {},
   "outputs": [
    {
     "name": "stdout",
     "output_type": "stream",
     "text": [
      "2550\n"
     ]
    }
   ],
   "source": [
    "#WAP TO SUM ALL THE EVEN NUMBERS FROM 1 TO 100\n",
    "sum=0\n",
    "i=0\n",
    "while i<101:\n",
    "    if i%2==0:\n",
    "        sum=sum+i\n",
    "    i+=1\n",
    "print(sum)"
   ]
  },
  {
   "cell_type": "code",
   "execution_count": 8,
   "id": "adf32339-24b4-43d9-a2cf-053d7844b79f",
   "metadata": {},
   "outputs": [],
   "source": [
    "#BREAK AND CONTINUE\n",
    "#BREAK : USED TO TERMINATE THE LOOP WHEN ENCOUNTERED\n",
    "#CONTINUE: TERMINATES EXECUTION OF THE CURRENT EXECUTION AND CONTINUES THE LOOP WITH NEXT ITERATION"
   ]
  },
  {
   "cell_type": "code",
   "execution_count": 9,
   "id": "4ad6db20-41b3-4040-9dec-0857919300c7",
   "metadata": {},
   "outputs": [],
   "source": [
    "#FOR LOOPS: LOOPS USED FOR SEQUENTIAL TRAVERSAL. For traversing list,string,tuples etc.\n",
    "#for element in list: \n",
    "     #some work\n",
    "#options else : used mainly with break"
   ]
  },
  {
   "cell_type": "code",
   "execution_count": 33,
   "id": "cb35df54-f784-450a-ac41-329a2715d21c",
   "metadata": {},
   "outputs": [
    {
     "name": "stdin",
     "output_type": "stream",
     "text": [
      "enter the number to be searched :  3\n"
     ]
    },
    {
     "name": "stdout",
     "output_type": "stream",
     "text": [
      "not found\n"
     ]
    }
   ],
   "source": [
    "#WAP TO FIND A NUMBER IN A TUPLE USING LOOP:\n",
    "tup_1=(1,4,9,16,25,36,49,64,81,100,4)\n",
    "num=int(input(\"enter the number to be searched : \"))\n",
    "i=0\n",
    "for el in tup_1:\n",
    "    i+=1\n",
    "    if el==num:\n",
    "        print(\"found at position \",i)\n",
    "        break\n",
    "        \n",
    "    \n",
    "else:\n",
    "    print(\"not found\")\n"
   ]
  },
  {
   "cell_type": "code",
   "execution_count": 34,
   "id": "cc58fb3b-d2a0-4e6c-b4bb-441a8db65ca0",
   "metadata": {},
   "outputs": [],
   "source": [
    "#RANGE FUNCTION :: IT RETURNS A SEQUENCE OF NUMBERS.\n",
    "#STARTING FROM 0 BY DEFAULT AND INCREMENT BY 1 BY DEFAULT AND STOPS BEFORE A SPECIFIED NUMBER\n",
    "#  range(start?,stop,step), start and step is optional by default 0,1\n"
   ]
  },
  {
   "cell_type": "code",
   "execution_count": 36,
   "id": "cd06159c-88f8-4289-8cc4-3e11b20ef699",
   "metadata": {},
   "outputs": [
    {
     "name": "stdin",
     "output_type": "stream",
     "text": [
      "ENTER THE NUMBER TO PRINT THE TABLE FOR :  5\n"
     ]
    },
    {
     "name": "stdout",
     "output_type": "stream",
     "text": [
      "5 * 1 = 5\n",
      "5 * 2 = 10\n",
      "5 * 3 = 15\n",
      "5 * 4 = 20\n",
      "5 * 5 = 25\n",
      "5 * 6 = 30\n",
      "5 * 7 = 35\n",
      "5 * 8 = 40\n",
      "5 * 9 = 45\n",
      "5 * 10 = 50\n"
     ]
    }
   ],
   "source": [
    "#WAP TO PRINT MULTIPLICATION TABLE OF N\n",
    "n=int(input(\"ENTER THE NUMBER TO PRINT THE TABLE FOR : \"))\n",
    "for i in range(1,11):\n",
    "    print(n,\"*\",i,\"=\",n*i)\n",
    "    "
   ]
  },
  {
   "cell_type": "code",
   "execution_count": 37,
   "id": "4c0cb85d-f566-4282-8097-78278ab4062a",
   "metadata": {},
   "outputs": [],
   "source": [
    "#PASS STATEMENT : : IT IS A NULL STATEMENT THAT DOES NOTHING.\n",
    "#USED AS A PLACEHOLDER FOR A FUTURE CODE"
   ]
  },
  {
   "cell_type": "code",
   "execution_count": 48,
   "id": "896c6134-ad8a-4454-9d48-b11e89f927cb",
   "metadata": {},
   "outputs": [
    {
     "name": "stdin",
     "output_type": "stream",
     "text": [
      "ENTER THE NUMBER N :  5\n"
     ]
    },
    {
     "name": "stdout",
     "output_type": "stream",
     "text": [
      "1\n",
      "3\n",
      "6\n",
      "10\n",
      "15\n",
      "Total sum :  15\n"
     ]
    }
   ],
   "source": [
    "#WAP TO FIND THE SUM OF FIRST N NUMBERS\n",
    "a=int(input(\"ENTER THE NUMBER N : \"))\n",
    "sum=0\n",
    "for i in range(1,a+1):\n",
    "    sum+=i\n",
    "    print(sum)\n",
    "print(\"Total sum : \",sum)\n",
    "    "
   ]
  },
  {
   "cell_type": "code",
   "execution_count": 60,
   "id": "af8d464c-31ff-4144-9d38-c9c48dddaf90",
   "metadata": {},
   "outputs": [
    {
     "name": "stdin",
     "output_type": "stream",
     "text": [
      "ENTER THE VALUE FOR N:  5\n"
     ]
    },
    {
     "name": "stdout",
     "output_type": "stream",
     "text": [
      "1\n",
      "2\n",
      "6\n",
      "24\n",
      "120\n",
      "FACTORIAL OF 5 is : 120\n",
      "1\n",
      "2\n",
      "6\n",
      "24\n",
      "120\n",
      "FACTORIAL OF 5 is : 120\n"
     ]
    }
   ],
   "source": [
    "#WAP TO FIND THE FACTORIAL OF THE FIRST N NUMBERS\n",
    "n=int(input(\"ENTER THE VALUE FOR N: \"))\n",
    "fact=1\n",
    "for i in range(1,n+1):\n",
    "    fact*=i\n",
    "    print(fact)\n",
    "print(\"FACTORIAL OF\",n,\"is :\",fact)\n",
    "\n",
    "fac=1\n",
    "k=1\n",
    "while k<=n:\n",
    "    fac*=k\n",
    "    k+=1\n",
    "    print(fac)\n",
    "print(\"FACTORIAL OF\",n,\"is :\",fac)"
   ]
  },
  {
   "cell_type": "code",
   "execution_count": null,
   "id": "57957f46-10cd-40fa-8c36-098f798e7d5c",
   "metadata": {},
   "outputs": [],
   "source": []
  }
 ],
 "metadata": {
  "kernelspec": {
   "display_name": "Python 3 (ipykernel)",
   "language": "python",
   "name": "python3"
  },
  "language_info": {
   "codemirror_mode": {
    "name": "ipython",
    "version": 3
   },
   "file_extension": ".py",
   "mimetype": "text/x-python",
   "name": "python",
   "nbconvert_exporter": "python",
   "pygments_lexer": "ipython3",
   "version": "3.11.7"
  }
 },
 "nbformat": 4,
 "nbformat_minor": 5
}
