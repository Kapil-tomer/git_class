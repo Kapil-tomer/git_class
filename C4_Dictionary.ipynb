{
 "cells": [
  {
   "cell_type": "code",
   "execution_count": 12,
   "id": "ef932414-b3f7-4217-8140-9864e75335b6",
   "metadata": {},
   "outputs": [
    {
     "name": "stdout",
     "output_type": "stream",
     "text": [
      "{'name': 'Kapil', 'gpa': 6.6, 'marks': [98, 99, 95, 94]}\n"
     ]
    }
   ],
   "source": [
    "#Dictionary : Just like a dictionary is real life, how it stores a word and then all its meanings. And how we search using the word and not meaning\n",
    "#Similary, here we use dictionary tp store data value in key : value pair.\n",
    "#search through key(word), and meaning are values. \n",
    "#They are unordered , mutuable and dont allow duplicate keys.\n",
    "\n",
    "#Unordered : Unlinke list or tuple, there is no such index and hence no order\n",
    "#Mutable : Like list we can change dictionary\n",
    "#Duplicate keys can not be created. just like a real dictionary , one word is written once however it can have multiple meanings but written\n",
    "\n",
    "dict_name={\n",
    "    \"name\":\"Kapil\", #put comma after end\n",
    "    \"gpa\": 6.6,\n",
    "    \"marks\":[98,99,95,94], # value can be any data type but key should be string, int or tuple. which cant be change.Mostly string\n",
    "}\n",
    "print(dict_name)\n",
    "\n"
   ]
  },
  {
   "cell_type": "code",
   "execution_count": 11,
   "id": "7aa89e88-3431-4a12-861a-ba8f0189bbce",
   "metadata": {},
   "outputs": [
    {
     "name": "stdout",
     "output_type": "stream",
     "text": [
      "6.6\n"
     ]
    }
   ],
   "source": [
    "# To access value, instead of index we can write key value in [].\n",
    "print(dict_name[\"gpa\"])"
   ]
  },
  {
   "cell_type": "code",
   "execution_count": 18,
   "id": "1c4acaef-b3c9-4610-8dc1-5f31b2ddecc6",
   "metadata": {},
   "outputs": [
    {
     "name": "stdout",
     "output_type": "stream",
     "text": [
      "{'name': 'Kapil', 'gpa': 8.6, 'marks': [98, 99, 95, 94], 'Surname': 'Tomer'}\n"
     ]
    }
   ],
   "source": [
    "#to assign diff value\n",
    "dict_name[\"gpa\"]=8.6\n",
    "print(dict_name)\n",
    "\n",
    "#to add a key value pair\n",
    "dict_name[\"Surname\"]=\"Tomer\""
   ]
  },
  {
   "cell_type": "code",
   "execution_count": 19,
   "id": "fe5955e6-64e5-44fb-af6c-025fde9ca52f",
   "metadata": {},
   "outputs": [
    {
     "name": "stdout",
     "output_type": "stream",
     "text": [
      "{'name': 'Kapil', 'gpa': 8.6, 'marks': [98, 99, 95, 94], 'Surname': 'Tomer'}\n"
     ]
    }
   ],
   "source": [
    "print(dict_name) #Mutable , omce action is performed its saved originally"
   ]
  },
  {
   "cell_type": "code",
   "execution_count": 20,
   "id": "aa76903c-fce2-4245-ab35-7da6832a2e11",
   "metadata": {},
   "outputs": [
    {
     "name": "stdout",
     "output_type": "stream",
     "text": [
      "{'NAME': 'KAPIL TOMER'}\n"
     ]
    }
   ],
   "source": [
    "#creating empty dict\n",
    "null_dict_name={}\n",
    "#to add value\n",
    "null_dict_name[\"NAME\"]=\"KAPIL TOMER\"\n",
    "print(null_dict_name)"
   ]
  },
  {
   "cell_type": "code",
   "execution_count": 27,
   "id": "885b4cdf-1c33-4972-9fa6-83d344779af1",
   "metadata": {},
   "outputs": [
    {
     "name": "stdout",
     "output_type": "stream",
     "text": [
      "{'NAME': 'KAPIL', 'SUBJECT': {'PHY': 88, 'CHEM': 78, 'MATHS': 86}}\n",
      "78\n"
     ]
    }
   ],
   "source": [
    "#Nested dictionaries : We can do this by creating a value of a dictionary as a dictionary\n",
    "student={\n",
    "    \"NAME\":\"KAPIL\",\n",
    "    \"SUBJECT\":{\n",
    "        \"PHY\":88,\n",
    "        \"CHEM\":78,\n",
    "        \"MATHS\":86,\n",
    "        }\n",
    "    }\n",
    "print(student)\n",
    "print(student[\"SUBJECT\"][\"CHEM\"])"
   ]
  },
  {
   "cell_type": "code",
   "execution_count": 36,
   "id": "1941ba9b-2757-44e4-aed2-6307b998e246",
   "metadata": {},
   "outputs": [
    {
     "name": "stdout",
     "output_type": "stream",
     "text": [
      "['NAME', 'SUBJECT']\n"
     ]
    }
   ],
   "source": [
    "#METHODS\n",
    "#mydict.keys() : Returns the collection of all the keys\n",
    "student.keys()  \n",
    "#SUBJECT.keys()\n",
    "print(list(student.keys()))  #Storing it as a list,tuple (tuple), though previosuly o/p is shown as a list but now it will function too"
   ]
  },
  {
   "cell_type": "code",
   "execution_count": 41,
   "id": "cf6be4d2-c670-43f0-a9ed-cc4823d32258",
   "metadata": {},
   "outputs": [
    {
     "name": "stdout",
     "output_type": "stream",
     "text": [
      "2\n",
      "2\n"
     ]
    }
   ],
   "source": [
    "#length\n",
    "print(len(student))\n",
    "#or even by\n",
    "print(len(list(student.keys())))"
   ]
  },
  {
   "cell_type": "code",
   "execution_count": 42,
   "id": "3d3d987b-4953-48ea-ba46-cd8f554c0fae",
   "metadata": {},
   "outputs": [
    {
     "data": {
      "text/plain": [
       "dict_values(['KAPIL', {'PHY': 88, 'CHEM': 78, 'MATHS': 86}])"
      ]
     },
     "execution_count": 42,
     "metadata": {},
     "output_type": "execute_result"
    }
   ],
   "source": [
    "# dict_name.values : Returns all the values\n",
    "student.values()  #you can type cast this as a list , we can store list in dict and vice versa\n"
   ]
  },
  {
   "cell_type": "code",
   "execution_count": 44,
   "id": "acd51d5a-abbc-4052-8b17-06571bff042e",
   "metadata": {},
   "outputs": [
    {
     "data": {
      "text/plain": [
       "dict_items([('NAME', 'KAPIL'), ('SUBJECT', {'PHY': 88, 'CHEM': 78, 'MATHS': 86})])"
      ]
     },
     "execution_count": 44,
     "metadata": {},
     "output_type": "execute_result"
    }
   ],
   "source": [
    "#dict_name.items(): returns all (key:value) pairs as tuples\n",
    "student.items() #we can type cast this too as tuple\n",
    "#once created as tuple or list we can access by indexing"
   ]
  },
  {
   "cell_type": "code",
   "execution_count": 49,
   "id": "b4e10089-c818-40ee-a33f-3ae5a6663eb4",
   "metadata": {},
   "outputs": [
    {
     "name": "stdout",
     "output_type": "stream",
     "text": [
      "KAPIL\n",
      "KAPIL\n",
      "None\n"
     ]
    },
    {
     "ename": "KeyError",
     "evalue": "'NAME22222'",
     "output_type": "error",
     "traceback": [
      "\u001b[1;31m---------------------------------------------------------------------------\u001b[0m",
      "\u001b[1;31mKeyError\u001b[0m                                  Traceback (most recent call last)",
      "Cell \u001b[1;32mIn[49], line 7\u001b[0m\n\u001b[0;32m      5\u001b[0m \u001b[38;5;66;03m# Reason for using fucntion is that this will return NONE and not return error if key value is not there.\u001b[39;00m\n\u001b[0;32m      6\u001b[0m \u001b[38;5;28mprint\u001b[39m(student\u001b[38;5;241m.\u001b[39mget(\u001b[38;5;124m\"\u001b[39m\u001b[38;5;124mNAME2222\u001b[39m\u001b[38;5;124m\"\u001b[39m))   \n\u001b[1;32m----> 7\u001b[0m \u001b[38;5;28mprint\u001b[39m(student[\u001b[38;5;124m\"\u001b[39m\u001b[38;5;124mNAME22222\u001b[39m\u001b[38;5;124m\"\u001b[39m])\n",
      "\u001b[1;31mKeyError\u001b[0m: 'NAME22222'"
     ]
    }
   ],
   "source": [
    "# dict_name.get(\"key_name\") : Returns the key's value\n",
    "print(student.get(\"NAME\"))   \n",
    "print(student[\"NAME\"])\n",
    "\n",
    "# Reason for using fucntion is that this will return NONE and not return error if key value is not there.\n",
    "print(student.get(\"NAME2222\"))   \n",
    "print(student[\"NAME22222\"])\n"
   ]
  },
  {
   "cell_type": "code",
   "execution_count": 59,
   "id": "c3ecce9f-8af7-4899-9248-a494e0112608",
   "metadata": {},
   "outputs": [
    {
     "name": "stdout",
     "output_type": "stream",
     "text": [
      "{'NAME': 'KAPIL', 'SUBJECT': {'PHY': 88, 'CHEM': 78, 'MATHS': 86}, 'City': 'MEERUT', 'College': 'SMIT', 'Branch': 'CSE'}\n",
      "{'NAME': 'Tomer', 'SUBJECT': {'PHY': 88, 'CHEM': 78, 'MATHS': 86}, 'City': 'MEERUT', 'College': 'SMIT', 'Branch': 'CSE'}\n"
     ]
    }
   ],
   "source": [
    "#dict_name.update(newdict) : inserts a specified item into dict, like key value pair.\n",
    "student.update({\"City\":\"MEERUT\"})\n",
    "print(student)\n",
    "\n",
    "#we can also create a new dictionary and add,\n",
    "new_dict={\n",
    "    \"College\":\"SMIT\",\n",
    "    \"Branch\":\"CSE\",\n",
    "    \"NAME\":\"Tomer\"\n",
    "    }\n",
    "student.update(new_dict)\n",
    "print(student)  #while passing new dictionary if you will have a name same to the old key, the old value would be updated"
   ]
  },
  {
   "cell_type": "code",
   "execution_count": 65,
   "id": "aae4f9ec-703a-45f9-b97e-ad5adb6860a7",
   "metadata": {},
   "outputs": [
    {
     "name": "stdout",
     "output_type": "stream",
     "text": [
      "{'table': ('a piece of furniture', 'list of facts and figures'), 'cat': 'a small animal'}\n"
     ]
    }
   ],
   "source": [
    "#WAP to form a dict\n",
    "dict10={\n",
    "    \"table\":(\"a piece of furniture\", \"list of facts and figures\"),\n",
    "    \"cat\":\"a small animal\"\n",
    "    }\n",
    "\n",
    "print(dict10)\n",
    "    "
   ]
  },
  {
   "cell_type": "code",
   "execution_count": 66,
   "id": "4803f4e8-512a-41cd-b480-eb7c6f855515",
   "metadata": {},
   "outputs": [
    {
     "name": "stdin",
     "output_type": "stream",
     "text": [
      "enter the marks of the first subject 88\n",
      "enter the marks of the second subject 89\n",
      "enter the marks of the third subject 90\n"
     ]
    },
    {
     "name": "stdout",
     "output_type": "stream",
     "text": [
      "{'SUBJECT1': 88, 'SUBJECT2': 89, 'SUBJECT3': 90}\n"
     ]
    }
   ],
   "source": [
    "#WAP TO ENTER MARKS OF 3 SUBJECTS FROM THE USER AND STORE THEM IN A DICTIONARY.\n",
    "\n",
    "dick_marks={}\n",
    "dick_marks[\"SUBJECT1\"]=int(input(\"enter the marks of the first subject\"))\n",
    "dick_marks[\"SUBJECT2\"]=int(input(\"enter the marks of the second subject\"))\n",
    "dick_marks[\"SUBJECT3\"]=int(input(\"enter the marks of the third subject\"))\n",
    "print(dick_marks)"
   ]
  },
  {
   "cell_type": "code",
   "execution_count": null,
   "id": "aa75803b-d3b7-4379-9142-2f7487c3d08c",
   "metadata": {},
   "outputs": [],
   "source": []
  }
 ],
 "metadata": {
  "kernelspec": {
   "display_name": "Python 3 (ipykernel)",
   "language": "python",
   "name": "python3"
  },
  "language_info": {
   "codemirror_mode": {
    "name": "ipython",
    "version": 3
   },
   "file_extension": ".py",
   "mimetype": "text/x-python",
   "name": "python",
   "nbconvert_exporter": "python",
   "pygments_lexer": "ipython3",
   "version": "3.11.7"
  }
 },
 "nbformat": 4,
 "nbformat_minor": 5
}
