{
 "cells": [
  {
   "cell_type": "code",
   "execution_count": 1,
   "id": "f7c3d355-9478-4592-a91b-0135572b31fc",
   "metadata": {},
   "outputs": [
    {
     "ename": "SyntaxError",
     "evalue": "unterminated string literal (detected at line 58) (3796029817.py, line 58)",
     "output_type": "error",
     "traceback": [
      "\u001b[1;36m  Cell \u001b[1;32mIn[1], line 58\u001b[1;36m\u001b[0m\n\u001b[1;33m    having float i.e. a=c then both a and c's Id are same\u001b[0m\n\u001b[1;37m                                           ^\u001b[0m\n\u001b[1;31mSyntaxError\u001b[0m\u001b[1;31m:\u001b[0m unterminated string literal (detected at line 58)\n"
     ]
    }
   ],
   "source": []
  },
  {
   "cell_type": "code",
   "execution_count": 2,
   "id": "d8e6f8f4-c642-43ad-a962-7879d627ee46",
   "metadata": {},
   "outputs": [
    {
     "name": "stdout",
     "output_type": "stream",
     "text": [
      "<class 'float'> 1928554073360\n"
     ]
    }
   ],
   "source": [
    "# Declare a float value and store it in a variable.Check the type and print the id of the same.\n",
    "a=10.0\n",
    "print(type(a),id(a))"
   ]
  },
  {
   "cell_type": "code",
   "execution_count": 6,
   "id": "3fbe683d-a938-49fb-992b-d5b23696b70e",
   "metadata": {},
   "outputs": [
    {
     "name": "stdin",
     "output_type": "stream",
     "text": [
      "enter the first number:  2\n",
      "enter the first number:  2\n"
     ]
    },
    {
     "name": "stdout",
     "output_type": "stream",
     "text": [
      "SUM =  4.0\n",
      "Diff =  0.0\n",
      "Product =  4.0\n",
      "Div =  1.0\n",
      "Remainder =  0.0\n",
      "Quotient =  1.0\n",
      "A to power B =  4.0\n"
     ]
    }
   ],
   "source": [
    "# Arithmetic Operations on float. Take two different float values. Store them in two different variables.Do below operations on them:-\n",
    "#Find sum of both numbers, Find difference between them, Find the product of both numbers.,Find value after dividing first num with second number\n",
    "#Find the remainder after dividing first number with second number, Find the quotient after dividing first number with second number\n",
    "#Find the result of the first num to the power of the second number.\n",
    "\n",
    "a=float(input(\"enter the first number: \"))\n",
    "b=float(input(\"enter the second number: \"))\n",
    "print(\"SUM = \",a+b)\n",
    "print(\"Diff = \",a-b)\n",
    "print(\"Product = \",a*b)\n",
    "print(\"Div = \",a/b)\n",
    "print(\"Remainder = \",a%b)\n",
    "print(\"Quotient = \",a//b)\n",
    "print(\"A to power B = \",a**b)              "
   ]
  },
  {
   "cell_type": "code",
   "execution_count": 9,
   "id": "6b588ba4-61b4-4236-8cac-7fee26d551bb",
   "metadata": {},
   "outputs": [
    {
     "name": "stdin",
     "output_type": "stream",
     "text": [
      "enter the first number :  4\n",
      "enter the second number :  5\n"
     ]
    },
    {
     "name": "stdout",
     "output_type": "stream",
     "text": [
      "IS A>B :  False\n",
      "IS A<B :  True\n",
      "IS A>=B :  False\n",
      "IS A<=B :  True\n",
      "IS A==B :  False\n",
      "IS A!=B :  True\n"
     ]
    }
   ],
   "source": [
    "# Take two different float values.Store them in two different variables.Do below operations on them:-\n",
    "#Compare these two numbers with below operator:-Greater than, '>',Smaller than, '<',Greater than or equal to, '>=',Less than or equal to, '<=',\n",
    "#Observe their output(return type should be boolean)\n",
    "\n",
    "a=float(input(\"enter the first number : \"))\n",
    "b=float(input(\"enter the second number : \"))\n",
    "print(\"IS A>B : \",a>b)         #Comparison Operators\n",
    "print(\"IS A<B : \",a<b)\n",
    "print(\"IS A>=B : \",a>=b)\n",
    "print(\"IS A<=B : \",a<=b)\n",
    "print(\"IS A==B : \",a==b)        #Equality Operator\n",
    "print(\"IS A!=B : \",a!=b)\n"
   ]
  },
  {
   "cell_type": "code",
   "execution_count": 11,
   "id": "fd307b71-ecaf-4594-8e42-bde256ca545f",
   "metadata": {},
   "outputs": [
    {
     "name": "stdout",
     "output_type": "stream",
     "text": [
      "20.3\n",
      "0.0\n",
      "0.0\n",
      "0.0\n",
      "10.2\n",
      "20.3\n",
      "20.3\n",
      "0.0\n",
      "False\n",
      "True\n"
     ]
    }
   ],
   "source": [
    "#Logical operators. Observe the output of below code. Cross check the output manually\n",
    "print(10.20 and 20.30) #firstvalue is true , goes to second this is also true , output is second value\n",
    "\n",
    "print(0.0 and 20.30) #first value is zero and hence false, so doesnt even go to second because this is and , hence output second value\n",
    "\n",
    "print(20.30 and 0.0) #goes to second value but this is false output is 0.0\n",
    "\n",
    "print(0.0 and 0.0) #First is false so first value is output\n",
    "\n",
    "print(10.20 or 20.30) #First is True so output is first value \n",
    "\n",
    "print(0.0 or 20.30) #first is false but goes to second because of or and second is true, so output is second value\n",
    "\n",
    "print(20.30 or 0.0) #First is True so first value is 20.30\n",
    "\n",
    "print(0.0 or 0.0) #Goes to till second and second is also false 0.0\n",
    "\n",
    "print(not 10.20) #value is true but not true makes it false, hence 0\n",
    "\n",
    "print(not 0.0) #value is 0 but not true makes it true."
   ]
  },
  {
   "cell_type": "code",
   "execution_count": 17,
   "id": "7205f63e-e0b9-4a8b-b3e4-100208a69890",
   "metadata": {},
   "outputs": [
    {
     "name": "stdout",
     "output_type": "stream",
     "text": [
      "False\n",
      "True\n",
      "1928574117328 1928557678160 1928557678160\n"
     ]
    }
   ],
   "source": [
    "# What is the output of expression inside print statement. Cross check before running the program.\n",
    "a = 10.20\n",
    "b = 10.20\n",
    "c=b\n",
    "print(a is b)                 #True 10.20<256\n",
    "print(a is not b )            # False\n",
    "\n",
    "#Why the Id of float values are different when the same value is assigned to two different variables\n",
    "#ex: a = 10.5 b=10.5. but id will be same if I assign the variable having float i.e. a=c then both a and c's Id are same\n",
    "print(id(a),id(b),id(c))\n",
    "\n",
    "\n",
    "#Even though a and b have the same value (10.20), they are not necessarily stored at the same memory address. The is operator checks identity, \n",
    "#not equality, and Python does not reuse memory for floats the same way it does for small integers. Therefore, a and b are different objects in memory"
   ]
  },
  {
   "cell_type": "code",
   "execution_count": 19,
   "id": "5bd0c383-1f33-4a9e-956f-7c4932c2a090",
   "metadata": {},
   "outputs": [],
   "source": [
    "#Bitwise operation is not applicable between instances of float.\n",
    "\n",
    "#Why the Id of float values are different when the same value isassigned to two different variables\n",
    "#ex: a = 10.5 b=10.5. but id will be same if I assign the variable having float i.e. a=c then both a and c's Id are same\n",
    "#Object reusability concept is not applicable on float values.\n",
    "    \n",
    "\n",
    "#Object reusability is a memory optimization technique used by Python for certain immutable objects, enabling the sharingof existing objects rather than\n",
    "#creating new ones. This is particularly applied to small integers and strings, while floats and larger integers typically result in unique objects even when they have the same value."
   ]
  },
  {
   "cell_type": "code",
   "execution_count": 20,
   "id": "c1be4d9b-4f29-4963-8201-88e2dcb41ab3",
   "metadata": {},
   "outputs": [
    {
     "name": "stdout",
     "output_type": "stream",
     "text": [
      "True\n",
      "True\n",
      "True\n",
      "True\n",
      "True\n",
      "True\n"
     ]
    }
   ],
   "source": [
    "# Membership operation in, not in are two membership operators and it returns boolean value\n",
    "print('2.7' in 'Python2.7.8')                      #True\n",
    "print(10.20 in [10,10.20,10+20j,'Python'])        #True\n",
    "print(10.20 in (10,10.20,10+20j,'Python'))       # True\n",
    "print(20.30 in {1,20.30,30+40j})                # True\n",
    "print(2.3 in {1:100, 2.3:200, 30+40j:300})     # True\n",
    "print(10 in range(20))                        # True"
   ]
  },
  {
   "cell_type": "code",
   "execution_count": null,
   "id": "5eccb75a-cd96-4e6d-841d-b068c394c4cd",
   "metadata": {},
   "outputs": [],
   "source": []
  }
 ],
 "metadata": {
  "kernelspec": {
   "display_name": "Python 3 (ipykernel)",
   "language": "python",
   "name": "python3"
  },
  "language_info": {
   "codemirror_mode": {
    "name": "ipython",
    "version": 3
   },
   "file_extension": ".py",
   "mimetype": "text/x-python",
   "name": "python",
   "nbconvert_exporter": "python",
   "pygments_lexer": "ipython3",
   "version": "3.11.7"
  }
 },
 "nbformat": 4,
 "nbformat_minor": 5
}
