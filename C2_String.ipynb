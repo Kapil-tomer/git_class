{
 "cells": [
  {
   "cell_type": "code",
   "execution_count": 2,
   "id": "c2a707f3-1c33-4f14-bf04-218b014974ed",
   "metadata": {},
   "outputs": [],
   "source": [
    "#String: It is a datatype that stores a sequence of characters\n",
    "# \"\"\",'',\"\" can be in between these.\n",
    "\n",
    "#Sequence characters : special characters use to give a format to the code. eg \\n next line, \\t tab space\n",
    "\n"
   ]
  },
  {
   "cell_type": "code",
   "execution_count": 3,
   "id": "84f016c9-9b54-4c3d-8ba3-0acd6feccfc5",
   "metadata": {},
   "outputs": [],
   "source": [
    "#Operations"
   ]
  },
  {
   "cell_type": "code",
   "execution_count": 6,
   "id": "a3d5b927-09c6-494f-a323-b832cec193f2",
   "metadata": {},
   "outputs": [
    {
     "name": "stdout",
     "output_type": "stream",
     "text": [
      "KapilTomer\n"
     ]
    }
   ],
   "source": [
    "#Concatenation :: Adding two strings\n",
    "str1=\"Kapil \"\n",
    "str2=\"Tomer\"\n",
    "str3=str1+str2\n",
    "print(str3)"
   ]
  },
  {
   "cell_type": "code",
   "execution_count": 8,
   "id": "91855f10-8236-4a78-b794-a99a301a564b",
   "metadata": {},
   "outputs": [
    {
     "name": "stdout",
     "output_type": "stream",
     "text": [
      "5\n"
     ]
    }
   ],
   "source": [
    "#len(str) : to get length of string\n",
    "#empty spaces, special characters are also calculated\n",
    "str1=\"kapil\"\n",
    "print(len(str1))\n"
   ]
  },
  {
   "cell_type": "code",
   "execution_count": 13,
   "id": "016064b9-30a2-4932-83fc-ca98f32accaa",
   "metadata": {},
   "outputs": [
    {
     "name": "stdout",
     "output_type": "stream",
     "text": [
      "k\n",
      "p\n",
      "p\n"
     ]
    }
   ],
   "source": [
    "#Indexing : Giving a position to a character, numbering or labelling\n",
    "#In python, Indexing starts from 0\n",
    "#Index is give to empty spaces and special charcters too\n",
    "#we can not assign a value directly using indexing\n",
    "Str1=\"Kapil Tomer\"\n",
    "ch=str1[0]\n",
    "print(ch)\n",
    "print(str1[2])\n",
    "print(str1[2])\n"
   ]
  },
  {
   "cell_type": "code",
   "execution_count": 20,
   "id": "8122779d-4a88-40b7-838a-4c618449b16a",
   "metadata": {},
   "outputs": [
    {
     "name": "stdout",
     "output_type": "stream",
     "text": [
      "My name \n",
      "My n\n",
      " name is Kapil\n",
      "My nam\n",
      " is Kapi\n"
     ]
    }
   ],
   "source": [
    "#Slicing : Accessing part of a string.\n",
    "# str[starting_idx:ending_idx], ending idx is not madatory it will take it as last index\n",
    "\n",
    "str=\"My name is Kapil\"\n",
    "print(str[0:8])\n",
    "print(str[:4])\n",
    "print(str[2:])\n",
    "\n",
    "#You can also right len(str) to get the last index but you can skip this too.\n",
    "\n",
    "\n",
    "#Negative Index : \n",
    "print(str[0:-10])\n",
    "print(str[-9:-1])"
   ]
  },
  {
   "cell_type": "code",
   "execution_count": 24,
   "id": "3dad26ed-a6d2-414a-85c7-85c6dfafb56c",
   "metadata": {},
   "outputs": [
    {
     "name": "stdout",
     "output_type": "stream",
     "text": [
      "True\n"
     ]
    }
   ],
   "source": [
    "# str.endswith(\"er\"), check whether a string ends with particular sub string and returns true or false\n",
    "str=\"Kapil tomer\"\n",
    "print(str.endswith(\"er\"))"
   ]
  },
  {
   "cell_type": "code",
   "execution_count": 35,
   "id": "ab383fe4-b7a8-4b05-8256-5784db6a20dc",
   "metadata": {},
   "outputs": [
    {
     "name": "stdout",
     "output_type": "stream",
     "text": [
      "Kapil tomer\n",
      "kapil tomer\n",
      "Kapil tomer\n",
      "None\n"
     ]
    }
   ],
   "source": [
    "# str.capitalize , capitzalizes 1st char\n",
    "str1=\"kapil tomer\"\n",
    "print(str1.capitalize())\n",
    "print(str1) #changes temporarily to make it permanent store it \n",
    "str1=print(str1.capitalize())\n",
    "print(str1)\n"
   ]
  },
  {
   "cell_type": "code",
   "execution_count": 40,
   "id": "53508650-7749-47be-a1c6-d875f0b250b7",
   "metadata": {},
   "outputs": [
    {
     "name": "stdout",
     "output_type": "stream",
     "text": [
      "Kepil tomer is my neme\n"
     ]
    }
   ],
   "source": [
    "#str.replace(\"old\",\"new\") , replacing old value with new.\n",
    "str2=\"Kapil tomer is my name\"\n",
    "print(str2.replace(\"a\",\"e\")) #temporary\n",
    "\n"
   ]
  },
  {
   "cell_type": "code",
   "execution_count": 48,
   "id": "e9a227ca-0856-478a-88ff-280dcddb6594",
   "metadata": {},
   "outputs": [
    {
     "data": {
      "text/plain": [
       "18"
      ]
     },
     "execution_count": 48,
     "metadata": {},
     "output_type": "execute_result"
    }
   ],
   "source": [
    "# str.find(word), returns the index of the first ocurrance of the character or word\n",
    "str3=\"Kapil tomer is my name\"\n",
    "str3.find(\"n\")\n",
    "# -1 comes when it doesn;t exist\n",
    "\n"
   ]
  },
  {
   "cell_type": "code",
   "execution_count": 50,
   "id": "898eb5a4-460e-4655-a735-e059a46e42b6",
   "metadata": {},
   "outputs": [
    {
     "data": {
      "text/plain": [
       "2"
      ]
     },
     "execution_count": 50,
     "metadata": {},
     "output_type": "execute_result"
    }
   ],
   "source": [
    "# str.count(\"ch\"), counts the number of occurence of a sub string\n",
    "str3.count(\"a\")"
   ]
  },
  {
   "cell_type": "code",
   "execution_count": 57,
   "id": "de1cbc2c-6ffa-4862-8558-7b17c31353e9",
   "metadata": {},
   "outputs": [
    {
     "name": "stdin",
     "output_type": "stream",
     "text": [
      "Enter the first name:  kapil\n"
     ]
    },
    {
     "name": "stdout",
     "output_type": "stream",
     "text": [
      "The length of the first name is  5\n"
     ]
    }
   ],
   "source": [
    "#WAP TO INPUT USER'S FIRST NAME AND PRINT ITS LENGTH\n",
    "f_name=input(\"Enter the first name: \")\n",
    "print(\"The length of the first name is \",len(f_name))"
   ]
  },
  {
   "cell_type": "code",
   "execution_count": 63,
   "id": "826a818a-c026-4c48-a076-293a988c0e5c",
   "metadata": {},
   "outputs": [
    {
     "name": "stdin",
     "output_type": "stream",
     "text": [
      "enter the string to check  kapi ##$$ kapi $\n"
     ]
    },
    {
     "name": "stdout",
     "output_type": "stream",
     "text": [
      "3\n"
     ]
    }
   ],
   "source": [
    "#write a program to find the occurance of $ in a string\n",
    "st2=input(\"enter the string to check \")\n",
    "print(st2.count(\"$\"))"
   ]
  },
  {
   "cell_type": "code",
   "execution_count": null,
   "id": "a16e0b68-2ea5-46ea-af8e-c0032c9eab00",
   "metadata": {},
   "outputs": [],
   "source": []
  }
 ],
 "metadata": {
  "kernelspec": {
   "display_name": "Python 3 (ipykernel)",
   "language": "python",
   "name": "python3"
  },
  "language_info": {
   "codemirror_mode": {
    "name": "ipython",
    "version": 3
   },
   "file_extension": ".py",
   "mimetype": "text/x-python",
   "name": "python",
   "nbconvert_exporter": "python",
   "pygments_lexer": "ipython3",
   "version": "3.11.7"
  }
 },
 "nbformat": 4,
 "nbformat_minor": 5
}
