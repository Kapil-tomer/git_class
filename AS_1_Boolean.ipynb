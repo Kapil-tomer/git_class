{
 "cells": [
  {
   "cell_type": "code",
   "execution_count": 4,
   "id": "e353ba76-e6c7-414a-99b2-fbc01edf2b7a",
   "metadata": {},
   "outputs": [
    {
     "name": "stdout",
     "output_type": "stream",
     "text": [
      "True <class 'bool'> 140728272177728\n"
     ]
    }
   ],
   "source": [
    "# Declare a boolean value and store it in a variable. Check the type and print the id of the same.\n",
    "a=True\n",
    "b=False\n",
    "print(a,type(a),id(a))"
   ]
  },
  {
   "cell_type": "code",
   "execution_count": 7,
   "id": "c9d0b001-3fd5-4386-ba81-0b31c85f96ea",
   "metadata": {},
   "outputs": [
    {
     "name": "stdout",
     "output_type": "stream",
     "text": [
      "140728272177728 140728272177728\n"
     ]
    }
   ],
   "source": [
    "#Take one boolean value between 0 - 256.Assign it to two different variables.Check the id of both the variables. It should come the same. Check why?\n",
    "a=True\n",
    "b=True\n",
    "print(id(a),id(b))\n",
    "#In Python, the boolean values True and False are singleton objects. This means there is only one instance of each boolean value in memory.\n",
    "#When you assign True to both a and b, they both point to the same memory address (the same object), hence their IDs will be identical."
   ]
  },
  {
   "cell_type": "code",
   "execution_count": 11,
   "id": "d0f66c92-cd70-4d25-a25b-5412caa78a7f",
   "metadata": {},
   "outputs": [
    {
     "name": "stdout",
     "output_type": "stream",
     "text": [
      "SUM OF BOTH THE NUMBERS IS :  1\n",
      "DIFF OF THE NUMBER IS :  -1\n",
      "VALUE AFTER DIVIDING FIRST WITH SECOND :  0.0\n",
      "REMAINDER, first over second :  0\n",
      "QUOTIENT :  0\n",
      "FIRST NUMBER TO THE POWER OF SECOND NUMBER :  0\n"
     ]
    }
   ],
   "source": [
    "# Arithmetic Operations on boolean data.Take two different boolean values.Store them in two different variables.Do below operations on them:-\n",
    "#Find sum of both values,Find difference between them,Find the product of both.Find value after dividing first value with second value\n",
    "#Find the remainder after dividing first value with second value, Find the quotient after dividing first value with second value\n",
    "#Find the result of first value to the power of second value.\n",
    "a=False\n",
    "b=True\n",
    "print(\"SUM OF BOTH THE NUMBERS IS : \", a+b)                 #sum\n",
    "print(\"DIFF OF THE NUMBER IS : \",a-b)                      #diff\n",
    "print(\"VALUE AFTER DIVIDING FIRST WITH SECOND : \", a/b)   #div\n",
    "print(\"REMAINDER, first over second : \",a%b)             #remainder :: \n",
    "print(\"QUOTIENT : \",a//b)                                \n",
    "print(\"FIRST NUMBER TO THE POWER OF SECOND NUMBER : \",a**b)   #false=0 , and true =1"
   ]
  },
  {
   "cell_type": "code",
   "execution_count": 14,
   "id": "89c90ce6-fbc8-43a3-8cb9-57932f44ab26",
   "metadata": {},
   "outputs": [
    {
     "name": "stdout",
     "output_type": "stream",
     "text": [
      "is first number greater than second:  True\n",
      "is first number greater than or equal to second:  True\n",
      "is first number smaller than second:  False\n",
      "is first number less than or equal to second:  False\n",
      "is first number equal to second:  False\n",
      "is first number equal to second:  True\n"
     ]
    }
   ],
   "source": [
    "#Comparison Operators on boolean values, Take two different boolean values.Store them in two different variables.Do below operations on them:-\n",
    "#Compare these two values with below operator:-Greater than, '>', less than, '<',Greater than or equal to, '>=',Less than or equal to, '<='\n",
    "#Observe their output(return type should be boolean)\n",
    "\n",
    "a=True\n",
    "b=False\n",
    "print(\"is first number greater than second: \",a>b)\n",
    "print(\"is first number greater than or equal to second: \",a>=b)\n",
    "print(\"is first number smaller than second: \",a<b)\n",
    "print(\"is first number less than or equal to second: \",a<=b)\n",
    "print(\"is first number equal to second: \",a==b) # Equality Operator\n",
    "print(\"is first number equal to second: \",a!=b) # Equality Operator"
   ]
  },
  {
   "cell_type": "code",
   "execution_count": 18,
   "id": "0e78ad7e-1bf1-4c36-ad0f-4f4ad2730e09",
   "metadata": {},
   "outputs": [
    {
     "name": "stdout",
     "output_type": "stream",
     "text": [
      "True\n",
      "False\n",
      "False\n",
      "False\n",
      "True\n",
      "True\n",
      "True\n",
      "False\n",
      "False\n",
      "True\n"
     ]
    }
   ],
   "source": [
    "#Logical operators: Observe the output of below code\n",
    "#Cross check the output manually\n",
    "\n",
    "print(True and True)#true\n",
    "print(False and True)#false\n",
    "print(True and False)#false\n",
    "print(False and False)#false\n",
    "\n",
    "print(True or True)#true\n",
    "print(False or True)#true\n",
    "print(True or False)#true\n",
    "print(False or False)#false\n",
    "print(not True) #false\n",
    "print(not False)#true\n"
   ]
  },
  {
   "cell_type": "code",
   "execution_count": 26,
   "id": "e44013d4-76cc-4514-9385-17325529b08c",
   "metadata": {},
   "outputs": [
    {
     "ename": "SyntaxError",
     "evalue": "invalid syntax (1460963901.py, line 5)",
     "output_type": "error",
     "traceback": [
      "\u001b[1;36m  Cell \u001b[1;32mIn[26], line 5\u001b[1;36m\u001b[0m\n\u001b[1;33m    True ~ True    #Bitwise negation(~) --------->  -------> Output is -2\u001b[0m\n\u001b[1;37m         ^\u001b[0m\n\u001b[1;31mSyntaxError\u001b[0m\u001b[1;31m:\u001b[0m invalid syntax\n"
     ]
    }
   ],
   "source": [
    "# Bitwise Operators : Do below operations on the values provided below:-\n",
    "True & True\n",
    "True or False\n",
    "True ^ False \n",
    "True ~ True    #Bitwise negation(~) --------->  -------> Output is -2\n",
    "True >> 2  #Bitwise left shift --------->  -------> Output is 4\n",
    "True << 2  #Bitwise right shift  --------->  -------> Output is 0\n"
   ]
  },
  {
   "cell_type": "code",
   "execution_count": 21,
   "id": "81e0b1c7-0877-4791-a65c-e2d62666d488",
   "metadata": {},
   "outputs": [
    {
     "name": "stdout",
     "output_type": "stream",
     "text": [
      "True\n",
      "False\n",
      "True\n",
      "False\n"
     ]
    }
   ],
   "source": [
    "# What is the output of expression inside the print statement. Cross check before running the program.\n",
    "a = True\n",
    "b = True\n",
    "print(a is b) #True\n",
    "\n",
    "print(a is not b) ###false\n",
    "a = False\n",
    "b = False\n",
    "print(a is b) #True\n",
    "print(a is not b) #False?"
   ]
  },
  {
   "cell_type": "code",
   "execution_count": 22,
   "id": "0b4b9266-7ad4-40b6-8fb1-9ece21b97fac",
   "metadata": {},
   "outputs": [
    {
     "name": "stdout",
     "output_type": "stream",
     "text": [
      "True\n",
      "True\n",
      "True\n",
      "True\n",
      "True\n"
     ]
    }
   ],
   "source": [
    "#Membership operation: in, not in are two membership operators and it returns boolean value\n",
    "print(True in [10,10.20,10+20j,'Python', True])   #TRUE\n",
    "print(False in (10,10.20,10+20j,'Python', False)) #TRUE\n",
    "print(True in {1,2,3, True})                      #TRUE\n",
    "print(True in {True:100, False:200, True:300})   #TRUE\n",
    "print(False in {True:100, False:200, True:300})  #TRUE"
   ]
  },
  {
   "cell_type": "code",
   "execution_count": null,
   "id": "1c493adf-aa6b-4501-9c75-aebbc95c4b64",
   "metadata": {},
   "outputs": [],
   "source": []
  }
 ],
 "metadata": {
  "kernelspec": {
   "display_name": "Python 3 (ipykernel)",
   "language": "python",
   "name": "python3"
  },
  "language_info": {
   "codemirror_mode": {
    "name": "ipython",
    "version": 3
   },
   "file_extension": ".py",
   "mimetype": "text/x-python",
   "name": "python",
   "nbconvert_exporter": "python",
   "pygments_lexer": "ipython3",
   "version": "3.11.7"
  }
 },
 "nbformat": 4,
 "nbformat_minor": 5
}
