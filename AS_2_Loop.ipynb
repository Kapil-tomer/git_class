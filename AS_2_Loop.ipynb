{
 "cells": [
  {
   "cell_type": "code",
   "execution_count": 20,
   "id": "9b623929-7eb8-4c11-9d6a-f76d0fce94a7",
   "metadata": {},
   "outputs": [
    {
     "name": "stdin",
     "output_type": "stream",
     "text": [
      "enter the number :  0\n"
     ]
    },
    {
     "name": "stdout",
     "output_type": "stream",
     "text": [
      "zero\n"
     ]
    }
   ],
   "source": [
    "# W. A P. which takes one number from 0 to 9 from the user and prints it in the word. And if the word is not from 0 to 9 then\n",
    "#it should print that number is outside of the range and program should exit.\n",
    "#For exapmple:-input = 1, output = one\n",
    "\n",
    "dict={\n",
    "    0:\"zero\",\n",
    "    1:\"one\",\n",
    "    2:\"two\",\n",
    "    3:\"three\",\n",
    "    4:\"four\",\n",
    "    5:\"five\",\n",
    "    6:\"six\",\n",
    "    7:\"seven\",\n",
    "    8:\"eight\",\n",
    "    9:\"nine\",\n",
    "}\n",
    "a=int(input(\"enter the number : \"))\n",
    "if a>=0 and a<=9:\n",
    "    print(dict[a])\n",
    "else:\n",
    "    print(\"EXIT\")\n",
    "    \n",
    "    "
   ]
  },
  {
   "cell_type": "code",
   "execution_count": 2,
   "id": "46001049-8c1a-4dfb-9b2c-08394a8f46b5",
   "metadata": {},
   "outputs": [
    {
     "name": "stdin",
     "output_type": "stream",
     "text": [
      "SELECT ONE FROM MENU :: \n",
      "To add enter 1 \n",
      "To subtract enter 2\n",
      "To multiply enter 3\n",
      "To divide enter 4\n",
      "To divide and find quotient enter 5\n",
      "To divide and find remainder enter 6  \n",
      "To divide and find num1 to the power of num2 enter 7 \n",
      "To Come out of the program enter 8\n",
      " 4\n",
      "ENTER THE FIRST NUMBER :  4\n",
      "ENTER THE SECOND NUMBER :  4\n"
     ]
    },
    {
     "name": "stdout",
     "output_type": "stream",
     "text": [
      "DIVIDE:  1.0\n"
     ]
    },
    {
     "name": "stdin",
     "output_type": "stream",
     "text": [
      "SELECT ONE FROM MENU :: \n",
      "To add enter 1 \n",
      "To subtract enter 2\n",
      "To multiply enter 3\n",
      "To divide enter 4\n",
      "To divide and find quotient enter 5\n",
      "To divide and find remainder enter 6  \n",
      "To divide and find num1 to the power of num2 enter 7 \n",
      "To Come out of the program enter 8\n",
      " 8\n"
     ]
    },
    {
     "name": "stdout",
     "output_type": "stream",
     "text": [
      "EXITED\n"
     ]
    }
   ],
   "source": [
    "#W. A P. to implement calculator but the operation to be done and two numbers will be taken as input from user:-Operation console should show below:-\n",
    "#Please select any one operation from below:-* To add enter 1* to subtract enter 2* To multiply enter 3* To divide enter 4* To divide and find quotient enter 5\n",
    "#* To divide and find remainder enter 6* To divide and find num1 to the power of num2 enter 7,* To Come out of the program enter 8\n",
    "\n",
    "\n",
    "\n",
    "def fun(c,a,b):\n",
    "            if c==1:\n",
    "                print(\"SUM: \",a+b)\n",
    "            elif c==2:\n",
    "                print(\"DIFFERENCE: \",a-b)\n",
    "            elif c==3:\n",
    "                print(\"MULTIPLICAION: \",a*b)\n",
    "            elif c==4:\n",
    "                print(\"DIVIDE: \",a/b)\n",
    "            elif c==5:\n",
    "                print(\"QUOTIENT: \",a//b)\n",
    "            elif c==6:\n",
    "                print(\"REMAINDER: \",a%b)\n",
    "            elif c==7:\n",
    "                print(\"POWER: \",a**b)    \n",
    "            else:\n",
    "                return(\"Invalid option\")\n",
    "\n",
    "\n",
    "    \n",
    "while True:\n",
    "    calc=int(input(\"SELECT ONE FROM MENU :: \\nTo add enter 1 \\nTo subtract enter 2\\nTo multiply enter 3\\nTo divide enter 4\\nTo divide and find quotient enter 5\\nTo divide and find remainder enter 6  \\nTo divide and find num1 to the power of num2 enter 7 \\nTo Come out of the program enter 8\\n\"))\n",
    "    if calc==8:\n",
    "        print(\"EXITED\")\n",
    "        break\n",
    "    a=int(input(\"ENTER THE FIRST NUMBER : \"))\n",
    "    b=int(input(\"ENTER THE SECOND NUMBER : \"))\n",
    "    fun(calc,a,b)"
   ]
  },
  {
   "cell_type": "code",
   "execution_count": 3,
   "id": "00750db7-ba27-4f6e-96f7-5ed3f5ede010",
   "metadata": {},
   "outputs": [
    {
     "name": "stdin",
     "output_type": "stream",
     "text": [
      "enter the year :  1998\n"
     ]
    },
    {
     "name": "stdout",
     "output_type": "stream",
     "text": [
      "NOT A LEAP YEAR\n"
     ]
    }
   ],
   "source": [
    "# W A P to check whether a year entered by user is an leap year or not?Check with below input:-\n",
    "#leap year:- 2012, 1968, 2004, 1200, 1600,2400,  Non-lear year:- 1971, 2006, 1700,1800,1900\n",
    "\n",
    "a=int(input(\"enter the year : \"))\n",
    "if (a%4)==0:\n",
    "    print(\"IT IS A LEAP YEAR\")\n",
    "else:\n",
    "    print(\"NOT A LEAP YEAR\")\n",
    "    Q. W A P which takes one number from the user and checks whether it is\n",
    "an even or odd number?, If it even then prints number is\n",
    "even number else prints that number is odd number."
   ]
  },
  {
   "cell_type": "code",
   "execution_count": 4,
   "id": "151d0336-5a90-490f-a71b-e84df3c8ae51",
   "metadata": {},
   "outputs": [
    {
     "name": "stdin",
     "output_type": "stream",
     "text": [
      "Enter the number to check :  4\n"
     ]
    },
    {
     "name": "stdout",
     "output_type": "stream",
     "text": [
      "It is a even number\n"
     ]
    }
   ],
   "source": [
    "# W A P which takes one number from the user and checks whether it is an even or odd number?, If it even then prints number is\n",
    "#even number else prints that number is odd number.\n",
    "\n",
    "a=int(input(\"Enter the number to check : \"))\n",
    "if(a%2)==0:\n",
    "    print(\"It is a even number\")\n",
    "else:\n",
    "    print(\"It is a odd number\")"
   ]
  },
  {
   "cell_type": "code",
   "execution_count": 7,
   "id": "5dd0ee5e-7947-49e9-9cbd-e859ee685ad3",
   "metadata": {},
   "outputs": [
    {
     "name": "stdin",
     "output_type": "stream",
     "text": [
      "Enter the first number  :  4\n",
      "Enter the second number :  4\n"
     ]
    },
    {
     "name": "stdout",
     "output_type": "stream",
     "text": [
      "EQUAL\n",
      "equal\n"
     ]
    }
   ],
   "source": [
    "# W A P which takes two numbers from the user and prints below output:-\n",
    "#1. num1 is greater than num2 if num1 is greater than num2\n",
    "#2. num1 is smaller than num2 if num1 is smaller than num2\n",
    "#3. num1 is equal to num2 if num1 and num2 are equal\n",
    "#Note:- 1. Do this problem using if - else\n",
    "#2. Do this using ternary operator\n",
    "a=int(input(\"Enter the first number  : \"))\n",
    "b=int(input(\"Enter the second number : \"))\n",
    "\n",
    "if(a>b):\n",
    "    print(\"Num1  is greater than Num2\")\n",
    "elif(a<b):\n",
    "    print(\"Num2  is greater than Num1\")\n",
    "else:\n",
    "    print(\"EQUAL\")\n",
    "\n",
    "\n",
    "result=\"num1 is greater than num2\" if a>b else \"num2 is greater than num1\" if a<b else \"equal\"\n",
    "print(result)"
   ]
  },
  {
   "cell_type": "code",
   "execution_count": 18,
   "id": "f43228f2-1314-40bb-8d1e-c86bbf3ca2d0",
   "metadata": {},
   "outputs": [
    {
     "name": "stdin",
     "output_type": "stream",
     "text": [
      "Enter the first number  :  5\n",
      "Enter the second number :  6\n",
      "Enter the second number :  4\n"
     ]
    },
    {
     "name": "stdout",
     "output_type": "stream",
     "text": [
      "Num2  is greater than 1 and 3\n",
      "num2 is greater than num1\n"
     ]
    }
   ],
   "source": [
    "#W A P which takes three numbers from the user and prints below\n",
    "#output:-1. num1 is greater than num2 and num3 if num1 is greater than num2and num3,2. num2 is greater than num1 and num3 if num2 is greater than num1\n",
    "#and num3 ,3. num3 is greater than num1 and num2 if num3 is greater than num1and num2\n",
    "#Note:- 1. Do this problem using if - elif - else, 2. Do this using ternary operator,a = a if a>b else b\n",
    "\n",
    "a=int(input(\"Enter the first number  : \"))\n",
    "b=int(input(\"Enter the second number : \"))\n",
    "c=int(input(\"Enter the second number : \"))\n",
    "\n",
    "\n",
    "if a>b and a>c:\n",
    "    print(\"Num1  is greater than 2 and 3\")\n",
    "elif b>c and b>a:\n",
    "    print(\"Num2  is greater than 1 and 3\")\n",
    "else:\n",
    "    print(\"Num3 is greater than 1 and 2\")\n",
    "\n",
    "\n",
    "result=\"num1 is greater than num2\" if (a>b and a>c) else \"num2 is greater than num1\" if (b>a and b>c) else \"NUM3\"\n",
    "print(result)"
   ]
  },
  {
   "cell_type": "code",
   "execution_count": 41,
   "id": "e87bf586-9e18-430b-b8a2-697761de10fa",
   "metadata": {},
   "outputs": [
    {
     "name": "stdin",
     "output_type": "stream",
     "text": [
      "enter the string  Write a Python program to find the length of the my_str\n"
     ]
    },
    {
     "name": "stdout",
     "output_type": "stream",
     "text": [
      "55\n"
     ]
    }
   ],
   "source": [
    "# Write a Python program to find the length of the my_str using loop:-\n",
    "#Input:- 'Write a Python program to find the length of the my_str' Output:- 55\n",
    "a=input(\"enter the string \")\n",
    "count=0\n",
    "for i in a:\n",
    "    count+=1\n",
    "    \n",
    "print(count)\n"
   ]
  },
  {
   "cell_type": "code",
   "execution_count": 34,
   "id": "652d5c70-1770-423a-a7ea-6aedb64305c2",
   "metadata": {},
   "outputs": [
    {
     "name": "stdin",
     "output_type": "stream",
     "text": [
      "enter the string  peter piper picked a peck of pickled peppers.\n"
     ]
    },
    {
     "name": "stdout",
     "output_type": "stream",
     "text": [
      "9\n"
     ]
    }
   ],
   "source": [
    "#Write a Python program to find the total number of times letter 'p'is appeared in the below string using loop:-\n",
    "#Input:- 'peter piper picked a peck of pickled peppers.\\n' , Output:- 9\n",
    "a=input(\"enter the string \")\n",
    "l=len(a)\n",
    "count=0\n",
    "for i in range(l):\n",
    "    if a[i]==\"p\":\n",
    "        count+=1\n",
    "\n",
    "print(count)   \n",
    "\n"
   ]
  },
  {
   "cell_type": "code",
   "execution_count": 47,
   "id": "b390686c-134d-4024-af96-a161cf89cfcf",
   "metadata": {},
   "outputs": [
    {
     "name": "stdin",
     "output_type": "stream",
     "text": [
      "enter the string  peter piper picked a peck of pickled peppers.\n"
     ]
    },
    {
     "name": "stdout",
     "output_type": "stream",
     "text": [
      "0  \n",
      "6  \n",
      "8  \n",
      "12  \n",
      "21  \n",
      "29  \n",
      "37  \n",
      "39  \n",
      "40  \n"
     ]
    }
   ],
   "source": [
    "#Write a Python Program, to print all the indexes of all occurences of letter 'p' appeared in the string using loop:-\n",
    "#Input:- 'peter piper picked a peck of pickled peppers.'Output:-0,6,8,12,21,29,37,39,40\n",
    "\n",
    "a=input(\"enter the string \")\n",
    "l=len(a)\n",
    "count=0\n",
    "for i in range(l):\n",
    "    if a[i]==\"p\":\n",
    "        print(i,\" \")\n",
    "    \n"
   ]
  },
  {
   "cell_type": "code",
   "execution_count": 87,
   "id": "0dce0d7a-73af-4dab-a657-13b54efe66d3",
   "metadata": {},
   "outputs": [
    {
     "name": "stdin",
     "output_type": "stream",
     "text": [
      "enter the string:  peter piper picked a peck of pickled peppers.\n"
     ]
    },
    {
     "name": "stdout",
     "output_type": "stream",
     "text": [
      "['peter', 'piper', 'picked', 'a', 'peck', 'of', 'pickled', 'peppers.']\n"
     ]
    }
   ],
   "source": [
    "#Write a python program to find below output using loop:- Input:- 'peter piper picked a peck of pickled peppers.'\n",
    "#Output:- ['peter', 'piper', 'picked', 'a', 'peck', 'of', 'pickled','peppers']\n",
    "\n",
    "a=input(\"enter the string: \")\n",
    "l=len(a)\n",
    "\n",
    "k=0\n",
    "list=[]\n",
    "for i in range(l):\n",
    "    if a[i]==\" \":\n",
    "        #print(i,\" \")\n",
    "        #print(k)\n",
    "        list.append(a[k:i])\n",
    "        k=i+1  #+1 to remove the space\n",
    "        #print(list)\n",
    "list.append(a[k:l])\n",
    "\n",
    "print(list)\n"
   ]
  },
  {
   "cell_type": "code",
   "execution_count": 91,
   "id": "394b12c1-83f7-4a24-bcfe-e8e64ae8965c",
   "metadata": {},
   "outputs": [
    {
     "name": "stdin",
     "output_type": "stream",
     "text": [
      "enter the string:  peter piper picked a peck of pickled peppers.\n"
     ]
    },
    {
     "name": "stdout",
     "output_type": "stream",
     "text": [
      "['peppers.', 'pickled', 'of', 'peck', 'a', 'picked', 'piper', 'peter']\n"
     ]
    }
   ],
   "source": [
    "#Write a python program to find below output using loop:-Input:- 'peter piper picked a peck of pickled peppers.'\n",
    "#Output:- 'peppers pickled of peck a picked piper peter'\n",
    "a=input(\"enter the string: \")\n",
    "l=len(a)\n",
    "\n",
    "list=[]\n",
    "space=l\n",
    "for i in range(l-1,-1,-1):\n",
    "    \n",
    "    if a[i]==\" \":\n",
    "        \n",
    "        list.append(a[i+1:space])\n",
    "        space=i\n",
    "\n",
    "list.append(a[0:space])\n",
    "\n",
    "\n",
    "print(list)\n",
    "        \n",
    "        "
   ]
  },
  {
   "cell_type": "code",
   "execution_count": 105,
   "id": "a53bb920-6064-4f43-b088-289ed72022a0",
   "metadata": {},
   "outputs": [
    {
     "name": "stdin",
     "output_type": "stream",
     "text": [
      "enter the string peter piper picked a peck of pickled peppers.\n"
     ]
    },
    {
     "name": "stdout",
     "output_type": "stream",
     "text": [
      ".sreppep delkcip fo kcep a dekcip repip retep\n"
     ]
    }
   ],
   "source": [
    "# Write a python program to find below output using loop:- Input:- 'peter piper picked a peck of pickled peppers.'\n",
    "#Output:- '.sreppep delkcip fo kcep a dekcip repip retep'\n",
    "\n",
    "a=input(\"enter the string\")\n",
    "l=len(a)\n",
    "rev=0\n",
    "\n",
    "print(a[::-1])    #either l-1 or nothing\n",
    "\n",
    "\n",
    "    "
   ]
  },
  {
   "cell_type": "code",
   "execution_count": 107,
   "id": "64f807f2-3f53-42f2-b9be-a0790048524a",
   "metadata": {},
   "outputs": [
    {
     "name": "stdin",
     "output_type": "stream",
     "text": [
      "enter the string:  peter piper picked a peck of pickled peppers \n"
     ]
    },
    {
     "name": "stdout",
     "output_type": "stream",
     "text": [
      " rete\n",
      " repip rete\n",
      " dekcip repip rete\n",
      " a dekcip repip rete\n",
      " kcep a dekcip repip rete\n",
      " fo kcep a dekcip repip rete\n",
      " delkcip fo kcep a dekcip repip rete\n",
      " sreppep delkcip fo kcep a dekcip repip rete\n"
     ]
    }
   ],
   "source": [
    "# Write a python program to find below output using loop:-   Input:- 'peter piper picked a peck of pickled peppers.'\n",
    "#Output:- 'retep repip dekcip a kcep fo delkcip sreppep'\n",
    "\n",
    "a=input(\"enter the string: \")\n",
    "b=len(a)\n",
    "count=0\n",
    "\n",
    "for i in range(l):\n",
    "    if a[i]==\" \":\n",
    "        print(a[i:count:-1])"
   ]
  },
  {
   "cell_type": "code",
   "execution_count": null,
   "id": "46ae25fc-b85e-4a06-84f0-689aae15b71c",
   "metadata": {},
   "outputs": [],
   "source": []
  },
  {
   "cell_type": "code",
   "execution_count": null,
   "id": "9f284a6a-abae-4f3c-8273-9fcff8223cdf",
   "metadata": {},
   "outputs": [],
   "source": []
  }
 ],
 "metadata": {
  "kernelspec": {
   "display_name": "Python 3 (ipykernel)",
   "language": "python",
   "name": "python3"
  },
  "language_info": {
   "codemirror_mode": {
    "name": "ipython",
    "version": 3
   },
   "file_extension": ".py",
   "mimetype": "text/x-python",
   "name": "python",
   "nbconvert_exporter": "python",
   "pygments_lexer": "ipython3",
   "version": "3.11.7"
  }
 },
 "nbformat": 4,
 "nbformat_minor": 5
}
