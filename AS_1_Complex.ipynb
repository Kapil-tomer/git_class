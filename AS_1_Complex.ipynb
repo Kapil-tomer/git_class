{
 "cells": [
  {
   "cell_type": "code",
   "execution_count": 13,
   "id": "f94fc97b-9830-4bdf-bd02-be5d13f4ad87",
   "metadata": {},
   "outputs": [
    {
     "name": "stdout",
     "output_type": "stream",
     "text": [
      "(3+1j)\n",
      "<class 'complex'> 1168782462288\n"
     ]
    }
   ],
   "source": [
    "#Declare a complex number and store it in a variable. Check the type and print the id of the same.\n",
    "a=3+1j\n",
    "print(a)\n",
    "print(type(a),id(a))"
   ]
  },
  {
   "cell_type": "code",
   "execution_count": 18,
   "id": "03654ba6-e8a3-4227-966a-2c10fe28b8a3",
   "metadata": {},
   "outputs": [
    {
     "name": "stdout",
     "output_type": "stream",
     "text": [
      "SUM OF BOTH THE NUMBERS IS :  (9+10j)\n",
      "DIFF OF THE NUMBER IS :  (-1-2j)\n",
      "VALUE AFTER DIVIDING FIRST WITH SECOND :  (0.7213114754098361-0.06557377049180325j)\n",
      "FIRST NUMBER TO THE POWER OF SECOND NUMBER :  (-9.675878647249387+51.12928561156803j)\n"
     ]
    }
   ],
   "source": [
    "#Arithmetic Operations on complex number. Take two different complex numbers.Store them in two different variables.Do below operations on them:-\n",
    "#Find sum of both numbers. Find difference between them. Find the product of both numbers.Find value after dividing first num with second number\n",
    "#Find the result of the first num to the power of the second number.\n",
    "a=4+4j\n",
    "b=5+6j\n",
    "print(\"SUM OF BOTH THE NUMBERS IS : \", a+b)                 #sum\n",
    "print(\"DIFF OF THE NUMBER IS : \",a-b)                      #diff\n",
    "print(\"VALUE AFTER DIVIDING FIRST WITH SECOND : \", a/b)   #div\n",
    "#print(\"REMAINDER, first over second : \",a%b)             #remainder :: wont work\n",
    "#print(\"QUOTIENT : \",a//b)                                #wont work\n",
    "print(\"FIRST NUMBER TO THE POWER OF SECOND NUMBER : \",a**b) "
   ]
  },
  {
   "cell_type": "code",
   "execution_count": 20,
   "id": "fc10671c-e3ec-45e6-8491-dedf877e62d9",
   "metadata": {},
   "outputs": [],
   "source": [
    "# Comparison Operation not applicable between instance of complex values. Object reusability concept is not applicable on complex number\n"
   ]
  },
  {
   "cell_type": "code",
   "execution_count": 24,
   "id": "027fe392-9fc8-446d-bb15-dd0b40d5c95e",
   "metadata": {},
   "outputs": [
    {
     "name": "stdout",
     "output_type": "stream",
     "text": [
      "Is Equal :  False\n",
      "Is Equal :  True\n"
     ]
    }
   ],
   "source": [
    "# Equality Operator.  Take two different complex numbers. Store them in two different variables. Equate them using equality operators (==, !=)\n",
    "#Observe the output(return type should be boolean)\n",
    "a=4+4j\n",
    "b=4+5j\n",
    "print(\"Is Equal : \",a==b)  \n",
    "print(\"Is Equal : \",a!=b)  \n"
   ]
  },
  {
   "cell_type": "code",
   "execution_count": 25,
   "id": "cd477821-0cc0-4883-a73d-6236677e8cb1",
   "metadata": {},
   "outputs": [
    {
     "name": "stdout",
     "output_type": "stream",
     "text": [
      "(20+30j)\n",
      "0j\n",
      "0j\n",
      "0j\n",
      "(10+20j)\n",
      "(20+30j)\n",
      "(20+30j)\n",
      "0j\n",
      "False\n",
      "True\n"
     ]
    }
   ],
   "source": [
    "#Logical operators:  Observe the output of below code.  Cross check the output manually\n",
    "print(10+20j and 20+30j) #20+30j\n",
    "\n",
    "print(0+0j and 20+30j) #0+0j\n",
    "\n",
    "print(20+30j and 0+0j) #0+0j\n",
    "print(0+0j and 0+0j) #0+0j\n",
    "print(10+20j or 20+30j) #10+20j\n",
    "\n",
    "print(0+0j or 20+30j) #20+30j\n",
    "print(20+30j or 0+0j) #20+30j\n",
    "print(0+0j or 0+0j) #0+0j\n",
    "print(not 10+20j) #False\n",
    "print(not 0+0j) #True"
   ]
  },
  {
   "cell_type": "code",
   "execution_count": 26,
   "id": "8fbbf179-244d-4261-8d34-71f522583cec",
   "metadata": {},
   "outputs": [
    {
     "name": "stdout",
     "output_type": "stream",
     "text": [
      "False\n",
      "True\n"
     ]
    }
   ],
   "source": [
    "#What is the output of the expression inside the print statement.Cross check before running the program.\n",
    "a = 10+20j\n",
    "b = 10+20j\n",
    "print(a is b) #False #True or False?\n",
    "print(a is not b) #True #True or False?"
   ]
  },
  {
   "cell_type": "code",
   "execution_count": null,
   "id": "5b39127d-bd9e-4ef0-8c6d-86ed121a180c",
   "metadata": {},
   "outputs": [],
   "source": [
    "#Membership operation in, not in are two membership operators and it returns boolean value\n",
    "print('2.7' in 'Python2.7.8') #True\n",
    "print(10+20j in [10,10.20,10+20j,'Python']) #True\n",
    "print(10+20j in (10,10.20,10+20j,'Python')) #True\n",
    "print(30+40j in {1,20.30,30+40j}) #True\n",
    "print(30+40j in {1:100, 2.3:200, 30+40j:300}) #True\n",
    "print(10 in range(20)) #True"
   ]
  }
 ],
 "metadata": {
  "kernelspec": {
   "display_name": "Python 3 (ipykernel)",
   "language": "python",
   "name": "python3"
  },
  "language_info": {
   "codemirror_mode": {
    "name": "ipython",
    "version": 3
   },
   "file_extension": ".py",
   "mimetype": "text/x-python",
   "name": "python",
   "nbconvert_exporter": "python",
   "pygments_lexer": "ipython3",
   "version": "3.11.7"
  }
 },
 "nbformat": 4,
 "nbformat_minor": 5
}
