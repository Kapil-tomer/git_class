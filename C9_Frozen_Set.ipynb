{
 "cells": [
  {
   "cell_type": "code",
   "execution_count": 4,
   "id": "e5bb3d66-cc18-446a-8855-21690fefdf5d",
   "metadata": {},
   "outputs": [
    {
     "name": "stdout",
     "output_type": "stream",
     "text": [
      "<class 'frozenset'>\n",
      "frozenset({1, 2, 3, 4, 5})\n"
     ]
    }
   ],
   "source": [
    "#Frozen set :: Its a immutable version of a set. \n",
    "\n",
    "\n",
    "fset1 = frozenset()       #to create an empty frozen set\n",
    "print(type(fset1))\n",
    "\n",
    "\n",
    "list1=[1,2,3,4,5,5]\n",
    "fset1=frozenset(list1)\n",
    "print(fset1)"
   ]
  },
  {
   "cell_type": "code",
   "execution_count": 5,
   "id": "7da8ddce-6814-45a5-8d70-2918926e6a48",
   "metadata": {},
   "outputs": [],
   "source": [
    "#we can perform all the set related function but wont be able to add or remove elemets."
   ]
  },
  {
   "cell_type": "code",
   "execution_count": 11,
   "id": "4c0d0be0-9eb0-433d-9b40-690d48b2d979",
   "metadata": {},
   "outputs": [
    {
     "name": "stdout",
     "output_type": "stream",
     "text": [
      "<class 'str'>\n",
      "10.1\n"
     ]
    }
   ],
   "source": []
  },
  {
   "cell_type": "code",
   "execution_count": 12,
   "id": "3b9bbf54-830d-49e9-9f70-789b9d3b1996",
   "metadata": {},
   "outputs": [
    {
     "name": "stdin",
     "output_type": "stream",
     "text": [
      "enter the length of the list:  5\n",
      "enter the elements of the list:  4\n",
      "enter the elements of the list:  3\n",
      "enter the elements of the list:  4\n",
      "enter the elements of the list:  5\n",
      "enter the elements of the list:  3\n"
     ]
    },
    {
     "name": "stdout",
     "output_type": "stream",
     "text": [
      "[4, 3, 4, 5, 3]\n",
      "7\n"
     ]
    }
   ],
   "source": [
    "list1=[]\n",
    "length=int(input(\"enter the length of the list: \"))\n",
    "for i in range(length):\n",
    "    el=int(input(\"enter the elements of the list: \"))\n",
    "    list1.append(el)\n",
    "\n",
    "\n",
    "print(list1)\n",
    "\n",
    "\n",
    "def fun_add(listx):\n",
    "    l=len(listx)\n",
    "    if l == 0:\n",
    "        return \n",
    "    elif l==1:\n",
    "        return listx[0]\n",
    "\n",
    "    else:\n",
    "        add=listx[0]+listx[-1]\n",
    "        return add\n",
    "\n",
    "print(fun_add(list1))\n"
   ]
  },
  {
   "cell_type": "code",
   "execution_count": null,
   "id": "d299b5d0-e40a-462a-a763-70f25c9708bd",
   "metadata": {},
   "outputs": [],
   "source": []
  }
 ],
 "metadata": {
  "kernelspec": {
   "display_name": "Python 3 (ipykernel)",
   "language": "python",
   "name": "python3"
  },
  "language_info": {
   "codemirror_mode": {
    "name": "ipython",
    "version": 3
   },
   "file_extension": ".py",
   "mimetype": "text/x-python",
   "name": "python",
   "nbconvert_exporter": "python",
   "pygments_lexer": "ipython3",
   "version": "3.11.7"
  }
 },
 "nbformat": 4,
 "nbformat_minor": 5
}
