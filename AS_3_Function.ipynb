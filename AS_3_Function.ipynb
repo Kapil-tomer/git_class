{
 "cells": [
  {
   "cell_type": "code",
   "execution_count": 7,
   "metadata": {
    "id": "1YVTYu-CuCOO"
   },
   "outputs": [
    {
     "name": "stdout",
     "output_type": "stream",
     "text": [
      "5\n"
     ]
    }
   ],
   "source": [
    "# Define a function calls addNumber(x, y) that takes in two number and returns the sum of the two numbers.\n",
    "add=0\n",
    "def fun1(x,y):\n",
    "    add=x+y\n",
    "    return add\n",
    "\n",
    "a=fun1(2,3)\n",
    "print(a)\n"
   ]
  },
  {
   "cell_type": "code",
   "execution_count": 8,
   "metadata": {
    "id": "1-gIq-Rju2i2"
   },
   "outputs": [
    {
     "name": "stdout",
     "output_type": "stream",
     "text": [
      "1\n"
     ]
    }
   ],
   "source": [
    "# Define a function calls subtractNumber(x, y) that takes in two numbers and returns the difference of the two numbers.\n",
    "\n",
    "sub=0\n",
    "def fun2(x,y):\n",
    "    sub=x-y\n",
    "    return sub\n",
    "\n",
    "print(fun2(5,4))\n",
    "\n"
   ]
  },
  {
   "cell_type": "code",
   "execution_count": 12,
   "metadata": {
    "id": "kiAE0iLbviG9"
   },
   "outputs": [
    {
     "name": "stdout",
     "output_type": "stream",
     "text": [
      "is equal\n"
     ]
    }
   ],
   "source": [
    "# Write a function getBiggerNumber(x, y) that takes in two numbers as arguments and returns the bigger number.\n",
    "\n",
    "big=0\n",
    "def fun2(x,y):\n",
    "    if x>y:\n",
    "        big=x\n",
    "    elif x==y:\n",
    "        big=\"is equal\"\n",
    "    else:\n",
    "        big=y\n",
    "    return big\n",
    "\n",
    "print(fun2(14,14))"
   ]
  },
  {
   "cell_type": "code",
   "execution_count": 18,
   "metadata": {
    "id": "10B5oVcZh16d"
   },
   "outputs": [
    {
     "name": "stdout",
     "output_type": "stream",
     "text": [
      "4.0\n",
      "243.0\n",
      "28.274333882308138\n"
     ]
    }
   ],
   "source": [
    "# Python provides many built-in modules with many useful functions. \n",
    "# One such module is the math module. The math module provides many useful functions such as sqrt(x), pow(x, y), ceil(x), floor(x) etc. \n",
    "# You will need to do a \"import math\" before you are allowed to use the functions within the math module.\n",
    "\n",
    "\n",
    "# Calculate the square root of 16 and stores it in the variable a\n",
    "\n",
    "\n",
    "# Calculate 3 to the power of 5 and stores it in the variable b\n",
    "\n",
    "\n",
    "# Calculate area of circle with radius = 3.0 by making use of the math.pi constant and store it in the variable c\n",
    "import math\n",
    "\n",
    "x=16\n",
    "a=math.sqrt(x)\n",
    "print(a)\n",
    "\n",
    "x=3\n",
    "y=5\n",
    "b=math.pow(x, y)\n",
    "print(b)\n",
    "\n",
    "r=3.0\n",
    "area=(math.pi)*r*r\n",
    "print(area)\n",
    "\n"
   ]
  },
  {
   "cell_type": "code",
   "execution_count": null,
   "metadata": {
    "id": "Yado0B99h2E_"
   },
   "outputs": [],
   "source": [
    "# Write a function to convert temperature from Celsius to Fahrenheit scale.\n",
    "# oC to oF Conversion: Multipy by 9, then divide by 5, then add 32.\n",
    "\n",
    "# Note: Return a string of 2 decimal places.\n",
    "# In - Cel2Fah(28.0)\n",
    "# Out - '82.40'\n",
    "# In - Cel2Fah(0.00)\n",
    "# Out - '32.00'\n",
    "\n",
    "\n"
   ]
  },
  {
   "cell_type": "code",
   "execution_count": 26,
   "metadata": {
    "id": "n7lsFol9h2ID"
   },
   "outputs": [
    {
     "name": "stdin",
     "output_type": "stream",
     "text": [
      "enter the weight in kg:  63\n",
      "enter the height in meter:  1.7\n"
     ]
    },
    {
     "name": "stdout",
     "output_type": "stream",
     "text": [
      "21.8\n"
     ]
    }
   ],
   "source": [
    "# Write a function to compute the BMI of a person.\n",
    "#     BMI = weight(kg)  /  ( height(m)*height(m) )\n",
    "\n",
    "# Note: Return a string of 1 decimal place.\n",
    "# In - BMI(63, 1.7)\n",
    "# Out - '21.8'\n",
    "# In - BMI(110, 2)\n",
    "# Out - '27.5\n",
    "\n",
    "\n",
    "\n",
    "\n",
    "bmi=0\n",
    "d=0\n",
    "def bodymass(w,h):\n",
    "    bmi=w/(h*h)\n",
    "    return f'{bmi:.1f}'              #f'{}' - converts in string   # .1f: changed t0n1 decimal place\n",
    "\n",
    "a=float(input(\"enter the weight in kg: \"))\n",
    "b=float(input(\"enter the height in meter: \"))\n",
    "\n",
    "\n",
    "print(bodymass(a,b))\n",
    "    \n",
    "    \n",
    "    \n",
    "\n"
   ]
  },
  {
   "cell_type": "code",
   "execution_count": 31,
   "metadata": {
    "id": "f2tV1AU8h2LN"
   },
   "outputs": [
    {
     "name": "stdin",
     "output_type": "stream",
     "text": [
      "enter the value:  15\n",
      "enter the total:  15\n"
     ]
    },
    {
     "name": "stdout",
     "output_type": "stream",
     "text": [
      "100\n"
     ]
    }
   ],
   "source": [
    "# Write a function percent(value, total) that takes in two numbers as arguments, and returns the percentage value as an integer.\n",
    "# In - percent(46, 90)\n",
    "# Out - 51\n",
    "# In - percent(51, 51)\n",
    "# Out - 100\n",
    "# In - percent(63, 12)\n",
    "# Out - 525\n",
    "\n",
    "\n",
    "\n",
    "def per_fun(val,tot):\n",
    "    per=(val*100)/tot\n",
    "    return int(per)\n",
    "\n",
    "a=int(input(\"enter the value: \"))\n",
    "b=int(input(\"enter the total: \"))\n",
    "\n",
    "print(per_fun(a,b))"
   ]
  },
  {
   "cell_type": "code",
   "execution_count": 40,
   "metadata": {
    "id": "QyoWR3dQh2OZ"
   },
   "outputs": [
    {
     "name": "stdin",
     "output_type": "stream",
     "text": [
      "enter the side 1:  3\n",
      "enter the side 2:  4\n"
     ]
    },
    {
     "name": "stdout",
     "output_type": "stream",
     "text": [
      "5.0\n"
     ]
    }
   ],
   "source": [
    "# Write a function to compute the hypotenuse given sides a and b of the triangle.\n",
    "# Hint: You can use math.sqrt(x) to compute the square root of x.\n",
    "# In - hypotenuse(3, 4)\n",
    "# Out - 5\n",
    "# In - hypotenuse(5, 12)\n",
    "# Out - 13\n",
    "\n",
    "\n",
    "def hy_fun(a,b):\n",
    "    h= (a*a)+(b*b)\n",
    "    hypot=math.sqrt(h)\n",
    "    return hypot\n",
    "\n",
    "c=int(input(\"enter the side 1: \"))\n",
    "d=int(input(\"enter the side 2: \"))\n",
    "print(hy_fun(c,d))\n",
    "\n"
   ]
  },
  {
   "cell_type": "code",
   "execution_count": 50,
   "metadata": {
    "id": "XthPUigkh2Ro"
   },
   "outputs": [
    {
     "name": "stdin",
     "output_type": "stream",
     "text": [
      "enter the length of the list :  5\n",
      "enter the elemenet of string:  4\n",
      "enter the elemenet of string:  3\n",
      "enter the elemenet of string:  2\n",
      "enter the elemenet of string:  1\n",
      "enter the elemenet of string:  1\n"
     ]
    },
    {
     "name": "stdout",
     "output_type": "stream",
     "text": [
      "11\n"
     ]
    }
   ],
   "source": [
    "# Write a function getSumOfLastDigits() that takes in a list of positive numbers and returns the sum of all the last digits in the list.\n",
    "# getSumOfLastDigits([2, 3, 4])\n",
    "# 9\n",
    "# getSumOfLastDigits([1, 23, 456])\n",
    "# 10\n",
    "\n",
    "list1=[]\n",
    "len=int(input(\"enter the length of the list : \"))\n",
    "for i in range(len):\n",
    "    el=int(input(\"enter the elemenet of string: \"))\n",
    "    list1.append(el)\n",
    "\n",
    "def sum_fun(numbers):\n",
    "    sum_last_digits = 0  # Initialize sum\n",
    "    for num in numbers:\n",
    "        sum_last_digits += num % 10  # Add the last digit of each number\n",
    "    return sum_last_digits\n",
    "\n",
    "print(sum_fun(list1))"
   ]
  },
  {
   "cell_type": "code",
   "execution_count": null,
   "metadata": {
    "id": "T-uIqm9Mh2Un"
   },
   "outputs": [],
   "source": [
    "# Write a function that uses a default value.\n",
    "# In - introduce('Lim', 20)\n",
    "# Out - 'My name is Lim. I am 20 years old.'\n",
    "# In - introduce('Ahmad')\n",
    "# Out - 'My name is Ahmad. My age is secret.'\n",
    "\n"
   ]
  },
  {
   "cell_type": "code",
   "execution_count": 53,
   "metadata": {
    "id": "h0pXo5vH6wA-"
   },
   "outputs": [
    {
     "name": "stdin",
     "output_type": "stream",
     "text": [
      "enter the first side :  3\n",
      "enter the second side :  4\n",
      "enter the third side :  3\n"
     ]
    },
    {
     "name": "stdout",
     "output_type": "stream",
     "text": [
      "False\n"
     ]
    }
   ],
   "source": [
    "# Write a function isEquilateral(x, y, z) that accepts the 3 sides of a triangle as arguments. \n",
    "# The program should return True if it is an equilateral triangle.\n",
    "\n",
    "# In - isEquilateral(2, 4, 3)\n",
    "# False - False\n",
    "# In - isEquilateral(3, 3, 3)\n",
    "# Out - True\n",
    "# In - isEquilateral(-3, -3, -3)\n",
    "# Out - False\n",
    "\n",
    "s1=int(input(\"enter the first side : \"))\n",
    "s2=int(input(\"enter the second side : \"))\n",
    "s3=int(input(\"enter the third side : \"))\n",
    "\n",
    "def fun_t(a,b,c):\n",
    "    if  a==b and b==c:   #add negative and 0 as well\n",
    "        return True\n",
    "\n",
    "    else:\n",
    "        return False\n",
    "\n",
    "print(fun_t(s1,s2,s3))\n",
    "\n",
    "\n",
    "\n"
   ]
  },
  {
   "cell_type": "code",
   "execution_count": 55,
   "metadata": {
    "id": "3NvcKCkn6wFy"
   },
   "outputs": [
    {
     "name": "stdin",
     "output_type": "stream",
     "text": [
      "For the equation: (2a)+bx+c : enter the value of a :  1\n",
      "For the equation: (2a)+bx+c : enter the value of b :  4\n",
      "For the equation: (2a)+bx+c : enter the value of c :  4\n"
     ]
    },
    {
     "name": "stdout",
     "output_type": "stream",
     "text": [
      "The disciment is :  -8\n"
     ]
    }
   ],
   "source": [
    "# For a quadratic equation in the form of ax2+bx+c, the discriminant, D is b2-4ac. Write a function to compute the discriminant, D.\n",
    "# In - quadratic(1, 2, 3)\n",
    "# Out - 'The discriminant is -8.'\n",
    "# In - quadratic(1, 3, 2)\n",
    "# Out - 'The discriminant is 1.'\n",
    "# In - quadratic(1, 4, 4)\n",
    "# Out - 'The discriminant is 0.'\n",
    "\n",
    "s1=int(input(\"For the equation: (2a)+bx+c : enter the value of a : \"))\n",
    "s2=int(input(\"For the equation: (2a)+bx+c : enter the value of b : \"))\n",
    "s3=int(input(\"For the equation: (2a)+bx+c : enter the value of c : \"))\n",
    "\n",
    "def fun_d(a,b,c):\n",
    "    #ax2+bx+c\n",
    "    d=(b*b)-(4*a*c)\n",
    "    return d\n",
    "\n",
    "print(\"The discriminant is  \",fun_d(s1,s2,s3))\n",
    "\n"
   ]
  },
  {
   "cell_type": "code",
   "execution_count": 1,
   "metadata": {
    "colab": {
     "base_uri": "https://localhost:8080/",
     "height": 34
    },
    "id": "ihmuttBS6wJQ",
    "outputId": "0ef031e9-dec6-4ffe-b1ea-38d836dbcdcf"
   },
   "outputs": [
    {
     "name": "stdin",
     "output_type": "stream",
     "text": [
      "enter the length of the list:  5\n",
      "enter the elements of the list:  4\n",
      "enter the elements of the list:  4\n",
      "enter the elements of the list:  5\n",
      "enter the elements of the list:  6\n",
      "enter the elements of the list:  7\n"
     ]
    },
    {
     "name": "stdout",
     "output_type": "stream",
     "text": [
      "[4, 4, 5, 6, 7]\n",
      "11\n"
     ]
    }
   ],
   "source": [
    "# Define a function calls addFirstAndLast(x) that takes in a list of numbers and returns the sum of the first and last numbers.\n",
    "# In - addFirstAndLast([])\n",
    "# Out - 0\n",
    "# In - addFirstAndLast([2, 7, 3])\n",
    "# Out - 5\n",
    "# In - addFirstAndLast([10])\n",
    "# Out - 10\n",
    "\n",
    "list1=[]\n",
    "length=int(input(\"enter the length of the list: \"))\n",
    "for i in range(length):\n",
    "    el=int(input(\"enter the elements of the list: \"))\n",
    "    list1.append(el)\n",
    "\n",
    "\n",
    "print(list1)\n",
    "\n",
    "\n",
    "def fun_add(listx):\n",
    "    l=len(listx)\n",
    "    if l == 0:\n",
    "        return \n",
    "    elif l==1:\n",
    "        return listx[0]\n",
    "\n",
    "    else:\n",
    "        add=listx[0]+listx[-1]\n",
    "        return add\n",
    "\n",
    "print(fun_add(list1))\n"
   ]
  },
  {
   "cell_type": "code",
   "execution_count": 2,
   "metadata": {
    "colab": {
     "base_uri": "https://localhost:8080/",
     "height": 34
    },
    "id": "lEt9HNPI6wM0",
    "outputId": "b07e15c3-a864-454c-aef5-1f1f0e07b39a"
   },
   "outputs": [
    {
     "ename": "SyntaxError",
     "evalue": "invalid syntax (30084378.py, line 3)",
     "output_type": "error",
     "traceback": [
      "\u001b[1;36m  Cell \u001b[1;32mIn[2], line 3\u001b[1;36m\u001b[0m\n\u001b[1;33m    (lambda num : ---------------------------------------)(6)\u001b[0m\n\u001b[1;37m                                                         ^\u001b[0m\n\u001b[1;31mSyntaxError\u001b[0m\u001b[1;31m:\u001b[0m invalid syntax\n"
     ]
    }
   ],
   "source": [
    "# Complete the 'lambda' expression so that it returns True if the argument is an even number, and False otherwise.\n",
    "\n",
    "(lambda num : ---------------------------------------)(6)"
   ]
  },
  {
   "cell_type": "code",
   "execution_count": null,
   "metadata": {
    "colab": {
     "base_uri": "https://localhost:8080/",
     "height": 35
    },
    "id": "JYWSZXPg6wQN",
    "outputId": "7b71e08d-573f-4d03-d5e3-e220df4c3b90"
   },
   "outputs": [
    {
     "data": {
      "application/vnd.google.colaboratory.intrinsic+json": {
       "type": "string"
      },
      "text/plain": [
       "\"'A function that computes and returns the final score.\""
      ]
     },
     "execution_count": 3,
     "metadata": {
      "tags": []
     },
     "output_type": "execute_result"
    }
   ],
   "source": [
    "def addFirstAndLast(lst):\n",
    "    pass\n",
    "\n",
    "addFirstAndLast([2,7,3])\n",
    "addFirstAndLast([])\n",
    "addFirstAndLast([10])\n",
    "# Get the documentation of below function\n",
    "\n",
    "def getScore():\n",
    "  ''''A function that computes and returns the final score.'''\n",
    "  pass\n"
   ]
  },
  {
   "cell_type": "code",
   "execution_count": 14,
   "metadata": {
    "colab": {
     "base_uri": "https://localhost:8080/",
     "height": 34
    },
    "id": "zmi81hi76wTK",
    "outputId": "232b4456-63ad-4582-d2cd-d888952dc957"
   },
   "outputs": [
    {
     "name": "stdin",
     "output_type": "stream",
     "text": [
      "enter the number:  4\n"
     ]
    },
    {
     "name": "stdout",
     "output_type": "stream",
     "text": [
      "25\n"
     ]
    }
   ],
   "source": [
    "# In Python, it is possible to pass a function as a argument to another function. \n",
    "# Write a function useFunction(func, num) that takes in a function and a number as arguments. \n",
    "# The useFunction should produce the output shown in the examples given below.\n",
    "\n",
    "# def addOne(x):\n",
    "#   return x + 1\n",
    "# useFunction(addOne, 4)\n",
    "# 25\n",
    "# useFunction(addOne, 9)\n",
    "# 100\n",
    "# useFunction(addOne, 0)\n",
    "# 1\n",
    "\n",
    "\n",
    "a=int(input(\"enter the number: \"))\n",
    "\n",
    "def addone(x):\n",
    "   return x + 1\n",
    "\n",
    "\n",
    "def usefunc(func,num):\n",
    "    result=func(num)\n",
    "    return (result*result)\n",
    "\n",
    "print(usefunc(addone,a))\n",
    "    \n",
    "    \n",
    "    \n",
    "# useFunction(addOne, 4)\n",
    "# 25\n",
    "# useFunction(addOne, 9)\n",
    "# 100\n",
    "# useFunction(addOne, 0)\n",
    "# 1\n",
    "\n",
    "\n",
    "\n"
   ]
  },
  {
   "cell_type": "code",
   "execution_count": null,
   "metadata": {
    "id": "JJm1zFMX6wWK"
   },
   "outputs": [],
   "source": [
    "# Write a function find_max that accepts three numbers as arguments and returns the largest number among three. \n",
    "# Write another function main, in main() function accept three numbers from user and call find_max. \n",
    "\n"
   ]
  },
  {
   "cell_type": "code",
   "execution_count": 26,
   "metadata": {
    "colab": {
     "base_uri": "https://localhost:8080/",
     "height": 34
    },
    "id": "PBvBwg0O6waD",
    "outputId": "57768b69-c749-4d88-be06-7a9d41a98de2"
   },
   "outputs": [
    {
     "name": "stdin",
     "output_type": "stream",
     "text": [
      "enter the character:  k\n"
     ]
    },
    {
     "name": "stdout",
     "output_type": "stream",
     "text": [
      "False\n"
     ]
    },
    {
     "name": "stdin",
     "output_type": "stream",
     "text": [
      "enter the string:  kapil kumar\n"
     ]
    },
    {
     "name": "stdout",
     "output_type": "stream",
     "text": [
      "4\n"
     ]
    }
   ],
   "source": [
    "# Write a function, is_vowel that returns the value true if a given character is a vowel, \n",
    "# and otherwise returns false. \n",
    "# Write another function main, in main() function accept a string from user and count number of vowels in that string.\n",
    "\n",
    "def fun_vow(x):\n",
    "    if (x=='a' or x=='e' or x=='i' or x=='o' or x=='u' or x=='A' or x=='E' or x=='I' or x=='O' or x=='U'):\n",
    "        return True\n",
    "\n",
    "    else:\n",
    "        return False\n",
    "ch=input(\"enter the character: \")\n",
    "print(fun_vow(ch))\n",
    "\n",
    "\n",
    "\n",
    "def in_main(x):\n",
    "    count=0\n",
    "    a=len(x)\n",
    "    for i in range(a):\n",
    "        if (x[i]=='a' or x[i]=='e' or x[i]=='i' or x[i]=='o' or x[i]=='u' or x[i]=='A' or x[i]=='E' or x[i]=='I' or x[i]=='O' or x[i]=='U'):\n",
    "            count+=1\n",
    "    return count\n",
    "\n",
    "\n",
    "str1=input(\"enter the string: \")\n",
    "\n",
    "\n",
    "print(in_main(str1))\n",
    "\n",
    "    \n"
   ]
  },
  {
   "cell_type": "code",
   "execution_count": 95,
   "metadata": {},
   "outputs": [
    {
     "name": "stdin",
     "output_type": "stream",
     "text": [
      "Enter a number to check if it is prime:  11\n"
     ]
    },
    {
     "name": "stdout",
     "output_type": "stream",
     "text": [
      "11 is a prime number.\n",
      "Prime numbers between 1 and 500: [2, 3, 5, 7, 11, 13, 17, 19, 23, 29, 31, 37, 41, 43, 47, 53, 59, 61, 67, 71, 73, 79, 83, 89, 97, 101, 103, 107, 109, 113, 127, 131, 137, 139, 149, 151, 157, 163, 167, 173, 179, 181, 191, 193, 197, 199, 211, 223, 227, 229, 233, 239, 241, 251, 257, 263, 269, 271, 277, 281, 283, 293, 307, 311, 313, 317, 331, 337, 347, 349, 353, 359, 367, 373, 379, 383, 389, 397, 401, 409, 419, 421, 431, 433, 439, 443, 449, 457, 461, 463, 467, 479, 487, 491, 499]\n"
     ]
    }
   ],
   "source": [
    "# Write a function named is_prime, which takes an integer as an argument and returns true \n",
    "# if the argument is a prime number, or false otherwise. \n",
    "# Also, write the main function that displays prime numbers between 1 to 500.\n",
    "def is_prime(x):\n",
    "    if x <= 1:\n",
    "        return False\n",
    "    for i in range(2, int(x**0.5) + 1):\n",
    "        if x % i == 0:\n",
    "            return False\n",
    "    return True  # Moved outside the for loop\n",
    "\n",
    "a = int(input(\"Enter a number to check if it is prime: \"))\n",
    "if is_prime(a):\n",
    "    print(f\"{a} is a prime number.\")\n",
    "else:\n",
    "    print(f\"{a} is not a prime number.\")\n",
    "\n",
    "def main1():\n",
    "    list2 = []\n",
    "    for i in range(2, 501):\n",
    "        if is_prime(i):\n",
    "            list2.append(i)\n",
    "    return list2                    \n",
    "\n",
    "print(\"Prime numbers between 1 and 500:\", main1())\n",
    "\n",
    "\n"
   ]
  },
  {
   "cell_type": "code",
   "execution_count": 4,
   "metadata": {},
   "outputs": [
    {
     "name": "stdin",
     "output_type": "stream",
     "text": [
      "enter the length of the list:  3\n",
      "enter the elements:  3\n",
      "enter the elements:  2\n",
      "enter the elements:  1\n"
     ]
    },
    {
     "name": "stdout",
     "output_type": "stream",
     "text": [
      "36\n"
     ]
    }
   ],
   "source": [
    "# Write a function in python to find the sum of the cube of elements in a list. \n",
    "# The list is received as an argument to the function, in turn, the function must return the sum. \n",
    "# Write the main function which invokes the above function\n",
    "\n",
    "list1=[]\n",
    "l=int(input(\"enter the length of the list: \"))\n",
    "for i in range(l):\n",
    "    el=int(input(\"enter the elements: \"))\n",
    "    list1.append(el)\n",
    "\n",
    "def c_sum(listx):\n",
    "    sum_count=0\n",
    "    for i in listx:\n",
    "        count=i*i*i\n",
    "        sum_count+=count\n",
    "    return sum_count\n",
    "\n",
    "print(c_sum(list1))"
   ]
  },
  {
   "cell_type": "code",
   "execution_count": 11,
   "metadata": {},
   "outputs": [
    {
     "name": "stdin",
     "output_type": "stream",
     "text": [
      "enter the length of the list:  3\n",
      "enter the elements:  30\n",
      "enter the elements:  20\n",
      "enter the elements:  1\n"
     ]
    },
    {
     "name": "stdout",
     "output_type": "stream",
     "text": [
      "50\n"
     ]
    }
   ],
   "source": [
    "# Write the definition of a function zero_ending(scores) to add all those values in the list of scores, \n",
    "# which are ending with zero and display the sum.\n",
    "# For example: If the scores contain [200, 456, 300, 100, 234, 678] The sum should be displayed as 600\n",
    "\n",
    "\n",
    "list1=[]\n",
    "l=int(input(\"enter the length of the list: \"))\n",
    "for i in range(l):\n",
    "    el=int(input(\"enter the elements: \"))\n",
    "    list1.append(el)\n",
    "\n",
    "def zero_end(scores):\n",
    "    list_sum=[]\n",
    "    sum=0\n",
    "    for i in scores:\n",
    "        if i%10==0:\n",
    "            list_sum.append(i)\n",
    "            sum+=i            \n",
    "    return sum\n",
    "    \n",
    "\n",
    "print(zero_end(list1))\n"
   ]
  },
  {
   "cell_type": "code",
   "execution_count": 17,
   "metadata": {},
   "outputs": [
    {
     "name": "stdin",
     "output_type": "stream",
     "text": [
      "enter the length of the list:  5\n",
      "enter the elements:  WSDFGH\n",
      "enter the elements:  EGH\n",
      "enter the elements:  SDFGHJKMNBV\n",
      "enter the elements:  WERTYHGVCX\n",
      "enter the elements:  SD\n"
     ]
    },
    {
     "name": "stdout",
     "output_type": "stream",
     "text": [
      "['WSDFGH', 'EGH', 'SDFGHJKMNBV', 'WERTYHGVCX', 'SD']\n",
      "WSDFGH\n",
      "SDFGHJKMNBV\n",
      "WERTYHGVCX\n"
     ]
    }
   ],
   "source": [
    "# Write a definition of a method count_now(places) to find and display those place names, in which there are more than 5 characters.\n",
    "\n",
    "# For example :\n",
    "# If the list places contains\n",
    "# [\"DELHI\",\"LONDON\",\"PARIS\",\"NEW YORK\",\"DUBAI\"]\n",
    "# The following should get displayed :\n",
    "# LONDON\n",
    "# NEW YORK\n",
    "\n",
    "list1=[]\n",
    "l=int(input(\"enter the length of the list: \"))\n",
    "for i in range(l):\n",
    "    el=input(\"enter the elements: \")\n",
    "    list1.append(el)\n",
    "\n",
    "print(list1)\n",
    "\n",
    "def now(places):\n",
    "    for i in places:\n",
    "        if len(i)>5:\n",
    "            print(i)\n",
    "\n",
    "now(list1)"
   ]
  },
  {
   "cell_type": "code",
   "execution_count": 20,
   "metadata": {},
   "outputs": [
    {
     "name": "stdin",
     "output_type": "stream",
     "text": [
      "enter the length of the list:  4\n",
      "enter the elements:  32\n",
      "enter the elements:  32\n",
      "enter the elements:  df\n",
      "enter the elements:  sdfg\n"
     ]
    },
    {
     "name": "stdout",
     "output_type": "stream",
     "text": [
      "323232\n",
      "323232\n",
      "df#\n",
      "sdfg#\n"
     ]
    }
   ],
   "source": [
    "# Write a method in python to display the elements of list thrice if it is a number and display the element terminated with ‘#’ if it is not a number.\n",
    "\n",
    "# For example, if the content of list is as follows :\n",
    "# ThisList=[‘41’]\n",
    "# The output should be\n",
    "# 414141\n",
    "# DROND#\n",
    "# GIRIRAJ#\n",
    "# 131313\n",
    "# ZARA#\n",
    "\n",
    "list1=[]\n",
    "l=int(input(\"enter the length of the list: \"))\n",
    "for i in range(l):\n",
    "    el=input(\"enter the elements: \")\n",
    "    list1.append(el)\n",
    "\n",
    "def disp(num):\n",
    "    for i in num:\n",
    "        if i.isdigit():\n",
    "            print(i+i+i)\n",
    "\n",
    "        else:\n",
    "            print(i+\"#\")\n",
    "\n",
    "\n",
    "disp(list1)\n",
    "        \n",
    "\n"
   ]
  },
  {
   "cell_type": "code",
   "execution_count": 22,
   "metadata": {},
   "outputs": [
    {
     "name": "stdin",
     "output_type": "stream",
     "text": [
      "enter the length of the list:  5\n",
      "enter the elements:  1\n",
      "enter the elements:  2\n",
      "enter the elements:  3\n",
      "enter the elements:  4\n",
      "enter the elements:  5\n"
     ]
    },
    {
     "name": "stdout",
     "output_type": "stream",
     "text": [
      "5\n"
     ]
    }
   ],
   "source": [
    "# For a given list of values in descending order, write a method in python to search  for a value with the help of Binary Search method. \n",
    "# The method should return position of the value and should return -1 if the value not present in the list.\n",
    "\n",
    "\n",
    "        \n",
    "    \n",
    "    \n",
    "\n"
   ]
  },
  {
   "cell_type": "code",
   "execution_count": 33,
   "metadata": {},
   "outputs": [
    {
     "name": "stdin",
     "output_type": "stream",
     "text": [
      "enter the length of the list:  7\n",
      "enter the elements:  1\n",
      "enter the elements:  2\n",
      "enter the elements:  3\n",
      "enter the elements:  4\n",
      "enter the elements:  5\n",
      "enter the elements:  67\n",
      "enter the elements:  7\n"
     ]
    },
    {
     "name": "stdout",
     "output_type": "stream",
     "text": [
      "['4', '5', '67', '7', '1', '2', '3']\n"
     ]
    }
   ],
   "source": [
    "# Write a function half_and_half that takes in a list and change the list such that the elements of the second half are now in the first half.\n",
    "\n",
    "# For example, if the size of list is even and content of list is as follows :\n",
    "# my_liist = [10,20,30,40,50,60]\n",
    "# The output should be\n",
    "# [40,50,60,10,20,30]\n",
    "# if the size of list is odd and content of list is as follows :\n",
    "# my_liist = [10,20,30,40,50,60,70]\n",
    "# The output should be\n",
    "# [50,60,70,40,10,20,30]\n",
    "\n",
    "list1=[]\n",
    "l=int(input(\"enter the length of the list: \"))\n",
    "for i in range(l):\n",
    "    el=input(\"enter the elements: \")\n",
    "    list1.append(el)\n",
    "\n",
    "\n",
    "def fun(list2):\n",
    "    a=len(list2)\n",
    "    mid=a//2\n",
    "    if a%2==0:\n",
    "        first_elem=list2[mid:]\n",
    "        second_elem=list2[:mid]\n",
    "    else:\n",
    "        first_elem=list2[(mid):]\n",
    "        second_elem=list2[:mid]\n",
    "\n",
    "    return first_elem+second_elem\n",
    "    \n",
    "\n",
    "\n",
    "\n",
    "print(fun(list1))\n",
    "        \n",
    "\n",
    "        \n",
    "\n"
   ]
  },
  {
   "cell_type": "code",
   "execution_count": 45,
   "metadata": {
    "ExecuteTime": {
     "end_time": "2021-05-29T10:39:43.694779Z",
     "start_time": "2021-05-29T10:39:43.691446Z"
    }
   },
   "outputs": [
    {
     "name": "stdout",
     "output_type": "stream",
     "text": [
      "{26: 'kapil', 27: 'deepanshu', 28: 'mradulika', 50: 'mata g', 54: 'bapu g'}\n"
     ]
    }
   ],
   "source": [
    "# Write a function that accepts a dictionary as an argument. If the dictionary contains replicate values, return an empty dictionary, otherwise,\n",
    "#return a new dictionary whose values are now the keys and whose keys are the values.\n",
    "\n",
    "dict1={\n",
    "    \"kapil\":26,\n",
    "    \"deepanshu\":27,\n",
    "    \"mradulika\":28,\n",
    "    \"mata g\":50,\n",
    "    \"bapu g\":54,\n",
    "}\n",
    "\n",
    "def func1(dict2):\n",
    "    if len(dict2.values())!=len(set(dict2.values())):       #dict_name.values(): to give all key value pairs in list form , convert in set\n",
    "                                                                        #can not repeat in set hence count would be diff\n",
    "        return {}\n",
    "    else:\n",
    "        \n",
    "        new_dict2 = {v: k for k, v in dict2.items()}\n",
    "        return new_dict2\n",
    "\n",
    "\n",
    "#dict2.items():This method returns all the key-value pairs of dict2 as a sequence of tuples (key, value).\n",
    "#for k, v in dict2.items():\n",
    "#This part iterates through each key-value pair in dict2. Here, k refers to the key, and v refers to the value in the original dictionary.\n",
    "#Swapping keys and values:{v: k for k, v in dict2.items()} creates a new dictionary where the value v becomes the key, and the key k becomes the value.\n",
    "\n",
    "print(func1(dict1))\n",
    "\n",
    "\n"
   ]
  },
  {
   "cell_type": "code",
   "execution_count": null,
   "metadata": {},
   "outputs": [],
   "source": []
  },
  {
   "cell_type": "code",
   "execution_count": null,
   "metadata": {},
   "outputs": [],
   "source": []
  },
  {
   "cell_type": "code",
   "execution_count": null,
   "metadata": {},
   "outputs": [],
   "source": []
  },
  {
   "cell_type": "code",
   "execution_count": null,
   "metadata": {},
   "outputs": [],
   "source": []
  }
 ],
 "metadata": {
  "colab": {
   "name": "Function_Assignment.ipynb",
   "provenance": []
  },
  "kernelspec": {
   "display_name": "Python 3 (ipykernel)",
   "language": "python",
   "name": "python3"
  },
  "language_info": {
   "codemirror_mode": {
    "name": "ipython",
    "version": 3
   },
   "file_extension": ".py",
   "mimetype": "text/x-python",
   "name": "python",
   "nbconvert_exporter": "python",
   "pygments_lexer": "ipython3",
   "version": "3.11.7"
  }
 },
 "nbformat": 4,
 "nbformat_minor": 4
}
