{
 "cells": [
  {
   "cell_type": "code",
   "execution_count": 3,
   "id": "b278ec90-ee9b-4d1c-8de7-feb9daef2742",
   "metadata": {},
   "outputs": [
    {
     "name": "stdin",
     "output_type": "stream",
     "text": [
      "Enter the first number:  10\n",
      "enter the second number:  20\n"
     ]
    },
    {
     "name": "stdout",
     "output_type": "stream",
     "text": [
      "sum of the number is :   30\n"
     ]
    }
   ],
   "source": [
    "num1=int(input(\"Enter the first number: \"))\n",
    "num2=int(input(\"enter the second number: \"))\n",
    "print(\"sum of the number is :  \",num1+num2)"
   ]
  },
  {
   "cell_type": "code",
   "execution_count": 8,
   "id": "e6c9e5e9-c4bd-49ec-b5ad-a05026fa8ccc",
   "metadata": {},
   "outputs": [
    {
     "name": "stdin",
     "output_type": "stream",
     "text": [
      "Enter the side of the square:  5\n"
     ]
    },
    {
     "name": "stdout",
     "output_type": "stream",
     "text": [
      "The Area of the square is:  25\n",
      "The parameter of the square is:  20\n"
     ]
    }
   ],
   "source": [
    "#square area and parameter \n",
    "side=int(input(\"Enter the side of the square: \"))\n",
    "print(\"The Area of the square is: \",side*side)\n",
    "print(\"The parameter of the square is: \", 4*side)"
   ]
  },
  {
   "cell_type": "code",
   "execution_count": 11,
   "id": "f504ab0c-1cd4-4f17-b1bd-58577fb1b557",
   "metadata": {},
   "outputs": [
    {
     "name": "stdin",
     "output_type": "stream",
     "text": [
      "enter the first number:  16.5\n",
      "enter the second number 3.5\n"
     ]
    },
    {
     "name": "stdout",
     "output_type": "stream",
     "text": [
      "Average of the two numbers is :  10.0\n"
     ]
    }
   ],
   "source": [
    "# Wap to take 2 floating point numbers and get there average\n",
    "num1=float(input(\"enter the first number: \"))\n",
    "num2=float(input(\"enter the second number\"))\n",
    "print(\"Average of the two numbers is : \",(num1+num2)/2)"
   ]
  },
  {
   "cell_type": "code",
   "execution_count": 12,
   "id": "2e866170-6dd8-4af6-8b87-7a05a362be80",
   "metadata": {},
   "outputs": [
    {
     "name": "stdin",
     "output_type": "stream",
     "text": [
      "Enter the first number:  5\n",
      "enter the second number:  10\n"
     ]
    },
    {
     "name": "stdout",
     "output_type": "stream",
     "text": [
      "False\n"
     ]
    }
   ],
   "source": [
    "#wap to input 2 numbers and print true is is greater than or equal to b, if not print false.\n",
    "num1=int(input(\"Enter the first number: \"))\n",
    "num2=int(input(\"enter the second number: \"))\n",
    "print(num1>=num2)\n"
   ]
  },
  {
   "cell_type": "code",
   "execution_count": null,
   "id": "adc4f48b-8495-4f62-a850-74894b759a21",
   "metadata": {},
   "outputs": [],
   "source": []
  }
 ],
 "metadata": {
  "kernelspec": {
   "display_name": "Python 3 (ipykernel)",
   "language": "python",
   "name": "python3"
  },
  "language_info": {
   "codemirror_mode": {
    "name": "ipython",
    "version": 3
   },
   "file_extension": ".py",
   "mimetype": "text/x-python",
   "name": "python",
   "nbconvert_exporter": "python",
   "pygments_lexer": "ipython3",
   "version": "3.11.7"
  }
 },
 "nbformat": 4,
 "nbformat_minor": 5
}
