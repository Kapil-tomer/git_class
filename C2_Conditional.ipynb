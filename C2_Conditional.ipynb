{
 "cells": [
  {
   "cell_type": "code",
   "execution_count": 1,
   "id": "37998083-bf06-4b6d-9862-bc9510c0c6a0",
   "metadata": {},
   "outputs": [],
   "source": [
    "#Statements:: if-elif-else (syntax)"
   ]
  },
  {
   "cell_type": "code",
   "execution_count": 2,
   "id": "5c9f0512-bc04-433d-8a4c-894ef4e81e86",
   "metadata": {},
   "outputs": [
    {
     "data": {
      "text/plain": [
       "' if(condition):\\n        statement1\\n    elif(condition):\\n        statement2\\n    else(condition)\\n        statement\\nIt is important to to have a good indentation'"
      ]
     },
     "execution_count": 2,
     "metadata": {},
     "output_type": "execute_result"
    }
   ],
   "source": [
    "''' if(condition):\n",
    "        statement1\n",
    "    elif(condition):\n",
    "        statement2\n",
    "    else(condition)\n",
    "        statement\n",
    "It is important to to have a good indentation'''\n",
    "\n"
   ]
  },
  {
   "cell_type": "code",
   "execution_count": 11,
   "id": "b60c4911-cde2-4646-b53a-4e628ee66024",
   "metadata": {},
   "outputs": [
    {
     "name": "stdin",
     "output_type": "stream",
     "text": [
      "Enter marks obtained by the student :  55\n"
     ]
    },
    {
     "name": "stdout",
     "output_type": "stream",
     "text": [
      "FAIL\n"
     ]
    },
    {
     "name": "stdin",
     "output_type": "stream",
     "text": [
      "Enter marks obtained by the student :  90\n"
     ]
    },
    {
     "name": "stdout",
     "output_type": "stream",
     "text": [
      "GRADE OF THE STUDENT IS :  A\n"
     ]
    }
   ],
   "source": [
    "#WAP A PROGRAM TO GRADE STUDENTS BASED ON MARKS\n",
    "\n",
    "a=int(input(\"Enter marks obtained by the student : \"))\n",
    "if(a>=90):\n",
    "    print(\"GRADE: A\")\n",
    "elif(90>a>=80):\n",
    "    print(\"GRADE: B\")\n",
    "elif(80>a>=70):\n",
    "    print(\"GRADE: C\")\n",
    "elif(70>a>=60):\n",
    "    print(\"GRADE: D\")\n",
    "else:\n",
    "    print(\"FAIL\")\n",
    "\n",
    "\n",
    "b=int(input(\"Enter marks obtained by the student : \"))\n",
    "if(b>=90):\n",
    "    b=\"A\"\n",
    "elif(90>b>=80):\n",
    "    b=\"B\"\n",
    "elif(80>b>=70):\n",
    "    b=\"C\"  \n",
    "elif(70>b>=60):\n",
    "    b=\"D\"\n",
    "else:\n",
    "    print(\"FAIL\")\n",
    "print(\"GRADE OF THE STUDENT IS : \",b)\n",
    "\n"
   ]
  },
  {
   "cell_type": "code",
   "execution_count": 12,
   "id": "1285c042-da2c-40a9-b535-c8544cb860f3",
   "metadata": {},
   "outputs": [],
   "source": [
    "#NESTING :: writing statement under a statement\n",
    "  "
   ]
  },
  {
   "cell_type": "code",
   "execution_count": 18,
   "id": "c16a7466-8381-4dfb-bbde-f8110f49a980",
   "metadata": {},
   "outputs": [
    {
     "name": "stdin",
     "output_type": "stream",
     "text": [
      "ENTER THE NUMBER:  0\n"
     ]
    },
    {
     "name": "stdout",
     "output_type": "stream",
     "text": [
      "EVEN NUMBER \n"
     ]
    }
   ],
   "source": [
    "#WAP TO CHECK IF THE NUMBER ENTERED BY THE USER IS ODD OR EVEN\n",
    "num=int(input(\"ENTER THE NUMBER: \"))\n",
    "if(num%2==0):\n",
    "    print(\"EVEN NUMBER \")\n",
    "else:\n",
    "    print(\"ODD NUMBER\")\n",
    "\n"
   ]
  },
  {
   "cell_type": "code",
   "execution_count": 25,
   "id": "70ab1b84-bdce-48ed-aaa2-d6c7a3126c36",
   "metadata": {},
   "outputs": [
    {
     "name": "stdin",
     "output_type": "stream",
     "text": [
      "ENTER THE FIRST NUMBER :  44\n",
      "ENTER THE SECOND NUMBER :  55\n",
      "ENTER THE THIRD NUMBER :  6\n"
     ]
    },
    {
     "name": "stdout",
     "output_type": "stream",
     "text": [
      "GREATEST NUMBER :  55\n"
     ]
    }
   ],
   "source": [
    "#WAP TO FIND THE GREATEST OF 3 NUMBERS ENTERED BY THE USER\n",
    "num1=int(input(\"ENTER THE FIRST NUMBER : \"))\n",
    "num2=int(input(\"ENTER THE SECOND NUMBER : \"))\n",
    "num3=int(input(\"ENTER THE THIRD NUMBER : \"))\n",
    "if(num1>num2 and num1>num3):\n",
    "    print(\"GREATEST NUMBER : \",num1)\n",
    "elif(num2>num3):\n",
    "    print(\"GREATEST NUMBER : \" ,num2)\n",
    "else:\n",
    "    print(\"Greatest number : \",num3)\n",
    "    \n",
    "    "
   ]
  },
  {
   "cell_type": "code",
   "execution_count": 38,
   "id": "225677ee-5861-4579-986b-c6752be2cef5",
   "metadata": {},
   "outputs": [
    {
     "name": "stdin",
     "output_type": "stream",
     "text": [
      "ENTER THE NUMBER :  21\n"
     ]
    },
    {
     "name": "stdout",
     "output_type": "stream",
     "text": [
      "MULTIPLE OF 7\n"
     ]
    }
   ],
   "source": [
    "#WAP TO CHECK IF A NUMBER IS MULTIPLE OF 7 OR NOT\n",
    "num=int(input(\"ENTER THE NUMBER : \"))\n",
    "if(num%7==0):\n",
    "    print(\"MULTIPLE OF 7\")\n",
    "else:\n",
    "    print(\"NOT A MULTIPLE OF 7\")\n",
    "        "
   ]
  },
  {
   "cell_type": "markdown",
   "id": "90ae7c79-18b4-41ed-a1f1-b84f584d9874",
   "metadata": {},
   "source": []
  },
  {
   "cell_type": "code",
   "execution_count": 29,
   "id": "20928f62-a5fe-4045-9ab6-fd8920e33c40",
   "metadata": {},
   "outputs": [
    {
     "data": {
      "text/plain": [
       "47"
      ]
     },
     "execution_count": 29,
     "metadata": {},
     "output_type": "execute_result"
    }
   ],
   "source": []
  },
  {
   "cell_type": "code",
   "execution_count": null,
   "id": "f7f842f1-13ae-4ba2-bfc9-404e661cd119",
   "metadata": {},
   "outputs": [],
   "source": []
  }
 ],
 "metadata": {
  "kernelspec": {
   "display_name": "Python 3 (ipykernel)",
   "language": "python",
   "name": "python3"
  },
  "language_info": {
   "codemirror_mode": {
    "name": "ipython",
    "version": 3
   },
   "file_extension": ".py",
   "mimetype": "text/x-python",
   "name": "python",
   "nbconvert_exporter": "python",
   "pygments_lexer": "ipython3",
   "version": "3.11.7"
  }
 },
 "nbformat": 4,
 "nbformat_minor": 5
}
