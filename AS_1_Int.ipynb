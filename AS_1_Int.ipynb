{
 "cells": [
  {
   "cell_type": "code",
   "execution_count": null,
   "id": "78211006-a0be-4fed-a285-92644160ca57",
   "metadata": {},
   "outputs": [],
   "source": [
    "# INT ASSIGNMENTS"
   ]
  },
  {
   "cell_type": "code",
   "execution_count": 6,
   "id": "a57a7058-e5f0-4471-ae27-8cc050a4af41",
   "metadata": {},
   "outputs": [
    {
     "name": "stdout",
     "output_type": "stream",
     "text": [
      "<class 'int'>\n"
     ]
    }
   ],
   "source": [
    "# Declare an int value and store it in a variable. Check the type and print the id of the same.\n",
    "a=1\n",
    "print(type(a))"
   ]
  },
  {
   "cell_type": "code",
   "execution_count": 10,
   "id": "3b9c999a-e4e8-44f7-a879-9febc4b159d8",
   "metadata": {},
   "outputs": [
    {
     "name": "stdout",
     "output_type": "stream",
     "text": [
      "6 6\n",
      "<class 'int'> <class 'int'>\n",
      "140728273650632 140728273650632\n"
     ]
    }
   ],
   "source": [
    "# Take one int value between 0 - 256. Assign it to two different variables. Check the id of both the variables. It should come the same. Check why?\n",
    "a=6\n",
    "b=6\n",
    "print(a,b)\n",
    "print(type(a),type(b))\n",
    "print(id(a),id(b))\n",
    "#In Python, small integers are cached and reused for efficiency. The range of these cached integers typically includes at least -5 to 256. \n",
    "#When you assign the same value within this range to two different variables, both variables actually reference the same object in memory. \n",
    "#That's why their ids, which function as unique identifiers for objects in memory, are the same."
   ]
  },
  {
   "cell_type": "code",
   "execution_count": 11,
   "id": "c9ff72b3-accc-42cb-9803-1fdcdc9529a7",
   "metadata": {},
   "outputs": [
    {
     "name": "stdout",
     "output_type": "stream",
     "text": [
      "<class 'int'> <class 'int'>\n",
      "2807518168432 2807518168304\n"
     ]
    }
   ],
   "source": [
    "# Take one int value either less than -5 or greater than 256. Assign it to two different variables. Check the id of both the variables. It should come different.Check why?\n",
    "a=-9\n",
    "b=-8\n",
    "print(type(a),type(b))\n",
    "print(id(a),id(b))\n"
   ]
  },
  {
   "cell_type": "code",
   "execution_count": 20,
   "id": "ff00bb2e",
   "metadata": {},
   "outputs": [
    {
     "name": "stdin",
     "output_type": "stream",
     "text": [
      "ENTER THE FIRST NUMBER :  20\n",
      "ENTER THE SECOND NUMBER :  10\n"
     ]
    },
    {
     "name": "stdout",
     "output_type": "stream",
     "text": [
      "SUM OF BOTH THE NUMBERS IS :  30\n",
      "DIFF OF THE NUMBER IS :  10\n",
      "VALUE AFTER DIVIDING FIRST WITH SECOND :  2.0\n",
      "REMAINDER, first over second :  0\n",
      "QUOTIENT :  2\n",
      "FIRST NUMBER TO THE POWER OF SECOND NUMBER :  10240000000000\n"
     ]
    }
   ],
   "source": [
    "#Arithmetic Operations on integers. Take two different integer values.Store them in two different variables.\n",
    "#Do below operations on them:- Find sum of both numbers, Find difference between them, Find the product of both numbers.\n",
    "#Find value after dividing first num with second number.Find the remainder after dividing first number with second number\n",
    "#Find the quotient after dividing first number with second number, Find the result of the first num to the power of the second number.\n",
    "a=int(input(\"ENTER THE FIRST NUMBER : \"))\n",
    "b=int(input(\"ENTER THE SECOND NUMBER : \"))\n",
    "print(\"SUM OF BOTH THE NUMBERS IS : \", a+b)                 #sum\n",
    "print(\"DIFF OF THE NUMBER IS : \",a-b)                      #diff\n",
    "print(\"VALUE AFTER DIVIDING FIRST WITH SECOND : \", a/b)   #div\n",
    "print(\"REMAINDER, first over second : \",a%b)             #remainder\n",
    "print(\"QUOTIENT : \",a//b)\n",
    "print(\"FIRST NUMBER TO THE POWER OF SECOND NUMBER : \",a**b) \n"
   ]
  },
  {
   "cell_type": "code",
   "execution_count": 28,
   "id": "ad395403-9835-4dc1-b606-7734c728440c",
   "metadata": {},
   "outputs": [
    {
     "name": "stdin",
     "output_type": "stream",
     "text": [
      "enter the first number:  4\n",
      "enter the second number:  4\n"
     ]
    },
    {
     "name": "stdout",
     "output_type": "stream",
     "text": [
      "is first number greater than second:  False\n",
      "is first number greater than or equal to second:  True\n",
      "is first number smaller than second:  False\n",
      "is first number less than or equal to second:  True\n",
      "is first number equal to second:  True\n",
      "is first number equal to second:  False\n"
     ]
    }
   ],
   "source": [
    "# Comparison Operators on integers. Take two different integer values. Store them in two different variables.Do below operations on them:-\n",
    "#Compare se two numbers with below operator:- Greater than, '>',Smaller than, '<',Greater than or equal to, '>=',Less than or equal to, '<=',\n",
    "#Observe their output(return type should be boolean)\n",
    "\n",
    "a=int(input(\"enter the first number: \"))\n",
    "b=int(input(\"enter the second number: \"))\n",
    "print(\"is first number greater than second: \",a>b)\n",
    "print(\"is first number greater than or equal to second: \",a>=b)\n",
    "print(\"is first number smaller than second: \",a<b)\n",
    "print(\"is first number less than or equal to second: \",a<=b)\n",
    "print(\"is first number equal to second: \",a==b) # Equality Operator\n",
    "print(\"is first number equal to second: \",a!=b) # Equality Operator"
   ]
  },
  {
   "cell_type": "code",
   "execution_count": 31,
   "id": "a810f9b6-6883-42e7-9067-5d53404095b5",
   "metadata": {},
   "outputs": [
    {
     "name": "stdout",
     "output_type": "stream",
     "text": [
      "20\n",
      "0\n",
      "0\n",
      "0\n",
      "10\n",
      "20\n",
      "20\n",
      "0\n",
      "False\n",
      "True\n"
     ]
    }
   ],
   "source": [
    "# Logical operators\n",
    "#Observe the output of below code\n",
    "\n",
    "#Cross check the output manually\n",
    "print(10 and 20)\n",
    "#----------------------------------------->Output is 20\n",
    "print(0 and 20)\n",
    "#----------------------------------------->Output is 0\n",
    "print(20 and 0)\n",
    "#----------------------------------------->Output is 0\n",
    "print(0 and 0)\n",
    "#----------------------------------------->Output is 0\n",
    "print(10 or 20)\n",
    "#----------------------------------------->Output is 10\n",
    "print(0 or 20)\n",
    "#----------------------------------------->Output is 20\n",
    "print(20 or 0)\n",
    "#----------------------------------------->Output is 20\n",
    "print(0 or 0)\n",
    "#----------------------------------------->Output is 0\n",
    "print(not 10)\n",
    "#----------------------------------------->Output is False\n",
    "print(not 0)\n",
    "#----------------------------------------->Output is True '''\n",
    "\n"
   ]
  },
  {
   "cell_type": "code",
   "execution_count": 33,
   "id": "c12050ad-5f7c-4fe4-b03d-f8c775742488",
   "metadata": {},
   "outputs": [
    {
     "name": "stdout",
     "output_type": "stream",
     "text": [
      "0\n",
      "30\n",
      "30\n",
      "-11\n",
      "40\n",
      "2\n"
     ]
    }
   ],
   "source": [
    "# Bitwise Operators: Do below operations on the values provided below:-\n",
    "\n",
    "#HERE THE NUMBERS ARE CONVERTED TO BIT/BINARY AND THEN THE ACTIONS ARE PERFORMED WHERE AS FOR LOGICAL WE HAVE TRUE AND FALSE VALUE\n",
    "#Bitwise and(&) -----------------------------------------> 10,   :: o/p =0\n",
    "print(10 & 20)                                                                 #10 IS BINARY:1010 , 20 IS 10100 HENCE WHILE ADDING = 11110 WHICH IS 30\n",
    "\n",
    "#Bitwise or(|) -----------------------------------------> 10, 20    o/p=30\n",
    "print(10 | 20)\n",
    "\n",
    "#Bitwise(^) -----------------------------------------> 10, 20   o/p:30\n",
    "print(10 ^ 20)\n",
    "\n",
    "#Bitwise negation(~) ------------------------------------> 10     o/p: -11\n",
    "print(~10 )\n",
    "\n",
    "\n",
    "#Bitwise left shift ------------------------------------> 10,2    o/p :40\n",
    "print(10 << 2)\n",
    "\n",
    "#Bitwise right shift ------------------------------------> 10,2    o/p :2\n",
    "print(10 >> 2)\n",
    "#Cross check the output manually"
   ]
  },
  {
   "cell_type": "code",
   "execution_count": 35,
   "id": "8a64b52a-8fb1-4099-962a-838e7366232a",
   "metadata": {},
   "outputs": [
    {
     "name": "stdout",
     "output_type": "stream",
     "text": [
      "True\n",
      "False\n",
      "False\n",
      "True\n"
     ]
    }
   ],
   "source": [
    "#What is the output of expression inside print statement. Cross check before running the program.\n",
    "\n",
    "a = 10\n",
    "b = 10\n",
    "print(a is b) #True or False?           ANS:TRUE\n",
    "print(a is not b) #True or False?       ANS: FALSE\n",
    "a = 1000\n",
    "b = 1000\n",
    "print(a is b) #True or False?            FALSE\n",
    "print(a is not b) #True or False?         TRUE\n",
    "\n",
    "#ANSWER:: HERE IS AND IS NOT CHECKS FOR THE IDENTITY AND AS SAID FOR SMALL INTEGERS (-5,0,256), IT STORES THEM SAME INT AT SAME ID."
   ]
  },
  {
   "cell_type": "code",
   "execution_count": 36,
   "id": "fbb57bdf-eddb-4295-9e74-f519df3af6d2",
   "metadata": {},
   "outputs": [
    {
     "name": "stdout",
     "output_type": "stream",
     "text": [
      "20\n"
     ]
    },
    {
     "data": {
      "text/plain": [
       "'10 + 10 & 20 + (~(-10)) << 2\\n10 + 10 & 20 - 44\\n10+0−44'"
      ]
     },
     "execution_count": 36,
     "metadata": {},
     "output_type": "execute_result"
    }
   ],
   "source": [
    "# What is the output of expression inside print statement. Cross check before running the program.\n",
    "print(10+(10*32)//2**5&20+(~(-10))<<2)\n"
   ]
  },
  {
   "cell_type": "code",
   "execution_count": 38,
   "id": "fb4a074b-b023-4440-b615-ec17e69efb9b",
   "metadata": {},
   "outputs": [
    {
     "name": "stdout",
     "output_type": "stream",
     "text": [
      "True\n",
      "True\n",
      "True\n",
      "True\n",
      "True\n",
      "True\n"
     ]
    }
   ],
   "source": [
    "# Membership operation: in, not in are two membership operators and it returns boolean value\n",
    "print('2' in 'Python2.7.8')\n",
    "print(10 in [10,10.20,10+20j,'Python'])\n",
    "print(10 in (10,10.20,10+20j,'Python'))\n",
    "print(2 in {1,2,3})\n",
    "print(3 in {1:100, 2:200, 3:300})\n",
    "print(10 in range(20))\n",
    "\n",
    "\n",
    "'''Output: True (since '2' is present in the string).\n",
    "\n",
    "This checks if the integer 10 is in the list [10, 10.20, 10+20j, 'Python'].\n",
    "Output: True (since 10 is in the list).\n",
    "\n",
    "This checks if 10 is in the tuple (10, 10.20, 10+20j, 'Python').\n",
    "Output: True (since 10 is in the tuple).\n",
    "\n",
    "\n",
    "This checks if 2 is in the set {1, 2, 3}.\n",
    "Output: True (since 2 is in the set).\n",
    "\n",
    "This checks if 3 is a key in the dictionary {1: 100, 2: 200, 3: 300}.\n",
    "Output: True (since 3 is a key in the dictionary).\n",
    "\n",
    "This checks if 10 is in the range from 0 to 19.\n",
    "Output: True (since 10 is included in the range).'''"
   ]
  },
  {
   "cell_type": "code",
   "execution_count": 42,
   "id": "0915c026-4eda-47f1-9307-87432e8d178b",
   "metadata": {},
   "outputs": [],
   "source": [
    "# An integer can be represented in binary, octal or hexadecimal form. Declare one binary, one octal and one hexadecimal value and store them in three different variables.\n",
    "#Convert 9876 to its binary, octal and hexadecimal equivalent and print their corresponding value.\n",
    "\n"
   ]
  },
  {
   "cell_type": "code",
   "execution_count": 41,
   "id": "7b802466-2b72-40d0-b65d-756593b5650f",
   "metadata": {},
   "outputs": [
    {
     "name": "stdout",
     "output_type": "stream",
     "text": [
      "80\n",
      "3870\n",
      "64222\n",
      "0b1010000\n",
      "0o7436\n",
      "0xfade\n",
      "0b1010000\n",
      "0b1111101011011110\n",
      "0o175336\n",
      "0o7436\n",
      "0x50\n",
      "0xfade\n"
     ]
    }
   ],
   "source": [
    "#. What will be the output of following:-\n",
    "a = 0b1010000\n",
    "print(a)\n",
    "b = 0o7436\n",
    "print(b)\n",
    "c = 0xfade\n",
    "print(c)\n",
    "print(bin(80))\n",
    "\n",
    "print(oct(3870))\n",
    "print(hex(64222))\n",
    "print(bin(0b1010000))\n",
    "print(bin(0xfade))\n",
    "print(oct(0xfade))\n",
    "print(oct(0o7436))\n",
    "print(hex(0b1010000))\n",
    "print(hex(0xfade))\n",
    "\n",
    "\"\"\""
   ]
  },
  {
   "cell_type": "code",
   "execution_count": null,
   "id": "ca08dc8e-1010-4cba-b4e5-dcb911da2171",
   "metadata": {},
   "outputs": [],
   "source": []
  }
 ],
 "metadata": {
  "kernelspec": {
   "display_name": "Python 3 (ipykernel)",
   "language": "python",
   "name": "python3"
  },
  "language_info": {
   "codemirror_mode": {
    "name": "ipython",
    "version": 3
   },
   "file_extension": ".py",
   "mimetype": "text/x-python",
   "name": "python",
   "nbconvert_exporter": "python",
   "pygments_lexer": "ipython3",
   "version": "3.11.7"
  }
 },
 "nbformat": 4,
 "nbformat_minor": 5
}
