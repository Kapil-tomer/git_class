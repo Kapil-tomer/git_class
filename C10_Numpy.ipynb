{
 "cells": [
  {
   "cell_type": "code",
   "execution_count": 70,
   "id": "9e3bf866-69fe-404a-8142-919eef2a335d",
   "metadata": {},
   "outputs": [
    {
     "ename": "SyntaxError",
     "evalue": "invalid decimal literal (974652631.py, line 7)",
     "output_type": "error",
     "traceback": [
      "\u001b[1;36m  Cell \u001b[1;32mIn[70], line 7\u001b[1;36m\u001b[0m\n\u001b[1;33m    4.faster than list\u001b[0m\n\u001b[1;37m     ^\u001b[0m\n\u001b[1;31mSyntaxError\u001b[0m\u001b[1;31m:\u001b[0m invalid decimal literal\n"
     ]
    }
   ],
   "source": [
    "#Numpy:: It is a python package, NUUMPERICAL PYTHON.\n",
    "#2005 BY TRAVIS\n",
    "#USES::\n",
    "1. mathematical and logical calculations on array.\n",
    "2. Built-in functions for linear algebra, random number generation.\n",
    "3. used for scientific calc\n",
    "4.faster than list\n",
    "\n",
    "5.fast because associated to c\n"
   ]
  },
  {
   "cell_type": "code",
   "execution_count": 1,
   "id": "c601226b-3e78-4e8a-ad67-dcd242640479",
   "metadata": {},
   "outputs": [],
   "source": [
    "#NUMPY IS OFTEN CALLED AS AN ALTERNATIVE FOR MATLAB."
   ]
  },
  {
   "cell_type": "code",
   "execution_count": 2,
   "id": "e4e3959f-fa63-4f53-8392-f65d5a933bf7",
   "metadata": {},
   "outputs": [],
   "source": [
    "#NUMPY IS USED WITH PACKAGES LIKE SCIPY(SCIENTIFIC PYTHON) AND MATPLOTLIB(PLOTTING LIBARARY) AND THUS MAKES IT CAPABLE TO REPLACE MATLAB."
   ]
  },
  {
   "cell_type": "code",
   "execution_count": 9,
   "id": "e458be04-8cdd-44e1-97c6-8a2ce33931c3",
   "metadata": {},
   "outputs": [],
   "source": [
    "# 1-D ARRAY : VECTOR\n",
    "#2-D ARRAY : MATRIX\n",
    "#3-D ARRAY : TENSOR   \n"
   ]
  },
  {
   "cell_type": "code",
   "execution_count": 28,
   "id": "74195593-a487-4b9e-b0ea-baa28a25a5e1",
   "metadata": {},
   "outputs": [
    {
     "name": "stdout",
     "output_type": "stream",
     "text": [
      "[1 2 3 4 5]\n",
      "[1 2 3 4 5]\n"
     ]
    },
    {
     "name": "stdin",
     "output_type": "stream",
     "text": [
      "enter the length of the array:  1\n",
      "enter the elements:  1\n"
     ]
    },
    {
     "name": "stdout",
     "output_type": "stream",
     "text": [
      "[1]\n",
      "<class 'numpy.ndarray'>\n"
     ]
    }
   ],
   "source": [
    "#creating 1-d array:: VECTOR\n",
    "import numpy as np\n",
    "a=[1,2,3,4,5]\n",
    "my_arr=np.array(a)\n",
    "print(my_arr)\n",
    "\n",
    "#also by \n",
    "import numpy as np\n",
    "my_arr=np.array([1,2,3,4,5])\n",
    "print(my_arr)\n",
    "\n",
    "a=[]\n",
    "length=int(input(\"enter the length of the array: \"))\n",
    "for i in range(length):\n",
    "    el=int(input(\"enter the elements: \"))\n",
    "    a.append(el)\n",
    "\n",
    "b=np.array(a)\n",
    "print(b)\n",
    "print(type(b))\n",
    "\n",
    "    \n"
   ]
  },
  {
   "cell_type": "code",
   "execution_count": 33,
   "id": "d9e0b159-95b7-44dc-87da-54066d3812c1",
   "metadata": {},
   "outputs": [
    {
     "name": "stdout",
     "output_type": "stream",
     "text": [
      "[[1 2 3]\n",
      " [4 5 6]\n",
      " [1 2 3]]\n",
      "[[1 2 3]\n",
      " [4 5 6]\n",
      " [1 2 3]]\n",
      "MY DIMENSIONS:  2\n",
      "SHAPE:  (3, 3)\n"
     ]
    },
    {
     "name": "stdin",
     "output_type": "stream",
     "text": [
      "enter the length of the array:  2\n",
      "enter the elements:  2\n",
      "enter the elements:  2\n"
     ]
    },
    {
     "name": "stdout",
     "output_type": "stream",
     "text": [
      "[2 2]\n",
      "<class 'numpy.ndarray'>\n"
     ]
    }
   ],
   "source": [
    "#creating 2-d array:: MATRIX\n",
    "import numpy as np\n",
    "a=[[1,2,3],[4,5,6],[1,2,3]]\n",
    "my_arr=np.array(a)\n",
    "print(my_arr)\n",
    "\n",
    "#also by \n",
    "import numpy as np\n",
    "my_arr=np.array([[1,2,3],[4,5,6],[1,2,3]])\n",
    "print(my_arr)\n",
    "\n",
    " \n",
    "\n",
    "print(\"MY DIMENSIONS: \",my_arr.ndim)                                      #to check dimesnion\n",
    "print(\"SHAPE: \",my_arr.shape)                                             #to check shape\n",
    "\n",
    "                                  \n",
    "\n",
    "a=[]\n",
    "length=int(input(\"enter the length of the array: \"))##\n",
    "for i in range(length):\n",
    "    \n",
    "    el=int(input(\"enter the elements: \"))\n",
    "    a.append(el)\n",
    "\n",
    "b=np.array(a)\n",
    "print(b)\n",
    "print(type(b))\n",
    "\n",
    "    \n"
   ]
  },
  {
   "cell_type": "code",
   "execution_count": 10,
   "id": "0feda69d-782d-4947-83b1-9cae8f4df999",
   "metadata": {},
   "outputs": [
    {
     "name": "stdout",
     "output_type": "stream",
     "text": [
      "[0. 0. 0. 0. 0.]\n",
      "[[0. 0.]\n",
      " [0. 0.]]\n",
      "[1. 1. 1. 1. 1.]\n",
      "[[1. 1.]\n",
      " [1. 1.]]\n"
     ]
    },
    {
     "data": {
      "text/plain": [
       "array([10, 12, 14, 16, 18])"
      ]
     },
     "execution_count": 10,
     "metadata": {},
     "output_type": "execute_result"
    }
   ],
   "source": [
    "#NUMPY FUNCTIONS::\n",
    "#1. ZEROES:: CREATES A 1-D OR 2-D ARRAY AND FILLS IT WITH ZERO\n",
    "\n",
    "import numpy as np\n",
    "arr = np.zeros(5)\n",
    "print(arr)\n",
    "\n",
    "arr = np.zeros((2,2))     #for 2-d input in form of tuple\n",
    "print(arr)\n",
    "\n",
    "\n",
    "#ones: \n",
    "import numpy as np\n",
    "arr = np.ones(5)\n",
    "print(arr)\n",
    "\n",
    "\n",
    "arr = np.ones((2,2))     #for 2-d input in form of tuple\n",
    "print(arr)\n",
    "\n",
    "arr=np.full((3,3),10)    #for creating a array with a same number , 10 here\n",
    "arr\n",
    "\n",
    "arr=np.arange(10,21)\n",
    "arr\n",
    "\n",
    "arr=np.arange(10,20,2)  #with skip value\n",
    "arr"
   ]
  },
  {
   "cell_type": "code",
   "execution_count": 43,
   "id": "1e432641-c330-47b0-a143-eae47c9630a0",
   "metadata": {},
   "outputs": [
    {
     "name": "stdout",
     "output_type": "stream",
     "text": [
      "[[1. 0. 0.]\n",
      " [0. 1. 0.]\n",
      " [0. 0. 1.]]\n",
      "[[1.]\n",
      " [0.]]\n"
     ]
    }
   ],
   "source": [
    "#3. EYE:: CREATES AS ALL THE DIAGONAL ELEMENTS AS 1 AND REST 0\n",
    "\n",
    "import numpy as np\n",
    "arr = np.eye(3)\n",
    "print(arr)\n",
    "\n",
    "arr = np.eye(2,1)   #here you need not to pass tuple and pass two diff arguments , if passed one it will build a square matrix\n",
    "\n",
    "print(arr)"
   ]
  },
  {
   "cell_type": "code",
   "execution_count": 46,
   "id": "97ef78e9-2698-4f74-adea-846a32eeb2f6",
   "metadata": {},
   "outputs": [
    {
     "name": "stdout",
     "output_type": "stream",
     "text": [
      "[[1 0 0 0 0]\n",
      " [0 2 0 0 0]\n",
      " [0 0 3 0 0]\n",
      " [0 0 0 4 0]\n",
      " [0 0 0 0 8]]\n",
      "[1 2 3 4 8]\n"
     ]
    }
   ],
   "source": [
    "#4. DIAG :: ASSIGN THE GIVEN VALUE TO ALL THE DIAGONAL ELEMENTS AND REST AS 0\n",
    "import numpy as np\n",
    "arr = np.diag([1,2,3,4,8])\n",
    "print(arr)\n",
    " #here the values would be given in a list and it will create a square matrix\n",
    "\n",
    "\n",
    "#you can also use diag to extract all the diagonal elemnts  of a given array\n",
    "print(np.diag(arr))"
   ]
  },
  {
   "cell_type": "code",
   "execution_count": 72,
   "id": "37777a5c-f896-4c30-805b-eb80d3368ee6",
   "metadata": {},
   "outputs": [
    {
     "name": "stdout",
     "output_type": "stream",
     "text": [
      "[9 3 4]\n"
     ]
    }
   ],
   "source": [
    "#5. randint :: generate random numbers between a given range\n",
    "# rand(min,max,total_values),        min=start,max=uptill, total=how many numbers you wanna generate between them\n",
    "\n",
    "import numpy as np\n",
    "arr=np.random.randint(1,10,3)\n",
    "print(arr)"
   ]
  },
  {
   "cell_type": "code",
   "execution_count": 3,
   "id": "3a99bec2-d05a-4c84-a865-391d49da2ee3",
   "metadata": {},
   "outputs": [
    {
     "ename": "NameError",
     "evalue": "name 'np' is not defined",
     "output_type": "error",
     "traceback": [
      "\u001b[1;31m---------------------------------------------------------------------------\u001b[0m",
      "\u001b[1;31mNameError\u001b[0m                                 Traceback (most recent call last)",
      "Cell \u001b[1;32mIn[3], line 4\u001b[0m\n\u001b[0;32m      1\u001b[0m \u001b[38;5;66;03m#6 rand: use to generate random value between 0 to 1\u001b[39;00m\n\u001b[0;32m      2\u001b[0m \u001b[38;5;66;03m# syntax: rand(no. of values)\u001b[39;00m\n\u001b[0;32m      3\u001b[0m \u001b[38;5;28;01mimport\u001b[39;00m \u001b[38;5;21;01mnumpy\u001b[39;00m \u001b[38;5;28;01mas\u001b[39;00m \u001b[38;5;21;01mnum\u001b[39;00m\n\u001b[1;32m----> 4\u001b[0m arr\u001b[38;5;241m=\u001b[39mnp\u001b[38;5;241m.\u001b[39mrandom\u001b[38;5;241m.\u001b[39mrand(\u001b[38;5;241m2\u001b[39m,)\n\u001b[0;32m      5\u001b[0m \u001b[38;5;28mprint\u001b[39m(arr)\n\u001b[0;32m      6\u001b[0m \u001b[38;5;28;01mimport\u001b[39;00m \u001b[38;5;21;01mnumpy\u001b[39;00m \u001b[38;5;28;01mas\u001b[39;00m \u001b[38;5;21;01mnum\u001b[39;00m\n",
      "\u001b[1;31mNameError\u001b[0m: name 'np' is not defined"
     ]
    }
   ],
   "source": [
    "#6 rand: use to generate random value between 0 to 1\n",
    "# syntax: rand(no. of values)\n",
    "import numpy as num\n",
    "arr=np.random.rand(2,)\n",
    "print(arr)\n",
    "import numpy as num\n",
    "arr=np.random.rand(2,2)\n",
    "print(arr)"
   ]
  },
  {
   "cell_type": "code",
   "execution_count": 60,
   "id": "4004c950-4243-4b5f-8bf5-98a823b37365",
   "metadata": {},
   "outputs": [
    {
     "name": "stdout",
     "output_type": "stream",
     "text": [
      "[-0.32192674  0.59795737]\n",
      "[[-1.45422391 -0.72895274]\n",
      " [-1.42878558  1.12296749]]\n"
     ]
    }
   ],
   "source": [
    "#7. randn : use to generate a random value close to 0.This may return positive or negative value.\n",
    "\n",
    "import numpy as np\n",
    "arr=np.random.randn(2)\n",
    "print(arr)\n",
    "arr=np.random.randn(2,2)\n",
    "print(arr)"
   ]
  },
  {
   "cell_type": "code",
   "execution_count": 60,
   "id": "481e6f89-ec54-4960-86a5-fa18263b1a21",
   "metadata": {},
   "outputs": [
    {
     "name": "stdout",
     "output_type": "stream",
     "text": [
      "[-0.32192674  0.59795737]\n",
      "[[-1.45422391 -0.72895274]\n",
      " [-1.42878558  1.12296749]]\n"
     ]
    }
   ],
   "source": [
    "#7. randn : use to generate a random value close to 0.This may return positive or negative value.\n",
    "\n",
    "import numpy as np\n",
    "arr=np.random.randn(2)\n",
    "print(arr)\n",
    "arr=np.random.randn(2,2)\n",
    "print(arr)"
   ]
  },
  {
   "cell_type": "code",
   "execution_count": 104,
   "id": "2eb5e474-b29a-4071-86e1-c266f216a806",
   "metadata": {},
   "outputs": [
    {
     "data": {
      "text/plain": [
       "array([10, 11, 12, 13, 14, 15, 16, 17, 18, 19])"
      ]
     },
     "execution_count": 104,
     "metadata": {},
     "output_type": "execute_result"
    }
   ],
   "source": [
    "#to print an array within a range\n",
    "\n",
    "arr=np.arange(10,20)\n",
    "arr"
   ]
  },
  {
   "cell_type": "code",
   "execution_count": 1,
   "id": "d6da8cb3-0c0e-43fc-ae4a-e0b07ea86676",
   "metadata": {},
   "outputs": [
    {
     "name": "stdin",
     "output_type": "stream",
     "text": [
      "enter the length of the array :  4\n",
      "enter the elements:  4\n",
      "enter the elements:  3\n",
      "enter the elements:  2\n",
      "enter the elements:  1\n"
     ]
    },
    {
     "name": "stdout",
     "output_type": "stream",
     "text": [
      "[4 3 2 1]\n",
      "1\n",
      "2\n",
      "3\n",
      "4\n"
     ]
    }
   ],
   "source": [
    "#SLICING \n",
    "#1-D ::\n",
    "\n",
    "import numpy as np\n",
    "list1=[]\n",
    "a=int(input(\"enter the length of the array : \"))\n",
    "for i in range(a):\n",
    "    el=int(input(\"enter the elements: \"))\n",
    "    list1.append(el)\n",
    "\n",
    "arr=np.array(list1)\n",
    "print(arr)\n",
    "\n",
    "for i in range(arr.size):\n",
    "    print(arr[(arr.size)-i-1])"
   ]
  },
  {
   "cell_type": "code",
   "execution_count": 10,
   "id": "1c9a949a-21f2-4221-b5fc-b150fdf0a642",
   "metadata": {},
   "outputs": [
    {
     "name": "stdin",
     "output_type": "stream",
     "text": [
      "enter the length of the array :  4\n",
      "enter the elements:  4\n",
      "enter the elements:  3\n",
      "enter the elements:  2\n",
      "enter the elements:  1\n"
     ]
    },
    {
     "name": "stdout",
     "output_type": "stream",
     "text": [
      "[4 3 2 1]\n",
      "10\n"
     ]
    }
   ],
   "source": [
    "import numpy as np\n",
    "list1=[]\n",
    "a=int(input(\"enter the length of the array : \"))\n",
    "for i in range(a):\n",
    "    el=int(input(\"enter the elements: \"))\n",
    "    list1.append(el)\n",
    "\n",
    "arr=np.array(list1)\n",
    "print(arr)\n",
    "\n",
    "sum=0\n",
    "for i in range(arr.size):\n",
    "    sum+=arr[i]\n",
    "    \n",
    "print(sum)\n",
    "\n"
   ]
  },
  {
   "cell_type": "code",
   "execution_count": 12,
   "id": "e21de84c-6efa-4f58-96c8-0e8025708778",
   "metadata": {},
   "outputs": [
    {
     "name": "stdout",
     "output_type": "stream",
     "text": [
      "[2 1]\n"
     ]
    }
   ],
   "source": [
    "arr1=arr[2:4]\n",
    "print(arr1)"
   ]
  },
  {
   "cell_type": "code",
   "execution_count": 18,
   "id": "0960369b-1efe-4b92-9a59-6398b52e5efb",
   "metadata": {},
   "outputs": [
    {
     "name": "stdout",
     "output_type": "stream",
     "text": [
      "[28  1  2 32 35 25 27 34 43 13 25  5]\n",
      "[[28  1  2 32 35 25]\n",
      " [27 34 43 13 25  5]]\n",
      "[28  1  2 32 35 25 27 34 43 13 25  5]\n"
     ]
    }
   ],
   "source": [
    "#reshaping of 1-d array ::\n",
    "\n",
    "import numpy as np\n",
    "arr1=np.random.randint(0,50,12)\n",
    "print(arr1)\n",
    "\n",
    "arr1=arr1.reshape(2,6)    #reshaped with rows and colums, multiplication should be equal to total of elemenets\n",
    "print(arr1)\n",
    "\n",
    "#doing vice versa\n",
    "\n",
    "arr1=arr1.reshape(12)\n",
    "print(arr1)"
   ]
  },
  {
   "cell_type": "code",
   "execution_count": 21,
   "id": "b2d7e6af-636f-4309-a19c-075f8bbc802d",
   "metadata": {},
   "outputs": [
    {
     "name": "stdout",
     "output_type": "stream",
     "text": [
      "[[[28  1  2]\n",
      "  [32 35 25]]\n",
      "\n",
      " [[27 34 43]\n",
      "  [13 25  5]]]\n",
      "3\n"
     ]
    }
   ],
   "source": [
    "#to converting into 3d\n",
    "arr1=arr1.reshape(2,2,3)\n",
    "print(arr1)\n",
    "print(arr1.ndim)"
   ]
  },
  {
   "cell_type": "code",
   "execution_count": 31,
   "id": "b912ae20-bc1c-4c2e-9e36-3bdc440f065a",
   "metadata": {},
   "outputs": [
    {
     "name": "stdout",
     "output_type": "stream",
     "text": [
      "[37 33 22 71  5 77 46 88 65 91 51 39]\n",
      "[[37 33 22]\n",
      " [71  5 77]\n",
      " [46 88 65]\n",
      " [91 51 39]]\n",
      "[[37 33 22]\n",
      " [71  5 77]\n",
      " [46 88 65]\n",
      " [91 51 39]]\n",
      "[[37 33 22]\n",
      " [71  5 77]\n",
      " [46 88 65]\n",
      " [91 51 39]]\n"
     ]
    },
    {
     "ename": "ValueError",
     "evalue": "can only specify one unknown dimension",
     "output_type": "error",
     "traceback": [
      "\u001b[1;31m---------------------------------------------------------------------------\u001b[0m",
      "\u001b[1;31mValueError\u001b[0m                                Traceback (most recent call last)",
      "Cell \u001b[1;32mIn[31], line 12\u001b[0m\n\u001b[0;32m     10\u001b[0m arr\u001b[38;5;241m=\u001b[39marr\u001b[38;5;241m.\u001b[39mreshape(\u001b[38;5;241m-\u001b[39m\u001b[38;5;241m1\u001b[39m,\u001b[38;5;241m3\u001b[39m)\n\u001b[0;32m     11\u001b[0m \u001b[38;5;28mprint\u001b[39m(arr)\n\u001b[1;32m---> 12\u001b[0m arr\u001b[38;5;241m=\u001b[39marr\u001b[38;5;241m.\u001b[39mreshape(\u001b[38;5;241m-\u001b[39m\u001b[38;5;241m1\u001b[39m,\u001b[38;5;241m-\u001b[39m\u001b[38;5;241m1\u001b[39m)\n\u001b[0;32m     13\u001b[0m \u001b[38;5;28mprint\u001b[39m(arr)\n\u001b[0;32m     15\u001b[0m arr\u001b[38;5;241m=\u001b[39marr\u001b[38;5;241m.\u001b[39mreshape(\u001b[38;5;241m12\u001b[39m)\n",
      "\u001b[1;31mValueError\u001b[0m: can only specify one unknown dimension"
     ]
    }
   ],
   "source": [
    "import numpy as np\n",
    "arr=np.random.randint(1,100,12)\n",
    "print(arr)\n",
    "\n",
    "arr=arr.reshape(4,3)\n",
    "print(arr)\n",
    "\n",
    "arr=arr.reshape(4,-1)                           #-1 menas that you have given the system to choose the input, (auto calculation)\n",
    "print(arr)\n",
    "arr=arr.reshape(-1,3)\n",
    "print(arr)\n",
    "arr=arr.reshape(-1,-1)                #you can only define one unspecified dimension\n",
    "print(arr)\n",
    "\n",
    "arr=arr.reshape(12)\n",
    "print(arr)\n",
    "\n",
    "arr=arr.reshape(2,2,3)\n",
    "print(arr)"
   ]
  },
  {
   "cell_type": "code",
   "execution_count": 41,
   "id": "2d1f7ae5-66ca-4ec6-bccb-201522db8016",
   "metadata": {},
   "outputs": [
    {
     "name": "stdout",
     "output_type": "stream",
     "text": [
      "[38 13 73 10 76  6 80 65 17  2 77 72]\n",
      "[ 7 26 51 21 19 85 12 29 30 15 51 69]\n",
      "[88 88 95 97 87 14 10  8 64 62 23 58  2  1]\n",
      "[61 82  9 89 14 48]\n"
     ]
    }
   ],
   "source": [
    "#SEED FUNCTION::\n",
    "#WORKS SIMILAR TO TO randint function BUT HERE IT FIXES THE GENERATION OF THE RANDOM NUMBER, i.e fix set of random numbers \n",
    "import numpy as num\n",
    "np.random.seed(1)\n",
    "arr1=np.random.randint(1,100,12)\n",
    "print(arr1)\n",
    "arr1=np.random.randint(1,100,12)\n",
    "print(arr1)\n",
    "\n",
    "arr1=np.random.randint(1,100,14)\n",
    "print(arr1)\n",
    "\n",
    "arr1=np.random.randint(1,100,6)\n",
    "print(arr1)\n",
    "\n"
   ]
  },
  {
   "cell_type": "code",
   "execution_count": 47,
   "id": "56ec532d-1187-4885-959e-6c0168a7ab56",
   "metadata": {},
   "outputs": [
    {
     "name": "stdin",
     "output_type": "stream",
     "text": [
      "enter the number of rows:  2\n",
      "enter the number of columns:  2\n",
      "enter the element for element[0,0]::  1\n",
      "enter the element for element[0,1]::  2\n",
      "enter the element for element[1,0]::  3\n",
      "enter the element for element[1,1]::  4\n"
     ]
    },
    {
     "name": "stdout",
     "output_type": "stream",
     "text": [
      "[[1, 2], [3, 4]]\n",
      "[[1 2]\n",
      " [3 4]]\n",
      "<class 'numpy.ndarray'>\n",
      "4\n"
     ]
    }
   ],
   "source": [
    "#2-d array:: ALSO KNOWN AS MATRIX  \n",
    "#[[0,0],[0,1],[0,2]                   ROW,COL\n",
    "# [1,0],[1,1],[1,2]]\n",
    "\n",
    "#INDEXING:: array[ROW][COL]  ::: this is double bracket  notation \n",
    "# array[r,c]:: single bracket notation\n",
    "\n",
    "# creating a 2-d array::matrix\n",
    "\n",
    "import numpy as np\n",
    "row=int(input(\"enter the number of rows: \"))\n",
    "col=int(input(\"enter the number of columns: \"))\n",
    "\n",
    "matrix=[]\n",
    "for i in range(row):\n",
    "    lis=[]\n",
    "    for j in range(col):\n",
    "        el=int(input(f\"enter the element for element[{i},{j}]:: \"))\n",
    "        lis.append(el)\n",
    "\n",
    "    matrix.append(lis)\n",
    "\n",
    "print(matrix)\n",
    "arr=np.array(matrix)\n",
    "print(arr)\n",
    "print(type(arr))\n",
    "print(arr.size)\n",
    "\n",
    "\n",
    "\n",
    "        \n"
   ]
  },
  {
   "cell_type": "code",
   "execution_count": 54,
   "id": "88e1f9e9-78e7-41f2-bcc5-8a493bee99c9",
   "metadata": {},
   "outputs": [
    {
     "name": "stdout",
     "output_type": "stream",
     "text": [
      "[[20 30]\n",
      " [50 60]]\n",
      "[[40 50 60]]\n",
      "[]\n",
      "[[70 80 80]]\n"
     ]
    }
   ],
   "source": [
    "#Slicing:: 2-d array :: matrix\n",
    "#syntax:: array_name[row range,column range]\n",
    "\n",
    "import numpy as np\n",
    "a=np.array([[10,20,30],[40,50,60],[70,80,80]])\n",
    "\n",
    "\n",
    "print(a[0:2,1:3])\n",
    "print(a[1:2])\n",
    "print(a[2:1])\n",
    "print(a[2:])"
   ]
  },
  {
   "cell_type": "code",
   "execution_count": 14,
   "id": "d37347c3-e902-489d-9b2b-d987c49c425c",
   "metadata": {},
   "outputs": [
    {
     "name": "stdout",
     "output_type": "stream",
     "text": [
      "[[ 38 236 397  73 256]\n",
      " [394 204 134 336 449]\n",
      " [145 130 461  72 238]\n",
      " [391 282 179 277 255]\n",
      " [358 403 469 396 253]\n",
      " [491 157 414 399  51]]\n"
     ]
    }
   ],
   "source": [
    "import numpy as np\n",
    "np.random.seed(1)\n",
    "arr=np.random.randint(1,500,30)\n",
    "arr=arr.reshape(6,5)\n",
    "\n",
    "#also  arr=np.random.randint(1,500,30).reshape(6,5) for a single line of code\n",
    "\n",
    "\n",
    "print(arr)\n"
   ]
  },
  {
   "cell_type": "code",
   "execution_count": 21,
   "id": "3deb90db-99f9-42bf-b48e-72ea8f0652db",
   "metadata": {},
   "outputs": [
    {
     "name": "stdout",
     "output_type": "stream",
     "text": [
      "[]\n"
     ]
    }
   ],
   "source": [
    "print(arr[2:2,4:4])\n"
   ]
  },
  {
   "cell_type": "code",
   "execution_count": 24,
   "id": "3a0aaca2-1f84-468f-ba90-7d118a084c04",
   "metadata": {},
   "outputs": [
    {
     "name": "stdout",
     "output_type": "stream",
     "text": [
      "[1 2 3 0 0 0 0 8]\n",
      "[1 2 3 4 5 6 7 8]\n"
     ]
    }
   ],
   "source": [
    "## VIEW VS COPY :: WHEN WE SLICE A SUB ARRAY FROM AN ARRAY, IT MAY BE DONE BY TWO WAYS. \n",
    "#FIRST BY MAKING A VIEW AND THE SECOND IS COPY\n",
    "#VIEW:: BY DEFALUT VIEW HAPPENS, HERE IF WE MAKE ANY CHANGES TO THE SUB ARRAY IT WILL ALSO REFLECT TO THE ORIGNAL ARRAY.\n",
    "#COPY:: NO CHANGES WOULD BE REFLECTED ON THE ORIGNAL ARRAY\n",
    "\n",
    "import numpy as np\n",
    "\n",
    "a=np.array([1,2,3,4,5,6,7,8])\n",
    "sliced=a[3:7]\n",
    "sliced[:]=0                   # we updated the elements to zero and these would be reflected in orignal array by default\n",
    "print(a)\n",
    "\n",
    "\n",
    "a=np.array([1,2,3,4,5,6,7,8])\n",
    "sliced=a[3:7].copy()\n",
    "sliced[:]=0\n",
    "print(a)\n",
    "\n",
    "\n"
   ]
  },
  {
   "cell_type": "code",
   "execution_count": 53,
   "id": "d0c663c7-a649-49c7-9818-0e98b6e1939a",
   "metadata": {},
   "outputs": [
    {
     "name": "stdout",
     "output_type": "stream",
     "text": [
      "[False False False False False False False False False False  True  True\n",
      "  True  True  True]\n",
      "[11 12 13 14 15]\n",
      "[1 2 3 4]\n",
      "[ 1 22  3 22  5 22  7 22  9 22 11 22 13 22 15]\n",
      "[ 1  0  3  0  5  0  7  0  9  0 11  0  0  0  0]\n"
     ]
    }
   ],
   "source": [
    "#CONDITIONAL SELECTION ::\n",
    "import numpy as np\n",
    "arr=np.arange(1,16)           #use to create a array directly \n",
    "\n",
    "print(arr>10)\n",
    "\n",
    "#condition bases statements::\n",
    "b=arr>10\n",
    "print(arr[b])\n",
    "\n",
    "c=arr<5\n",
    "print(arr[c])\n",
    "\n",
    "arr[arr%2==0]=22\n",
    "print(arr)\n",
    "\n",
    "\n",
    "arr[arr>11]=0\n",
    "print(arr)\n",
    "\n",
    "\n"
   ]
  },
  {
   "cell_type": "code",
   "execution_count": 75,
   "id": "f625d207-a7ec-4933-a2cd-4fb8128fdf5d",
   "metadata": {},
   "outputs": [
    {
     "name": "stdout",
     "output_type": "stream",
     "text": [
      "[ 1  2  3  4  5  6  7  8  9 10 11 12 13 14 15]\n",
      "[ 2  4  6  8 10 12 14 16 18 20 22 24 26 28 30]\n",
      "[ 3  4  5  6  7  8  9 10 11 12 13 14 15 16 17]\n",
      "[ 6  8 10 12 14 16 18 20 22 24 26 28 30 32 34]\n",
      "[  1   4   9  16  25  36  49  64  81 100 121 144 169 196 225]\n",
      "[ 1.  2.  3.  4.  5.  6.  7.  8.  9. 10. 11. 12. 13. 14. 15.]\n"
     ]
    }
   ],
   "source": [
    "#NUMPY ARRAY OPERATIONS:: \n",
    "import math\n",
    "import numpy as np\n",
    "arr=np.arange(1,16)\n",
    "print(arr)\n",
    "\n",
    "print(arr*2)\n",
    "\n",
    "arr=arr+2\n",
    "print(arr)\n",
    "\n",
    "arr=arr*2                     #here operation is done on the saved value\n",
    "print(arr)\n",
    "\n",
    "arr=np.arange(1,16)\n",
    "arr=arr**2\n",
    "print(arr)\n",
    "\n",
    "arr=np.sqrt(arr)         #we have to use np (numpy) to calculate sqaure root\n",
    "print(arr)\n",
    "\n",
    "#arr=arr/0\n",
    "#print(arr)   #in numpy when we divide by zero it retuend infinity and not an error \n"
   ]
  },
  {
   "cell_type": "code",
   "execution_count": 82,
   "id": "6c48617e-c6b0-4aac-becb-87834068b5f2",
   "metadata": {},
   "outputs": [
    {
     "name": "stdout",
     "output_type": "stream",
     "text": [
      "[ 1  2  3  4  5  6  7  8  9 10 11 12 13 14 15]\n",
      "[ 1  2  3  4  5  6  7  8  9 10 11 12 13 14 15]\n",
      "[ 2  4  6  8 10 12 14 16 18 20 22 24 26 28 30]\n",
      "[0 0 0 0 0 0 0 0 0 0 0 0 0 0 0]\n"
     ]
    }
   ],
   "source": [
    "arr1=np.arange(1,16)\n",
    "arr2=np.arange(1,16)\n",
    "print(arr1)\n",
    "print(arr2)\n",
    "print(arr1+arr2)\n",
    "print(arr1-arr2)"
   ]
  },
  {
   "cell_type": "code",
   "execution_count": 94,
   "id": "75454d05-1800-45de-bdab-9865c78201b5",
   "metadata": {},
   "outputs": [
    {
     "name": "stdout",
     "output_type": "stream",
     "text": [
      "[[26 99 88]\n",
      " [ 8 27 26]\n",
      " [23 10 68]]\n",
      "[[24 28 38]\n",
      " [58 84 39]\n",
      " [ 9 33 35]]\n"
     ]
    }
   ],
   "source": [
    "#operations:: in a matric(2-d array)\n",
    "\n",
    "import numpy as np\n",
    "arr1=np.random.randint(1,100,9).reshape(3,3)\n",
    "arr2=np.random.randint(1,100,9).reshape(3,3)\n",
    "print(arr1)\n",
    "print(arr2)\n"
   ]
  },
  {
   "cell_type": "code",
   "execution_count": 86,
   "id": "96fb3af8-64e6-4ea5-b561-4b05d27969cd",
   "metadata": {},
   "outputs": [
    {
     "name": "stdout",
     "output_type": "stream",
     "text": [
      "[[ 90  73]\n",
      " [151  37]\n",
      " [106  75]\n",
      " [ 32 133]]\n"
     ]
    }
   ],
   "source": [
    "print(arr1+arr2)"
   ]
  },
  {
   "cell_type": "code",
   "execution_count": 87,
   "id": "e4262898-a3a4-4b28-a0f8-a2a01f4d84e0",
   "metadata": {},
   "outputs": [
    {
     "name": "stdout",
     "output_type": "stream",
     "text": [
      "[[-74  55]\n",
      " [-27   9]\n",
      " [ 10 -71]\n",
      " [-30 -11]]\n"
     ]
    }
   ],
   "source": [
    "print(arr1-arr2)"
   ]
  },
  {
   "cell_type": "code",
   "execution_count": 96,
   "id": "e7a15f3e-ce31-43f3-a2e8-e3bcb28e9ac7",
   "metadata": {},
   "outputs": [
    {
     "name": "stdout",
     "output_type": "stream",
     "text": [
      "[[ 624 2772 3344]\n",
      " [ 464 2268 1014]\n",
      " [ 207  330 2380]]\n",
      "[[ 7158 11948  7929]\n",
      " [ 1992  3350  2267]\n",
      " [ 1744  3728  3644]]\n"
     ]
    }
   ],
   "source": [
    "print(arr1*arr2)        #to multiply elem1 to elem1 of mat of 2\n",
    "print(arr1.dot(arr2))   #actual matrix amultiplcation\n"
   ]
  },
  {
   "cell_type": "code",
   "execution_count": 95,
   "id": "f7fa2d41-ed1b-4539-aa8f-9cac461eced0",
   "metadata": {},
   "outputs": [
    {
     "name": "stdout",
     "output_type": "stream",
     "text": [
      "[[1.08333333 3.53571429 2.31578947]\n",
      " [0.13793103 0.32142857 0.66666667]\n",
      " [2.55555556 0.3030303  1.94285714]]\n"
     ]
    }
   ],
   "source": [
    "print(arr1/arr2)"
   ]
  },
  {
   "cell_type": "code",
   "execution_count": 15,
   "id": "b50a5325-3c6a-4112-b7c3-12304d1e93d1",
   "metadata": {},
   "outputs": [
    {
     "name": "stdout",
     "output_type": "stream",
     "text": [
      "1\n",
      "9\n",
      "0\n",
      "8\n",
      "2.0\n",
      "[ 0.84147098  0.90929743  0.14112001 -0.7568025  -0.95892427 -0.2794155\n",
      "  0.6569866   0.98935825  0.41211849]\n",
      "[ 0.54030231 -0.41614684 -0.9899925  -0.65364362  0.28366219  0.96017029\n",
      "  0.75390225 -0.14550003 -0.91113026]\n",
      "[ 1.55740772 -2.18503986 -0.14254654  1.15782128 -3.38051501 -0.29100619\n",
      "  0.87144798 -6.79971146 -0.45231566]\n",
      "[ 1.55740772 -2.18503986 -0.14254654  1.15782128 -3.38051501 -0.29100619\n",
      "  0.87144798 -6.79971146 -0.45231566]\n"
     ]
    }
   ],
   "source": [
    "import numpy as np\n",
    "arr=np.array([1,2,3,4,5,6,7,8,9])\n",
    "print(np.min(arr))\n",
    "print(np.max(arr))\n",
    "print(np.argmin(arr))   #index of min value\n",
    "print(np.argmax(arr))\n",
    "print(np.sqrt(arr[3]))\n",
    "print(np.sin(arr))     #to get the sin value\n",
    "print(np.cos(arr))\n",
    "print(np.tan(arr))\n",
    "print((np.sin(arr)/np.cos(arr)))"
   ]
  },
  {
   "cell_type": "code",
   "execution_count": 18,
   "id": "190eae02-1add-4b60-a81f-d264b0869656",
   "metadata": {},
   "outputs": [
    {
     "name": "stdout",
     "output_type": "stream",
     "text": [
      "[ 1.  2.  3.  4.  5.  6.  7.  8.  9. 10.]\n",
      "[1.   1.25 1.5  1.75 2.  ]\n"
     ]
    }
   ],
   "source": [
    "#linspace func:: \n",
    "# np.linspace(start,end,number of values)\n",
    "#this function gives number of value between start and end with equal diff in between\n",
    "arr=np.linspace(1,10,10)\n",
    "print(arr)\n",
    "arr=np.linspace(1,2,5)\n",
    "print(arr)"
   ]
  },
  {
   "cell_type": "code",
   "execution_count": 34,
   "id": "e8d973bf-2a0c-4c7a-a5c5-9d75af4b5a7e",
   "metadata": {},
   "outputs": [
    {
     "name": "stdout",
     "output_type": "stream",
     "text": [
      "[[ 6 12 13]\n",
      " [ 9 10 12]\n",
      " [ 6 16  1]]\n",
      "<class 'numpy.ndarray'>\n",
      "85\n",
      "1\n",
      "16\n",
      "sum [31 31 23]\n",
      "min for col  [ 6 10  1]\n",
      "max for row  [13 12 16]\n",
      "[ 6 18 31 40 50 62 68 84 85]\n"
     ]
    }
   ],
   "source": [
    "#for 2d matrix\n",
    "#almost same to 1d (vector)\n",
    "import numpy as np\n",
    "np.random.seed(1)\n",
    "matrix=np.random.randint(1,20,9).reshape(3,3)\n",
    "\n",
    "print(matrix)\n",
    "print(type(matrix))\n",
    "\n",
    "print(np.sum(matrix))\n",
    "print(np.min(matrix))\n",
    "print(np.max(matrix))\n",
    "\n",
    "\n",
    "print(\"sum\",np.sum(matrix,axis=1))     #one denotes row\n",
    "print(\"min for col \",np.min(matrix,axis=0))     #0 for colum\n",
    "print(\"max for row \",np.max(matrix,axis=1))     \n",
    "\n",
    "\n",
    "\n",
    "#to calculate cummilative sum\n",
    "print(np.cumsum(matrix))      \n",
    "\n",
    "\n"
   ]
  },
  {
   "cell_type": "code",
   "execution_count": 44,
   "id": "30b06c06-0658-41a0-b1a5-865b2926ac58",
   "metadata": {},
   "outputs": [
    {
     "name": "stdout",
     "output_type": "stream",
     "text": [
      "[ 6 12 13  9 10 12  6 16  1 17]\n",
      "[ 9  1  6  6 13 17 10 12 16 12]\n",
      "[ 1  6  9 10 12 13 16 17]\n",
      "[ 9  1  6  6 13 17 10 12 16 12]\n",
      "(array([ 1,  6,  9, 10, 12, 13, 16, 17]), array([1, 2, 0, 6, 7, 4, 8, 5], dtype=int64), array([1, 2, 1, 1, 2, 1, 1, 1], dtype=int64))\n"
     ]
    }
   ],
   "source": [
    "import numpy as np\n",
    "np.random.seed(1)\n",
    "arr=np.random.randint(1,20,10)\n",
    "print(arr)\n",
    "\n",
    "\n",
    "#SHUFFLE FUNCTION :: THIS IS USED TO CHANGE THE POSITIONS OF THE ARRAY, ELEMENTS WONT CHANGE BUT THERE POSITIONS WOULD\n",
    "np.random.shuffle(arr)\n",
    "print(arr)\n",
    "\n",
    "\n",
    "#UNIQUE:: GIVES ALL THE UNIQUE ELEMENTS AS THE OUTPUT, REMOVES THE DUPLICATE ARRAY\n",
    "arr2=np.unique(arr)\n",
    "print(arr2)\n",
    "print(arr)\n",
    "\n",
    "\n",
    "#YOU CAN ALSO GET SPECIFIED INDEX OF THE UNIQE VALUE AND ALSO GIVES THE FREQUENCY OF REPETATION\n",
    "arr=np.unique(arr,return_index=True,return_counts=True)\n",
    "print(arr)\n"
   ]
  },
  {
   "cell_type": "code",
   "execution_count": 49,
   "id": "027574bd-259c-4e23-8fea-42b9b8dfc3dd",
   "metadata": {},
   "outputs": [
    {
     "name": "stdout",
     "output_type": "stream",
     "text": [
      "[10 20 30 40 50 60 70 80]\n",
      "[1 2 3 4 5 6 7 8]\n",
      "[10 20 30 40 50 60 70 80  1  2  3  4  5  6  7  8]\n",
      "[[10 20 30 40 50 60 70 80]\n",
      " [ 1  2  3  4  5  6  7  8]]\n"
     ]
    }
   ],
   "source": [
    "# Stacking:: \n",
    "\n",
    "import numpy as np\n",
    "arr1=np.array([10,20,30,40,50,60,70,80])\n",
    "arr2=np.array([1,2,3,4,5,6,7,8])\n",
    "print(arr1)\n",
    "print(arr2)\n",
    "\n",
    "\n",
    "\n",
    "\n",
    "#horizontal stack: np.hstack(arr1,arr2) , basically stacks the arrays horizontaly\n",
    "print(np.hstack((arr1,arr2)))\n",
    "\n",
    "#Vertical :: np.vstack(arr1,arr2) , basically stacks the arrays in vertically\n",
    "print(np.vstack((arr1,arr2)))\n",
    "\n",
    "\n",
    "\n"
   ]
  },
  {
   "cell_type": "code",
   "execution_count": 52,
   "id": "6669da9b-0003-42ec-abdf-a6d1a698edeb",
   "metadata": {},
   "outputs": [
    {
     "name": "stdout",
     "output_type": "stream",
     "text": [
      "[[10 20 30]\n",
      " [40 50 60]\n",
      " [70 80 90]]\n",
      "[[1 2 3]\n",
      " [4 5 6]\n",
      " [7 8 9]]\n",
      "[[10 20 30  1  2  3]\n",
      " [40 50 60  4  5  6]\n",
      " [70 80 90  7  8  9]]\n",
      "[[10 20 30]\n",
      " [40 50 60]\n",
      " [70 80 90]\n",
      " [ 1  2  3]\n",
      " [ 4  5  6]\n",
      " [ 7  8  9]]\n"
     ]
    }
   ],
   "source": [
    "# Stacking::  for 2d rray(matrix)\n",
    "import numpy as np\n",
    "arr1=np.array([10,20,30,40,50,60,70,80,90]).reshape(3,3)\n",
    "arr2=np.array([1,2,3,4,5,6,7,8,9]).reshape(3,3)\n",
    "print(arr1)\n",
    "print(arr2)\n",
    "\n",
    "\n",
    "\n",
    "#horizontal stack: np.hstack(arr1,arr2) , basically stacks the arrays horizontaly\n",
    "print(np.hstack((arr1,arr2)))\n",
    "\n",
    "\n",
    "#Vertical :: np.vstack(arr1,arr2) , basically stacks the arrays in vertically\n",
    "print(np.vstack((arr1,arr2)))\n",
    "\n",
    "\n",
    "\n",
    "\n",
    "\n"
   ]
  },
  {
   "cell_type": "code",
   "execution_count": 62,
   "id": "b8d65270-56ad-40dc-9dfd-e025445f1949",
   "metadata": {},
   "outputs": [
    {
     "name": "stdout",
     "output_type": "stream",
     "text": [
      "[[1 2 3]\n",
      " [4 5 6]]\n",
      "[[5 6 4]\n",
      " [7 9 1]]\n",
      "[[1 2 3]\n",
      " [4 5 6]\n",
      " [5 6 4]\n",
      " [7 9 1]]\n",
      "[[1 2 3 5 6 4]\n",
      " [4 5 6 7 9 1]]\n"
     ]
    }
   ],
   "source": [
    "a=np.array([1,2,3,4,5,6]).reshape(2,3)\n",
    "b=np.random.randint(1,10,6).reshape(2,3)\n",
    "print(a)\n",
    "print(b)\n",
    "print(np.vstack((a,b)))\n",
    "print(np.hstack((a,b)))"
   ]
  },
  {
   "cell_type": "code",
   "execution_count": 106,
   "id": "10bdf451-8d56-4df4-ba2b-c4eedd97372b",
   "metadata": {},
   "outputs": [
    {
     "name": "stdout",
     "output_type": "stream",
     "text": [
      "[0 1 2 3 5 6]\n",
      "[ 9 12 13 12  5  8  8 14  5 17]\n",
      "[10 11 12 13 14 15 16 17 18 19]\n"
     ]
    },
    {
     "data": {
      "text/plain": [
       "array([5., 5., 5., 5., 5., 5., 5., 5., 5., 5.])"
      ]
     },
     "execution_count": 106,
     "metadata": {},
     "output_type": "execute_result"
    }
   ],
   "source": [
    "import numpy as np\n",
    "arr=np.array([0,1,2,3,5,6])\n",
    "print(arr)\n",
    "\n",
    "arr2=np.random.randint(1,20,10)\n",
    "print(arr2)\n",
    "arr2=np.arange(10,20)            #to print within a range\n",
    "print(arr2)                  \n",
    " \n",
    "#to print 5 , 10 times\n",
    "\n",
    "arr=np.ones(10)*5\n",
    "arr"
   ]
  },
  {
   "cell_type": "code",
   "execution_count": 85,
   "id": "9d4c065b-e0ca-48f7-aec2-989004d777a9",
   "metadata": {},
   "outputs": [
    {
     "name": "stdout",
     "output_type": "stream",
     "text": [
      "[ 1 11 11  3  3 18  5  1 15]\n",
      "[[ 1 11 11]\n",
      " [ 3  3 18]\n",
      " [ 5  1 15]]\n"
     ]
    }
   ],
   "source": [
    "#creating a 1-d array and convert it into 3*3 matrix\n",
    "import numpy as np\n",
    "arr=np.random.randint(1,20,9)\n",
    "print(arr)\n",
    "\n",
    "arr=arr.reshape(3,3)\n",
    "\n",
    "print(arr)\n"
   ]
  },
  {
   "cell_type": "code",
   "execution_count": 95,
   "id": "39b8d4e9-81f1-4507-9586-6de599c34184",
   "metadata": {},
   "outputs": [
    {
     "name": "stdout",
     "output_type": "stream",
     "text": [
      "[ 6 12 13  9 10 12  6 16  1 17  2 13  8 14  7]\n",
      "[ 0  0 13  9  0  0  0  0  1 17  0 13  0  0  7]\n"
     ]
    }
   ],
   "source": [
    "#creating and converting all even numbers to 0\n",
    "import numpy as np\n",
    "np.random.seed(1)\n",
    "arr=np.random.randint(1,20,15)\n",
    "print(arr)\n",
    "\n",
    "arr[arr%2==0]=0\n",
    "print(arr)\n"
   ]
  },
  {
   "cell_type": "code",
   "execution_count": 100,
   "id": "9034922f-e243-475f-a94e-82a9f38fb122",
   "metadata": {},
   "outputs": [
    {
     "data": {
      "text/plain": [
       "array([[0.31551563, 0.68650093, 0.83462567],\n",
       "       [0.01828828, 0.75014431, 0.98886109],\n",
       "       [0.74816565, 0.28044399, 0.78927933]])"
      ]
     },
     "execution_count": 100,
     "metadata": {},
     "output_type": "execute_result"
    }
   ],
   "source": [
    "#creating a 2-d array 3*3 but elements between 0-1\n",
    "import numpy as np\n",
    "arr=np.random.rand(3,3)\n",
    "arr\n"
   ]
  },
  {
   "cell_type": "code",
   "execution_count": 123,
   "id": "23c0738a-ef89-4b3b-9003-bb55b135fb37",
   "metadata": {},
   "outputs": [
    {
     "name": "stdout",
     "output_type": "stream",
     "text": [
      "[[ 1  2  3  4]\n",
      " [ 5  6  7  8]\n",
      " [ 9 10 11 12]\n",
      " [13 14 15 16]]\n",
      "[[ 6  7]\n",
      " [10 11]\n",
      " [14 15]]\n"
     ]
    }
   ],
   "source": [
    "import numpy as np\n",
    "arr=np.arange(1,17).reshape(4,4)\n",
    "print(arr)\n",
    "print(arr[1:,1:3])   #r:r,c:c\n"
   ]
  },
  {
   "cell_type": "code",
   "execution_count": 124,
   "id": "015439c3-e5bd-4e04-84d6-894a87271c64",
   "metadata": {},
   "outputs": [
    {
     "ename": "SyntaxError",
     "evalue": "invalid decimal literal (3487892309.py, line 4)",
     "output_type": "error",
     "traceback": [
      "\u001b[1;36m  Cell \u001b[1;32mIn[124], line 4\u001b[1;36m\u001b[0m\n\u001b[1;33m    1.SIZE: NUMPY DATA STRUCTURES TAKES LESS SPACE\u001b[0m\n\u001b[1;37m     ^\u001b[0m\n\u001b[1;31mSyntaxError\u001b[0m\u001b[1;31m:\u001b[0m invalid decimal literal\n"
     ]
    }
   ],
   "source": [
    "#NUMPY VS LIST::\n",
    "\n",
    "#NUMPY :\n",
    "1.SIZE: NUMPY DATA STRUCTURES TAKES LESS SPACE\n",
    "2.PERFORMANCE: THEY HAVE ANEED FOR SPEED AND FASTER THAN LISTS\n",
    "3. FUNTIONALITY : HAVE FUCNTIONS SUCH AS OPERATIONS BUILT IN\n"
   ]
  },
  {
   "cell_type": "code",
   "execution_count": 131,
   "id": "137d3cd8-0e59-4999-bc60-7dd795d9a816",
   "metadata": {},
   "outputs": [
    {
     "name": "stdout",
     "output_type": "stream",
     "text": [
      "1.92 µs ± 275 ns per loop (mean ± std. dev. of 7 runs, 100,000 loops each)\n",
      "2.32 µs ± 36 ns per loop (mean ± std. dev. of 7 runs, 100,000 loops each)\n"
     ]
    }
   ],
   "source": [
    "#PROOF::\n",
    "\n",
    "# %timeit,  for single line\n",
    "#%%timeit for multiple line code\n",
    "\n",
    "%timeit [i**2 for i in range(1, 11)]\n",
    "%timeit np.arange(1, 11)**2"
   ]
  },
  {
   "cell_type": "code",
   "execution_count": 137,
   "id": "09aac4fe-887a-40fd-82c9-7ed992a7924b",
   "metadata": {},
   "outputs": [
    {
     "name": "stdout",
     "output_type": "stream",
     "text": [
      "(array([3], dtype=int64),)\n",
      "(array([3, 4, 5, 6, 7], dtype=int64),)\n",
      "(array([ 0,  2,  8, 10], dtype=int64),)\n"
     ]
    }
   ],
   "source": [
    "#searching an element in numpy\n",
    "#where() function:\n",
    "\n",
    "import numpy as np\n",
    "arr=np.arange(1,10)\n",
    "x=np.where(arr==4)\n",
    "print(x)\n",
    "\n",
    "import numpy as np\n",
    "arr=np.array([1,2,3,4,4,4,4,4,5,6,7,8])\n",
    "x=np.where(arr==4)\n",
    "print(x)\n",
    "import numpy as np\n",
    "arr=np.array([1,2,3,4,4,4,4,4,5,6,7,8])\n",
    "x=np.where(arr%2==1)\n",
    "print(x)"
   ]
  },
  {
   "cell_type": "code",
   "execution_count": 145,
   "id": "67f2f0e4-c119-48a3-ba70-e1f1e5810c47",
   "metadata": {},
   "outputs": [
    {
     "name": "stdout",
     "output_type": "stream",
     "text": [
      "[ 4  3  5  2  3  1  4  5  3 57 90 34]\n",
      "9\n",
      "[ 4  3  5  2  3  1  4  5  3 57 90 34]\n",
      "9\n",
      "9\n",
      "[ 4  3  5  2  3  1  4  5  3 57 90 34]\n",
      "9\n"
     ]
    }
   ],
   "source": [
    "#search sorted ()::\n",
    "\n",
    "import numpy as np\n",
    "a=np.array([4,3,5,2,3,1,4,5,3,57,90,34])\n",
    "print(a)\n",
    "\n",
    "arr=np.searchsorted(a,5)\n",
    "print(arr)\n",
    "print(a)\n",
    "print(arr)\n",
    "\n",
    "arr=np.searchsorted(a,5,side='right')        #to start searh from right side\n",
    "print(arr)\n",
    "print(a)\n",
    "print(arr)\n"
   ]
  },
  {
   "cell_type": "code",
   "execution_count": null,
   "id": "9de4ee71-5650-48cb-9106-ea9e5c5a4c93",
   "metadata": {},
   "outputs": [],
   "source": []
  }
 ],
 "metadata": {
  "kernelspec": {
   "display_name": "Python 3 (ipykernel)",
   "language": "python",
   "name": "python3"
  },
  "language_info": {
   "codemirror_mode": {
    "name": "ipython",
    "version": 3
   },
   "file_extension": ".py",
   "mimetype": "text/x-python",
   "name": "python",
   "nbconvert_exporter": "python",
   "pygments_lexer": "ipython3",
   "version": "3.11.7"
  }
 },
 "nbformat": 4,
 "nbformat_minor": 5
}
