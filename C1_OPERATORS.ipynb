{
 "cells": [
  {
   "cell_type": "code",
   "execution_count": 21,
   "id": "3b97107d-f292-4d3f-b1ae-0104086c0cc8",
   "metadata": {},
   "outputs": [],
   "source": [
    "#OPERATORS"
   ]
  },
  {
   "cell_type": "code",
   "execution_count": 28,
   "id": "f9688edd-3c6e-452a-90f9-24b328881589",
   "metadata": {},
   "outputs": [
    {
     "name": "stdout",
     "output_type": "stream",
     "text": [
      "15\n",
      "5\n",
      "50\n",
      "2.0\n",
      "0\n",
      "100000\n"
     ]
    }
   ],
   "source": [
    "'''ARITHMATIC \n",
    "used to perform arithmatic operations between two numbers\n",
    "(+, -, *, /, %,**),\n",
    "Modulo is used to find the remainder(%),\n",
    "power operator(**)'''\n",
    "a=10\n",
    "b=5\n",
    "print(a+b)\n",
    "print(a-b)\n",
    "print(a*b)\n",
    "print(a/b)\n",
    "print(a%b)\n",
    "print(a**b)\n"
   ]
  },
  {
   "cell_type": "code",
   "execution_count": 32,
   "id": "ad04e7ca-aa2e-4454-887c-34356f36aa33",
   "metadata": {},
   "outputs": [
    {
     "name": "stdout",
     "output_type": "stream",
     "text": [
      "False\n",
      "True\n"
     ]
    }
   ],
   "source": [
    "'''Relations/comaparision operator\n",
    "They are used to compare two values \n",
    "== equal to\n",
    "!= not equal to\n",
    ">\n",
    "<\n",
    ">=\n",
    "<= '''\n",
    "a=5\n",
    "b=10\n",
    "print(a==b)\n",
    "print(a!=b)\n",
    "\n",
    " "
   ]
  },
  {
   "cell_type": "code",
   "execution_count": 37,
   "id": "1ce97257-032a-4651-9b98-92ccc4446caa",
   "metadata": {},
   "outputs": [
    {
     "name": "stdout",
     "output_type": "stream",
     "text": [
      "5\n",
      "10\n",
      "10\n",
      "10\n"
     ]
    }
   ],
   "source": [
    "''' ASSIGNMENT OPERATOR\n",
    "It is used to assign a value\n",
    "=, if a=b, then b's value would be stored in variable a \n",
    "+=\n",
    "-=\n",
    "*=\n",
    "/=\n",
    "%=\n",
    "**='''\n",
    "\n"
   ]
  },
  {
   "cell_type": "code",
   "execution_count": 39,
   "id": "0bbb468f-e47a-4212-81b0-3ae631e499f2",
   "metadata": {},
   "outputs": [
    {
     "ename": "SyntaxError",
     "evalue": "incomplete input (1585248180.py, line 1)",
     "output_type": "error",
     "traceback": [
      "\u001b[1;36m  Cell \u001b[1;32mIn[39], line 1\u001b[1;36m\u001b[0m\n\u001b[1;33m    '''Logical operators:\u001b[0m\n\u001b[1;37m    ^\u001b[0m\n\u001b[1;31mSyntaxError\u001b[0m\u001b[1;31m:\u001b[0m incomplete input\n"
     ]
    }
   ],
   "source": [
    "'''Logical operators: \n",
    "They work works on boolean values\n",
    "not , value retuened is false,0 , single operand\n",
    "and, it works and two values , gives true only when both are true\n",
    "or , gives true, when either of the value is true'''\n"
   ]
  },
  {
   "cell_type": "code",
   "execution_count": null,
   "id": "fafc9aea-ed20-4f46-84d9-d6694d04f9d5",
   "metadata": {},
   "outputs": [],
   "source": []
  }
 ],
 "metadata": {
  "kernelspec": {
   "display_name": "Python 3 (ipykernel)",
   "language": "python",
   "name": "python3"
  },
  "language_info": {
   "codemirror_mode": {
    "name": "ipython",
    "version": 3
   },
   "file_extension": ".py",
   "mimetype": "text/x-python",
   "name": "python",
   "nbconvert_exporter": "python",
   "pygments_lexer": "ipython3",
   "version": "3.11.7"
  }
 },
 "nbformat": 4,
 "nbformat_minor": 5
}
