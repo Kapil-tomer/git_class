{
 "cells": [
  {
   "cell_type": "code",
   "execution_count": 10,
   "id": "2b6b6183-16a2-4430-81e9-3c7116d6595f",
   "metadata": {},
   "outputs": [
    {
     "name": "stdout",
     "output_type": "stream",
     "text": [
      "<class 'set'>\n",
      "{1, 2.5, 2, 5, (2, 3, 4, 5), 'value_String1'}\n"
     ]
    }
   ],
   "source": [
    "#SETS : Set is collection of unordered item i.e without index. \n",
    "#EACH COLLECTION MUST BE UNIQUE (not stored twice) and IMMUTABLE\n",
    "#SET AS a whole is mutable, we can add and remove elements but its elements are immutable.\n",
    "#we can not store list and dictionary is sets(mutable) rest tuple, int, string, float can be\n",
    "#elements with hash values could be added as element\n",
    "\n",
    "set_name={1,\"value_String1\",2.5,(2,3,4,5),2.5,1,2,5}\n",
    "print(type(set_name))\n",
    "print(set_name) #2.5 will not come twice and no order in output could be anywhere"
   ]
  },
  {
   "cell_type": "code",
   "execution_count": 2,
   "id": "dca2f84c-4674-49c4-8e2f-e7a3798a0d8b",
   "metadata": {},
   "outputs": [
    {
     "name": "stdout",
     "output_type": "stream",
     "text": [
      "8794344213555\n"
     ]
    }
   ],
   "source": [
    "#HASABLE ::ANY OBJECT WHICH RETUENS A HASH VALUE.\n",
    "print(hash(object))\n",
    "\n"
   ]
  },
  {
   "cell_type": "code",
   "execution_count": 3,
   "id": "6d2594e3-43ed-4945-825e-5b0a1dd9f855",
   "metadata": {},
   "outputs": [
    {
     "name": "stdout",
     "output_type": "stream",
     "text": [
      "<class 'set'>\n"
     ]
    }
   ],
   "source": [
    "#EMPTY SET\n",
    "# null_set_name={} THIS WILL BECOME A DICTIONARY SO,\n",
    "null_set=set()\n",
    "print(type(null_set))"
   ]
  },
  {
   "cell_type": "code",
   "execution_count": 13,
   "id": "3370324e-4be0-462e-8c66-9ffb6080edad",
   "metadata": {},
   "outputs": [
    {
     "name": "stdout",
     "output_type": "stream",
     "text": [
      "{1, 2.5, 2, 5, (2, 3, 4, 5), 5000, 'value_String1'}\n"
     ]
    }
   ],
   "source": [
    "# set.add(el) : ADDS AN ELEMENT\n",
    "set_name.add(5000)\n",
    "print(set_name)"
   ]
  },
  {
   "cell_type": "code",
   "execution_count": 14,
   "id": "25ef1a12-a7f4-4459-bc84-69db2eb58452",
   "metadata": {},
   "outputs": [
    {
     "name": "stdout",
     "output_type": "stream",
     "text": [
      "{1, 2, 5, (2, 3, 4, 5), 5000, 'value_String1'}\n"
     ]
    }
   ],
   "source": [
    "#set.remove(el)\n",
    "set_name.remove(2.5)\n",
    "print(set_name)\n"
   ]
  },
  {
   "cell_type": "code",
   "execution_count": 15,
   "id": "b084a5f5-e399-4c6e-b22e-0b7b29292d0e",
   "metadata": {},
   "outputs": [],
   "source": [
    "#set.clear() : used to clear set\n",
    "#set.pop() : used to pick any random value, couldbe any random value\n"
   ]
  },
  {
   "cell_type": "code",
   "execution_count": 19,
   "id": "52f662a2-37df-4d2e-a96e-965ba49511f1",
   "metadata": {},
   "outputs": [
    {
     "name": "stdout",
     "output_type": "stream",
     "text": [
      "{1, 2, 3, 4, 5, 6}\n",
      "{3, 4, 5}\n",
      "{1, 2, 3, 4, 5}\n"
     ]
    }
   ],
   "source": [
    "#UNION : Combines both sets values and returns new\n",
    "#set1.union(set2)\n",
    "set1={1,2,3,4,5}\n",
    "set2={3,4,5,6}\n",
    "print(set1.union(set2))\n",
    "print(set1.intersection(set2))\n",
    "#orignal values would not be changed. \n",
    "print(set1)"
   ]
  },
  {
   "cell_type": "code",
   "execution_count": 20,
   "id": "1f5bac86-6397-4b51-9910-6d8f622f62ff",
   "metadata": {},
   "outputs": [
    {
     "name": "stdout",
     "output_type": "stream",
     "text": [
      "6\n"
     ]
    }
   ],
   "source": [
    "#wap when you are given a list of subjects for students. assume one classroom is req for 1 subject. how many class req by all students.\n",
    "subjects={\"python\", \"java\",\"python\",\"javascripy\",\"java\",\"c++\",\"phy\",\"chem\"}\n",
    "print(len(subjects))"
   ]
  },
  {
   "cell_type": "code",
   "execution_count": 23,
   "id": "b4d1b648-9302-4fd0-a861-462230d682fa",
   "metadata": {},
   "outputs": [
    {
     "name": "stdout",
     "output_type": "stream",
     "text": [
      "{9.0, '9'}\n",
      "{(9, 9.0)}\n"
     ]
    }
   ],
   "source": [
    "#WAP TO STORE 9 AND 9.0 AS DIFF VALUES\n",
    "#1. storing as int and string\n",
    "set5={9.0,\"9\"}\n",
    "print(set5)\n",
    "\n",
    "#tuple\n",
    "tup=(9,9.0)\n",
    "set6={tup}\n",
    "print(set6)"
   ]
  },
  {
   "cell_type": "code",
   "execution_count": null,
   "id": "d299db79-ca0c-489b-8107-e5a1052669fb",
   "metadata": {},
   "outputs": [],
   "source": []
  }
 ],
 "metadata": {
  "kernelspec": {
   "display_name": "Python 3 (ipykernel)",
   "language": "python",
   "name": "python3"
  },
  "language_info": {
   "codemirror_mode": {
    "name": "ipython",
    "version": 3
   },
   "file_extension": ".py",
   "mimetype": "text/x-python",
   "name": "python",
   "nbconvert_exporter": "python",
   "pygments_lexer": "ipython3",
   "version": "3.11.7"
  }
 },
 "nbformat": 4,
 "nbformat_minor": 5
}
