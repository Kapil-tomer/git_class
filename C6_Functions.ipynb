{
 "cells": [
  {
   "cell_type": "code",
   "execution_count": 3,
   "id": "86904695-1189-47c6-bd67-c2e407931e1a",
   "metadata": {},
   "outputs": [],
   "source": [
    "#Functions : : Block of statements that perfoms a specific task.\n",
    "#A LOOP HAVE A SPECIFIC LIMIT OR ITERATIONS BUT A FUNCTIONS CAN WORK FOR AS LONG AS WE CALL IT.\n",
    "#TO REDUCE REDUNDANCY(REPEATING MULTIPLE TIMES)\n",
    "# def func_name(param 1, parametr2,.....):\n",
    "    #some work\n",
    "   #reutn value\n",
    "#func_name(Value1, value2,...)  calling the function\n",
    "    "
   ]
  },
  {
   "cell_type": "code",
   "execution_count": 10,
   "id": "38cc021f-3698-4635-8cb7-b3ef6569c6c6",
   "metadata": {},
   "outputs": [
    {
     "name": "stdout",
     "output_type": "stream",
     "text": [
      "30\n",
      "30\n",
      "THIS IS FUNCTION CREATED SO THAT I DO NOT HAVE TO WRITE THIS LINE AGAIN AND AGAIN AND ALSO CALL THE FUNCTION WHENEVER NEEDED\n",
      "THIS IS FUNCTION CREATED SO THAT I DO NOT HAVE TO WRITE THIS LINE AGAIN AND AGAIN AND ALSO CALL THE FUNCTION WHENEVER NEEDED\n",
      "THIS IS FUNCTION CREATED SO THAT I DO NOT HAVE TO WRITE THIS LINE AGAIN AND AGAIN AND ALSO CALL THE FUNCTION WHENEVER NEEDED\n",
      "THIS IS FUNCTION CREATED SO THAT I DO NOT HAVE TO WRITE THIS LINE AGAIN AND AGAIN AND ALSO CALL THE FUNCTION WHENEVER NEEDED\n"
     ]
    }
   ],
   "source": [
    "def calc_sum(a,b):          #function defination and parameters\n",
    "    return a+b\n",
    "print(calc_sum(10,20))\n",
    "sum=calc_sum(10,20)          #function calling and values/arguments \n",
    "print(sum)\n",
    "\n",
    "\n",
    "def print_hello():\n",
    "    print(\"THIS IS FUNCTION CREATED SO THAT I DO NOT HAVE TO WRITE THIS LINE AGAIN AND AGAIN AND ALSO CALL THE FUNCTION WHENEVER NEEDED\")\n",
    "\n",
    "print_hello()\n",
    "print(print_hello()) #this would be returning none , cause the function is not returnng a value. "
   ]
  },
  {
   "cell_type": "code",
   "execution_count": 16,
   "id": "f15778a6-cd3c-461a-aa17-4180b876b27d",
   "metadata": {},
   "outputs": [
    {
     "name": "stdout",
     "output_type": "stream",
     "text": [
      "20.0\n"
     ]
    },
    {
     "data": {
      "text/plain": [
       "20.0"
      ]
     },
     "execution_count": 16,
     "metadata": {},
     "output_type": "execute_result"
    }
   ],
   "source": [
    "#CREATE A FUNCTION TO FIND AVERAGE OF 3 NUMBER\n",
    "def calc_avg(a,b,c):\n",
    "    sum=a+b+c\n",
    "    avg=sum/3\n",
    "    print(avg)\n",
    "    return avg\n",
    "\n",
    "calc_avg(10,20,30)\n",
    "    "
   ]
  },
  {
   "cell_type": "code",
   "execution_count": 25,
   "id": "8db2e51d-822d-4fa3-ac99-5ef8bab4d913",
   "metadata": {},
   "outputs": [
    {
     "name": "stdout",
     "output_type": "stream",
     "text": [
      "4.0\n"
     ]
    },
    {
     "data": {
      "text/plain": [
       "4.0"
      ]
     },
     "execution_count": 25,
     "metadata": {},
     "output_type": "execute_result"
    }
   ],
   "source": [
    "#TYPES OF FUNCTIONS:: 2 TYPES\n",
    "#1. BUILT IN  2.USER DEFINED\n",
    "#BUILT IN FUNCTIONS: written already in python and its logic too, eg : print(),where we gives the argument to print and end parameter is by default \\n \n",
    "#eg: range(),len()\n",
    "#in print funtion we have parameters like \"\" and \\n, where seperator = \" \" this is to give space between two seperate value, even if you put it diff line\n",
    "#since \\n is by default so two merge two linepasss the parameter end=\" \")\n",
    "\n",
    "\n",
    "\n",
    "#USER DEFINED: The functions which are built by us or the users.\n",
    "\n",
    "\n",
    "#DEFAULT PARAMETERS :: IT IS USED TO ASSIGN DEFAULT VALUES TO PARAMETER WHEN NO ARGUMENT IS PASSED\n",
    "def calc_avg(a=2,b=3,c=7):\n",
    "    sum=a+b+c\n",
    "    avg=sum/3\n",
    "    print(avg)\n",
    "    return avg\n",
    "calc_avg()\n",
    "#IF GIVING SOME DEFAULT AND REST NOT, WRITE NON DEFAULT VALUES FIRST ,def calc_avg(a,b,c=10,D=8):"
   ]
  },
  {
   "cell_type": "code",
   "execution_count": 38,
   "id": "df0db87e-2ffe-41c2-ba6d-98992db9280f",
   "metadata": {},
   "outputs": [
    {
     "name": "stdout",
     "output_type": "stream",
     "text": [
      "5\n"
     ]
    }
   ],
   "source": [
    "#WAF TO PRINT THE LENGTH OF A LIST\n",
    "list=[\"kapil\",\"tomer\",\"cse\",\"smit\",\"sikkim\"]\n",
    "\n",
    "def len_list(a):\n",
    "    print(len(a))\n",
    "\n",
    "len_list(list)\n",
    "    \n",
    "    \n",
    "    "
   ]
  },
  {
   "cell_type": "code",
   "execution_count": 46,
   "id": "d9cbce65-de3e-45d9-bf83-4a4805841c85",
   "metadata": {},
   "outputs": [
    {
     "name": "stdout",
     "output_type": "stream",
     "text": [
      "kapil tomer cse smit sikkim "
     ]
    }
   ],
   "source": [
    "#WAF TO PRINT THE ELEMENTS OF A LIST IN A SINGLE LINE\n",
    "details=[\"kapil\",\"tomer\",\"cse\",\"smit\",\"sikkim\"]\n",
    "b=len(details)\n",
    "def single_line(param):\n",
    "    for i in range(b):\n",
    "        print(details[i],end=\" \")\n",
    "\n",
    "single_line(details)"
   ]
  },
  {
   "cell_type": "code",
   "execution_count": 58,
   "id": "b40a656c-7e0a-4b65-92b3-d7d70574dbe3",
   "metadata": {},
   "outputs": [
    {
     "name": "stdin",
     "output_type": "stream",
     "text": [
      "enter the number you want to factorise  5\n"
     ]
    },
    {
     "name": "stdout",
     "output_type": "stream",
     "text": [
      "120\n"
     ]
    }
   ],
   "source": [
    "#WAF TO FIND THE FACTORIAL OF N.\n",
    "n=int(input(\"enter the number you want to factorise \"))\n",
    "\n",
    "def fact(a):\n",
    "    sum=1\n",
    "    for i in range(1,a+1):\n",
    "        sum*=i\n",
    "    return sum\n",
    "        \n",
    "print(fact(n))\n",
    "        \n",
    "    "
   ]
  },
  {
   "cell_type": "code",
   "execution_count": 61,
   "id": "f55d8476-4fa3-4b04-86e8-8f29155e77bd",
   "metadata": {},
   "outputs": [
    {
     "name": "stdin",
     "output_type": "stream",
     "text": [
      "ENTER THE AMOUNT OF US DOLLAR:  5\n"
     ]
    },
    {
     "name": "stdout",
     "output_type": "stream",
     "text": [
      "THE AMOUNT IS EQUIVALENT TO:  400\n"
     ]
    }
   ],
   "source": [
    "#WAF TO CONVERT USD INTO INR\n",
    "a=int(input(\"ENTER THE AMOUNT OF US DOLLAR: \"))\n",
    "\n",
    "def con(usd_val):\n",
    "    b=usd_val*83\n",
    "    return b\n",
    "\n",
    "print(\"THE AMOUNT IS EQUIVALENT TO: \",con(a))"
   ]
  },
  {
   "cell_type": "code",
   "execution_count": 67,
   "id": "f32bf0e7-e67e-4824-ad59-09e55269c617",
   "metadata": {},
   "outputs": [
    {
     "name": "stdin",
     "output_type": "stream",
     "text": [
      "ENTER THE NUMBER:  6\n"
     ]
    },
    {
     "name": "stdout",
     "output_type": "stream",
     "text": [
      "THE GIVEN NUMBER IS A  even NUMBER\n"
     ]
    }
   ],
   "source": [
    "#WAF TO STATE OF THE INPUT GIVEN IS ODD OR EVEN\n",
    "\n",
    "n=int(input(\"ENTER THE NUMBER: \"))\n",
    "\n",
    "def odd_even(number):\n",
    "    if number%2==0:\n",
    "        return \"even\"\n",
    "    else:\n",
    "        return \"odd\"\n",
    "        \n",
    "\n",
    "print(\"THE GIVEN NUMBER IS A \",odd_even(n),\"NUMBER\")\n"
   ]
  },
  {
   "cell_type": "code",
   "execution_count": 73,
   "id": "688ee9c5-948c-4db5-886b-438c3b4b36b3",
   "metadata": {},
   "outputs": [
    {
     "name": "stdin",
     "output_type": "stream",
     "text": [
      "enter the number:  5\n"
     ]
    },
    {
     "name": "stdout",
     "output_type": "stream",
     "text": [
      "5\n",
      "4\n",
      "3\n",
      "2\n",
      "1\n",
      "0\n",
      "-1\n"
     ]
    }
   ],
   "source": [
    "#RECURSION :: WHEN A FUNCTION CALLS ITSELF REPEATEDLY\n",
    "#YOU CAN RELATE THIS TO LOOPING\n",
    "n=int(input(\"enter the number: \"))\n",
    "def show(n):\n",
    "    if (n==-2):\n",
    "        return  #base case: just like stopping in loop\n",
    "    print(n)\n",
    "    show(n-1) #here we are calling the fucntion again for n-1\n",
    "\n",
    "show(n)"
   ]
  },
  {
   "cell_type": "code",
   "execution_count": 75,
   "id": "3397a076-5f69-422e-85d7-1a75351eee95",
   "metadata": {},
   "outputs": [
    {
     "name": "stdin",
     "output_type": "stream",
     "text": [
      "enter the number:  2\n"
     ]
    },
    {
     "name": "stdout",
     "output_type": "stream",
     "text": [
      "2\n",
      "1\n",
      "0\n",
      "-1\n",
      "end= -2\n",
      "end= -1\n",
      "end= 0\n",
      "end= 1\n"
     ]
    }
   ],
   "source": [
    "#call stack:: stack of functions or wehn we are calling functions over functions the computer creates a stack\n",
    "n=int(input(\"enter the number: \"))\n",
    "def show(n):\n",
    "    if (n==-2):\n",
    "        return  #base case: just like stopping in loop\n",
    "    print(n)\n",
    "    show(n-1) #here we are calling the fucntion again for n-1\n",
    "    print(\"end=\",n-1) #check out put to know how call stack works\n",
    "\n",
    "show(n)"
   ]
  },
  {
   "cell_type": "code",
   "execution_count": 76,
   "id": "c9ff24be-58c0-4710-97a5-539a7b6aedb2",
   "metadata": {},
   "outputs": [],
   "source": [
    "#THIS HAPPENED CAUSE WHEN FUNC IS BUILT,SYSTEM STACK IT EVERYTIME WE  CALL, LAYER BY LAYER FIRST OPERATION IS PERFOMED, AND THEN\n",
    "#IT DELETED LAYER BY LAYER AND CHECK for remaning work and performs "
   ]
  },
  {
   "cell_type": "code",
   "execution_count": 78,
   "id": "04afe06c-5aa7-4952-945c-ca3b64c0b5d5",
   "metadata": {},
   "outputs": [],
   "source": [
    "#BASE CASE IS IMPORTANT TO WRITE OTHERWISE PROGRAM WILL CASE"
   ]
  },
  {
   "cell_type": "code",
   "execution_count": 94,
   "id": "bb9fa696-3427-4f11-b046-460f6e77bdb4",
   "metadata": {},
   "outputs": [
    {
     "name": "stdin",
     "output_type": "stream",
     "text": [
      "enter the value to make a factorial 5\n"
     ]
    },
    {
     "name": "stdout",
     "output_type": "stream",
     "text": [
      "THE FACTORIAL OF THE NUMBER 5 IS : 120\n"
     ]
    }
   ],
   "source": [
    "#WAF TO FIND FACTORIAL OF N\n",
    "a=int(input(\"enter the value to make a factorial\"))\n",
    "def fact_fun(number_value):\n",
    "    if (number_value==0 or number_value==1):\n",
    "        return 1\n",
    "    else:\n",
    "        return(number_value*fact_fun(number_value-1))\n",
    "                                   \n",
    "print(\"THE FACTORIAL OF THE NUMBER\",a,\"IS :\",fact_fun(a))"
   ]
  },
  {
   "cell_type": "code",
   "execution_count": 104,
   "id": "e0489bbd-b050-4e07-8eec-ab9126f0153c",
   "metadata": {
    "scrolled": true
   },
   "outputs": [
    {
     "name": "stdin",
     "output_type": "stream",
     "text": [
      "ENTER THE NUMBER UPTO:  -8\n"
     ]
    },
    {
     "name": "stdout",
     "output_type": "stream",
     "text": [
      "SUM =  0\n"
     ]
    }
   ],
   "source": [
    "#WAF , RECURSIVE, TO CALCULATE THE SUM OF FIRST N NATURAL NUMBER\n",
    "a=int(input(\"ENTER THE NUMBER UPTO: \"))\n",
    "def fun_sum(upto):\n",
    "    if(upto<=0):\n",
    "        return 0\n",
    "    else:\n",
    "        return(upto)+(fun_sum(upto-1))\n",
    "        \n",
    "   \n",
    "print(\"SUM = \",fun_sum(a))"
   ]
  },
  {
   "cell_type": "code",
   "execution_count": null,
   "id": "e54545e2-ba94-43b6-a24d-22af5e7c95a3",
   "metadata": {},
   "outputs": [],
   "source": [
    "#STACK OVERFLOW::: WHEN THERE IS NO BASE CASE AND COMPUTER PILES UP STACKS OVER STACKS FOR THE FUNCTION AND ITS CALLING IT INFINITE \n"
   ]
  },
  {
   "cell_type": "code",
   "execution_count": 114,
   "id": "8e2cb988-5480-4460-9dc3-1fc9c2df550d",
   "metadata": {},
   "outputs": [
    {
     "name": "stdout",
     "output_type": "stream",
     "text": [
      "10\n",
      "20\n",
      "kapil\n",
      "30\n",
      "string\n",
      "haan\n",
      "hmmm\n"
     ]
    }
   ],
   "source": [
    "#WARF TO PRINT ALL ELEMENTS IN LIST\n",
    "a=[10,20,\"kapil\",30,\"string\",\"haan\",\"hmmm\"]\n",
    "n=len(a)\n",
    "def fun_list(elements):\n",
    "    if elements<=0:\n",
    "        return \n",
    "    else:\n",
    "        fun_list(elements-1)\n",
    "        print(a[elements-1])\n",
    "        \n",
    "fun_list(n)"
   ]
  },
  {
   "cell_type": "code",
   "execution_count": null,
   "id": "199d16bb-9714-4842-bf36-107ea7c58e7b",
   "metadata": {},
   "outputs": [],
   "source": [
    "#LAMBDA FUNCTIONS::\n",
    "#ANONYMOUSE FUNC:: a function which is not having a name, lamda function is called an anonymous function.\n",
    "\n"
   ]
  }
 ],
 "metadata": {
  "kernelspec": {
   "display_name": "Python 3 (ipykernel)",
   "language": "python",
   "name": "python3"
  },
  "language_info": {
   "codemirror_mode": {
    "name": "ipython",
    "version": 3
   },
   "file_extension": ".py",
   "mimetype": "text/x-python",
   "name": "python",
   "nbconvert_exporter": "python",
   "pygments_lexer": "ipython3",
   "version": "3.11.7"
  }
 },
 "nbformat": 4,
 "nbformat_minor": 5
}
