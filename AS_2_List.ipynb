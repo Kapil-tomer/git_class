{
 "cells": [
  {
   "cell_type": "code",
   "execution_count": 6,
   "metadata": {
    "id": "gtlAv2oq9yzd"
   },
   "outputs": [
    {
     "name": "stdin",
     "output_type": "stream",
     "text": [
      "Enter the length of the string:  4\n",
      "ENTER THE NUMBER TO BE ADDED IN THE LIST:  4\n",
      "ENTER THE NUMBER TO BE ADDED IN THE LIST:  3\n",
      "ENTER THE NUMBER TO BE ADDED IN THE LIST:  2\n",
      "ENTER THE NUMBER TO BE ADDED IN THE LIST:  1\n"
     ]
    },
    {
     "name": "stdout",
     "output_type": "stream",
     "text": [
      "[4, 3, 2, 1]\n",
      "10\n"
     ]
    }
   ],
   "source": [
    "#Write a Python program to find the sum of all elements in a list using loop.\n",
    "#Input:- [10,20,30,40]\n",
    "#Output:- 100\n",
    "\n",
    "list=[]\n",
    "l=int(input(\"Enter the length of the string: \"))\n",
    "for i in range(l):\n",
    "    el=int(input(\"ENTER THE NUMBER TO BE ADDED IN THE LIST: \"))\n",
    "    list.append(el)\n",
    "print(list)\n",
    "\n",
    "Sum=0\n",
    "for i in range(l):\n",
    "    Sum+=list[i]\n",
    "print(Sum)\n"
   ]
  },
  {
   "cell_type": "code",
   "execution_count": 8,
   "metadata": {
    "id": "gTbA8psa93Y_"
   },
   "outputs": [
    {
     "name": "stdout",
     "output_type": "stream",
     "text": [
      "24\n"
     ]
    }
   ],
   "source": [
    "#Write a Python program to find the multiplication of all elements in a list using loop.\n",
    "#Input:- [10,20,30,40]\n",
    "#Output:- 240000\n",
    "mul=1\n",
    "for i in range(l):\n",
    "    mul*=list[i]\n",
    "print(mul)\n",
    "\n"
   ]
  },
  {
   "cell_type": "code",
   "execution_count": 18,
   "metadata": {
    "id": "XBCrEtLN94Lj"
   },
   "outputs": [
    {
     "name": "stdout",
     "output_type": "stream",
     "text": [
      "4\n"
     ]
    }
   ],
   "source": [
    "#Write a Python program to find the largest number from a list using loop.\n",
    "#Input:- [10,100,2321, 1,200,2]\n",
    "#Output:- 2321\n",
    "\n",
    "larg=0\n",
    "for i in range(l):\n",
    "    if (list[i]>larg):\n",
    "       larg=list[i]      \n",
    "        \n",
    "print(larg)      \n"
   ]
  },
  {
   "cell_type": "code",
   "execution_count": 20,
   "metadata": {
    "id": "l3paUtbH94Vw"
   },
   "outputs": [
    {
     "name": "stdout",
     "output_type": "stream",
     "text": [
      "1\n"
     ]
    }
   ],
   "source": [
    "#Write a Python program to find the smallest number from a list using loop.\n",
    "#Input:- [10,100,2321, 1,200,2]\n",
    "#Output:- 1\n",
    "larg=list[i]\n",
    "for i in range(l):\n",
    "    if (list[i]<larg):\n",
    "       larg=list[i]      \n",
    "        \n",
    "print(larg)     \n",
    "\n"
   ]
  },
  {
   "cell_type": "code",
   "execution_count": 26,
   "metadata": {
    "id": "JTVgy5VD94cE"
   },
   "outputs": [
    {
     "name": "stdin",
     "output_type": "stream",
     "text": [
      "Enter the length of the string:  5\n",
      "ENTER THE NUMBER TO BE ADDED IN THE LIST:  d\n",
      "ENTER THE NUMBER TO BE ADDED IN THE LIST:  f\n",
      "ENTER THE NUMBER TO BE ADDED IN THE LIST:  g\n",
      "ENTER THE NUMBER TO BE ADDED IN THE LIST:  gh\n",
      "ENTER THE NUMBER TO BE ADDED IN THE LIST:  j\n"
     ]
    },
    {
     "name": "stdout",
     "output_type": "stream",
     "text": [
      "['d', 'f', 'g', 'gh', 'j']\n",
      "3\n"
     ]
    }
   ],
   "source": [
    "#Write a Python program to count the number of strings having length more than 2 and are palindrome in a list using loop.\n",
    "#Input:- ['ab', 'abc', 'aba', 'xyz', '1991']\n",
    "#Output:- 2\n",
    "\n",
    "\n",
    "list=[]\n",
    "l=int(input(\"Enter the length of the string: \"))\n",
    "for i in range(l):\n",
    "    el=input(\"ENTER THE NUMBER TO BE ADDED IN THE LIST: \")\n",
    "    list.append(el)\n",
    "print(list)\n",
    "\n",
    "\n",
    "l=len(list)\n",
    "if (l%2)==0:\n",
    "    print(l/2)\n",
    "else:\n",
    "    print(int((l/2)+1))\n",
    "    "
   ]
  },
  {
   "cell_type": "code",
   "execution_count": 39,
   "metadata": {
    "id": "xs-ZGJbJ94gr"
   },
   "outputs": [
    {
     "name": "stdin",
     "output_type": "stream",
     "text": [
      "Enter the length of the string:  5\n",
      "ENTER THE NUMBER TO BE ADDED IN THE LIST:  5\n",
      "ENTER THE NUMBER TO BE ADDED IN THE LIST:  4\n",
      "ENTER THE NUMBER TO BE ADDED IN THE LIST:  3\n",
      "ENTER THE NUMBER TO BE ADDED IN THE LIST:  7\n",
      "ENTER THE NUMBER TO BE ADDED IN THE LIST:  1\n"
     ]
    },
    {
     "name": "stdout",
     "output_type": "stream",
     "text": [
      "[5, 4, 3, 7, 1]\n",
      "[1, 3, 4, 5, 7]\n"
     ]
    }
   ],
   "source": [
    "#Write a Python program to sort a list in ascending order using loop.\n",
    "#Input:- [100,10,1,298,65,483,49876,2,80,9,9213]\n",
    "#Output:- [1,2,9,10,65,80,100,298,483,9213,49876]\n",
    "\n",
    "list1=[]\n",
    "l=int(input(\"Enter the length of the string: \"))\n",
    "for i in range(l):\n",
    "    el=int(input(\"ENTER THE NUMBER TO BE ADDED IN THE LIST: \"))\n",
    "    list1.append(el)\n",
    "\n",
    "#kapil=list1           # this will only create a refrence but will point to the the same memory object, thus all changes will imply to orignal list too\n",
    "kapil=sorted(list1.copy())\n",
    "\n",
    "print(list1)\n",
    "print(kapil)\n",
    "\n"
   ]
  },
  {
   "cell_type": "code",
   "execution_count": null,
   "metadata": {
    "id": "VhKQJizZ94kg"
   },
   "outputs": [],
   "source": [
    "#Write a Python program to get a sorted list in increasing order of last element in each tuple in a given list using loop.\n",
    "#Input:- [(5,4),(9,1),(2,3),(5,9),(7,6),(5,5)]\n",
    "#output:- [(9,1),(2,3),(5,4),(5,5),(7,6),(5,9)]\n",
    "\n",
    "list1=[]\n",
    "l=int(input(\"Enter the length of the string: \"))\n",
    "for i in range(l):\n",
    "    el=int(input(\"ENTER THE NUMBER TO BE ADDED IN THE LIST: \"))\n",
    "    list1.append(el)\n"
   ]
  },
  {
   "cell_type": "code",
   "execution_count": 49,
   "metadata": {
    "id": "YJrCLYp694n_"
   },
   "outputs": [
    {
     "name": "stdin",
     "output_type": "stream",
     "text": [
      "Enter the length of the string:  5\n",
      "ENTER THE NUMBER TO BE ADDED IN THE LIST:  5\n",
      "ENTER THE NUMBER TO BE ADDED IN THE LIST:  4\n",
      "ENTER THE NUMBER TO BE ADDED IN THE LIST:  3\n",
      "ENTER THE NUMBER TO BE ADDED IN THE LIST:  2\n",
      "ENTER THE NUMBER TO BE ADDED IN THE LIST:  1\n"
     ]
    },
    {
     "name": "stdout",
     "output_type": "stream",
     "text": [
      "[5, 4, 3, 2, 1]\n"
     ]
    }
   ],
   "source": [
    "#Write a Python program to remove fuplicate element from a list using loop.\n",
    "#Input:- [10,1,11,1,29,876,768,10,11,1,92,29,876]\n",
    "#Output:- [10,1,11,29,876,768,92]\n",
    "\n",
    "\n",
    "list1=[]\n",
    "l=int(input(\"Enter the length of the string: \"))\n",
    "for i in range(l):\n",
    "    el=int(input(\"ENTER THE NUMBER TO BE ADDED IN THE LIST: \"))\n",
    "    list1.append(el)\n",
    "\n",
    "list2=[]\n",
    "for x in list1:\n",
    "    # Check if the number is not already in the new list\n",
    "    if x not in list2:\n",
    "        list2.append(x)\n",
    "        \n",
    "print(list2)        \n",
    "\n"
   ]
  },
  {
   "cell_type": "code",
   "execution_count": 50,
   "metadata": {
    "id": "koYe4YCu94rh"
   },
   "outputs": [
    {
     "name": "stdin",
     "output_type": "stream",
     "text": [
      "Enter the length of the string:  0\n"
     ]
    },
    {
     "name": "stdout",
     "output_type": "stream",
     "text": [
      "empty\n"
     ]
    }
   ],
   "source": [
    "#Write a Python program to check a list is empty or not?\n",
    "#Input:- []\n",
    "#Output:- List is empty\n",
    "#Input:- [10,20,30]\n",
    "#Output:- List is not \n",
    "\n",
    "list1=[]\n",
    "l=int(input(\"Enter the length of the string: \"))\n",
    "for i in range(l):\n",
    "    el=int(input(\"ENTER THE NUMBER TO BE ADDED IN THE LIST: \"))\n",
    "    list1.append(el)\n",
    "\n",
    "a=len(list1)\n",
    "if a>0:\n",
    "    print(\"LIST IS NOT\")\n",
    "else:\n",
    "    print(\"empty\")\n",
    "\n",
    "\n",
    "\n"
   ]
  },
  {
   "cell_type": "code",
   "execution_count": 56,
   "metadata": {
    "id": "mES1WANa94u5"
   },
   "outputs": [
    {
     "name": "stdout",
     "output_type": "stream",
     "text": [
      "[10, 10.2, (10+20j), 'Python', [10, 20], (10, 20)]\n",
      "[10, 10.2, (10+20j), 'Python', [10, 20], (10, 20)]\n"
     ]
    }
   ],
   "source": [
    "#Write a Python program to copy a list using loop.\n",
    "#inp_lst = [10,10.20,10+20j, 'Python', [10,20], (10,20)]\n",
    "#out_lst = [10,10.20,10+20j, 'Python', [10,20], (10,20)]\n",
    "\n",
    "inp_lst = [10,10.20,10+20j, 'Python', [10,20], (10,20)]\n",
    "\n",
    "list2=[]\n",
    "for i in range(len(inp_lst)):\n",
    "    list2.append(inp_lst[i])\n",
    "\n",
    "print(inp_lst)\n",
    "print(list2)\n",
    "\n",
    "\n"
   ]
  },
  {
   "cell_type": "code",
   "execution_count": 74,
   "metadata": {
    "id": "CpBh31WO94yi"
   },
   "outputs": [
    {
     "name": "stdin",
     "output_type": "stream",
     "text": [
      "enter the string How much wood would a woodchuck chuck if a woodchuck could chuck wood\n"
     ]
    },
    {
     "name": "stdout",
     "output_type": "stream",
     "text": [
      "['How', 'much', 'wood', 'would', 'a', 'woodchuck', 'chuck', 'if', 'a', 'woodchuck', 'could', 'chuck', 'wood']\n",
      "['much', 'wood', 'would', 'woodchuck', 'chuck', 'could']\n"
     ]
    }
   ],
   "source": [
    "#Write a Python program to find the list of words that are longer than or equal to 4 from a given string.\n",
    "#Input:- 'How much wood would a woodchuck chuck if a woodchuck could chuck wood'\n",
    "#Output:- ['much', 'wood', 'would', 'woodchuck', 'chuck', 'could']\n",
    "#Note:- Duplicate should be avoided.\n",
    "\n",
    "inp_str=input(\"enter the string\")\n",
    "\n",
    "\n",
    "words=inp_str.split()  #split function is used to slice each word of a string by , or _ or . and makes a list\n",
    "print(words)\n",
    "\n",
    "output=[]\n",
    "for i in words:\n",
    "    if len(i)>=4 and i not in output:\n",
    "        output.append(i)\n",
    "\n",
    "print(output)\n",
    "\n",
    "\n",
    "\n",
    " \n",
    "\n"
   ]
  },
  {
   "cell_type": "code",
   "execution_count": 84,
   "metadata": {
    "colab": {
     "base_uri": "https://localhost:8080/"
    },
    "executionInfo": {
     "elapsed": 19,
     "status": "ok",
     "timestamp": 1647752819268,
     "user": {
      "displayName": "21st february",
      "photoUrl": "https://lh3.googleusercontent.com/a/default-user=s64",
      "userId": "16987346641192385828"
     },
     "user_tz": -330
    },
    "id": "YVfj0fgZ9416",
    "outputId": "36fb5b20-6727-45ae-ad09-d3559fc30aad"
   },
   "outputs": [
    {
     "name": "stdout",
     "output_type": "stream",
     "text": [
      "True\n"
     ]
    }
   ],
   "source": [
    "#Write a Python program which takes two list as input and returns True if they have at least 3 common elements.\n",
    "#inp_lst1 = [10,20,'Python', 10.20, 10+20j, [10,20,30], (10,20,30)]\n",
    "#inp_lst2 = [(10,20,30),1,20+3j,100.2, 10+20j, [10,20,30],'Python']\n",
    "#Output:- True\n",
    "\n",
    "inp_lst1 = [10,20,'Python', 10.20, 10+20j, [10,20,30], (10,20,30)]\n",
    "inp_lst2 = [(10,20,30),1,20+3j,100.2, 10+20j, [10,20,30],'Python']\n",
    "\n",
    "\n",
    "count=0\n",
    "for i in range(l_1):\n",
    "    for j in range(l_2):\n",
    "        if(inp_lst1[i]==inp_lst2[j]):\n",
    "            count+=1\n",
    "\n",
    "if count>3:\n",
    "    print(True)\n"
   ]
  },
  {
   "cell_type": "code",
   "execution_count": 91,
   "metadata": {
    "id": "7vwc3pjR945O"
   },
   "outputs": [
    {
     "name": "stdin",
     "output_type": "stream",
     "text": [
      "Enter the element of the list:  4\n"
     ]
    },
    {
     "ename": "TypeError",
     "evalue": "'int' object is not subscriptable",
     "output_type": "error",
     "traceback": [
      "\u001b[1;31m---------------------------------------------------------------------------\u001b[0m",
      "\u001b[1;31mTypeError\u001b[0m                                 Traceback (most recent call last)",
      "Cell \u001b[1;32mIn[91], line 9\u001b[0m\n\u001b[0;32m      7\u001b[0m \u001b[38;5;28;01mfor\u001b[39;00m j \u001b[38;5;129;01min\u001b[39;00m \u001b[38;5;28mrange\u001b[39m(\u001b[38;5;241m4\u001b[39m):\n\u001b[0;32m      8\u001b[0m     el\u001b[38;5;241m=\u001b[39m\u001b[38;5;28mint\u001b[39m(\u001b[38;5;28minput\u001b[39m(\u001b[38;5;124m\"\u001b[39m\u001b[38;5;124mEnter the element of the list: \u001b[39m\u001b[38;5;124m\"\u001b[39m))\n\u001b[1;32m----> 9\u001b[0m     \u001b[38;5;28mlist\u001b[39m[i][j]\u001b[38;5;241m.\u001b[39mappend(el)\n\u001b[0;32m     10\u001b[0m     \u001b[38;5;28mprint\u001b[39m(list1)\n",
      "\u001b[1;31mTypeError\u001b[0m: 'int' object is not subscriptable"
     ]
    }
   ],
   "source": [
    "#Write a Python program to create a 4X4 2D matrix with below elements using loop and list comprehension both.\n",
    "#Output:- [[0,0,0,0],[0,1,2,3],[0,2,4,6],[0,3,6,9]]\n",
    "\n",
    "list1=[]\n",
    "for i in range(4):\n",
    "    \n",
    "    for j in range(4):\n",
    "        el=int(input(\"Enter the element of the list: \"))\n",
    "        list[i][j].append(el)\n",
    "        print(list1)\n",
    "        \n",
    "        \n",
    "\n"
   ]
  },
  {
   "cell_type": "code",
   "execution_count": null,
   "metadata": {
    "id": "Pxafor84948b"
   },
   "outputs": [],
   "source": [
    "#Write a Python program to create a 3X4X6 3D matrix wiith below elements using loop\n",
    "#Output:- \n",
    "# [\n",
    "#     [[0,0,0,0,0,0],[0,0,0,0,0,0],[0,0,0,0,0,0],[0,0,0,0,0,0]],\n",
    "#     [[0,0,0,0,0,0],[1,1,1,1,1,1],[2,2,2,2,2,2],[3,3,3,3,3,3]],\n",
    "#     [[0,0,0,0,0,0],[2,2,2,2,2,2],[4,4,4,4,4,4],[6,6,6,6,6,6]]\n",
    "# ]\n",
    "\n",
    "\n"
   ]
  },
  {
   "cell_type": "code",
   "execution_count": null,
   "metadata": {
    "id": "lYNv8gk794_p"
   },
   "outputs": [],
   "source": [
    "#Write a Python program which takes a list of numbers as input and prints a new list after removing even numbers from it.\n",
    "#Input:- [10,21,22,98,87,45,33,1,2,100]\n",
    "#Output:- [21,87,45,33,1]\n",
    "\n",
    "\n"
   ]
  },
  {
   "cell_type": "code",
   "execution_count": null,
   "metadata": {
    "id": "3BaCb-rB95B7"
   },
   "outputs": [],
   "source": [
    "\n",
    "\n",
    "\n"
   ]
  }
 ],
 "metadata": {
  "colab": {
   "name": "List_Assignment.ipynb",
   "provenance": []
  },
  "kernelspec": {
   "display_name": "Python 3 (ipykernel)",
   "language": "python",
   "name": "python3"
  },
  "language_info": {
   "codemirror_mode": {
    "name": "ipython",
    "version": 3
   },
   "file_extension": ".py",
   "mimetype": "text/x-python",
   "name": "python",
   "nbconvert_exporter": "python",
   "pygments_lexer": "ipython3",
   "version": "3.11.7"
  }
 },
 "nbformat": 4,
 "nbformat_minor": 4
}
